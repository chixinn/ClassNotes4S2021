{
 "metadata": {
  "language_info": {
   "codemirror_mode": {
    "name": "ipython",
    "version": 3
   },
   "file_extension": ".py",
   "mimetype": "text/x-python",
   "name": "python",
   "nbconvert_exporter": "python",
   "pygments_lexer": "ipython3",
   "version": "3.8.6"
  },
  "orig_nbformat": 2,
  "kernelspec": {
   "name": "python386jvsc74a57bd00adcc2737ebf6a4a119f135174df96668767fca1ef1112612db5ecadf2b6d608",
   "display_name": "Python 3.8.6 64-bit"
  },
  "metadata": {
   "interpreter": {
    "hash": "0adcc2737ebf6a4a119f135174df96668767fca1ef1112612db5ecadf2b6d608"
   }
  }
 },
 "nbformat": 4,
 "nbformat_minor": 2,
 "cells": [
  {
   "cell_type": "code",
   "execution_count": 1,
   "metadata": {},
   "outputs": [],
   "source": [
    "import pandas as pd\n",
    "import re\n",
    "import jieba\n",
    "from datetime import datetime\n",
    "df=pd.DataFrame(pd.read_excel('fets.xls'))"
   ]
  },
  {
   "cell_type": "code",
   "execution_count": 2,
   "metadata": {},
   "outputs": [
    {
     "output_type": "execute_result",
     "data": {
      "text/plain": [
       "    id_fetches                                      title keywords author  \\\n",
       "37        1406  上海交大系统生物医学研究院在转录因子调控原钙粘蛋白三维基因组机制研究中取得重要进展      NaN    汤元宵   \n",
       "\n",
       "   publish_date            crawltime  \\\n",
       "37   04/15/2021  04/18/2021 19:44:44   \n",
       "\n",
       "                                              content  \n",
       "37  \\n                    北京时间4月14日，牛津大学出版社出版的、国际权...  "
      ],
      "text/html": "<div>\n<style scoped>\n    .dataframe tbody tr th:only-of-type {\n        vertical-align: middle;\n    }\n\n    .dataframe tbody tr th {\n        vertical-align: top;\n    }\n\n    .dataframe thead th {\n        text-align: right;\n    }\n</style>\n<table border=\"1\" class=\"dataframe\">\n  <thead>\n    <tr style=\"text-align: right;\">\n      <th></th>\n      <th>id_fetches</th>\n      <th>title</th>\n      <th>keywords</th>\n      <th>author</th>\n      <th>publish_date</th>\n      <th>crawltime</th>\n      <th>content</th>\n    </tr>\n  </thead>\n  <tbody>\n    <tr>\n      <th>37</th>\n      <td>1406</td>\n      <td>上海交大系统生物医学研究院在转录因子调控原钙粘蛋白三维基因组机制研究中取得重要进展</td>\n      <td>NaN</td>\n      <td>汤元宵</td>\n      <td>04/15/2021</td>\n      <td>04/18/2021 19:44:44</td>\n      <td>\\n                    北京时间4月14日，牛津大学出版社出版的、国际权...</td>\n    </tr>\n  </tbody>\n</table>\n</div>"
     },
     "metadata": {},
     "execution_count": 2
    }
   ],
   "source": [
    "df.sample()"
   ]
  },
  {
   "cell_type": "code",
   "execution_count": 3,
   "metadata": {},
   "outputs": [
    {
     "output_type": "stream",
     "name": "stdout",
     "text": [
      "<class 'pandas.core.frame.DataFrame'>\nRangeIndex: 182 entries, 0 to 181\nData columns (total 7 columns):\n #   Column        Non-Null Count  Dtype \n---  ------        --------------  ----- \n 0   id_fetches    182 non-null    int64 \n 1   title         182 non-null    object\n 2   keywords      124 non-null    object\n 3   author        170 non-null    object\n 4   publish_date  182 non-null    object\n 5   crawltime     182 non-null    object\n 6   content       182 non-null    object\ndtypes: int64(1), object(6)\nmemory usage: 10.1+ KB\n"
     ]
    }
   ],
   "source": [
    "df.info()"
   ]
  },
  {
   "cell_type": "code",
   "execution_count": 4,
   "metadata": {},
   "outputs": [],
   "source": [
    "def remove_punctuation(line):\n",
    "  rule = re.compile(u\"[^a-zA-Z0-9\\u4e00-\\u9fa5]\")\n",
    "  line = rule.sub('',line)\n",
    "  return line"
   ]
  },
  {
   "cell_type": "code",
   "execution_count": 5,
   "metadata": {},
   "outputs": [
    {
     "output_type": "stream",
     "name": "stderr",
     "text": [
      "Building prefix dict from the default dictionary ...\n",
      "Loading model from cache /var/folders/xn/lsx6487s6bd4jxbyb5k2ktq40000gn/T/jieba.cache\n",
      "Loading model cost 0.784 seconds.\n",
      "Prefix dict has been built successfully.\n"
     ]
    }
   ],
   "source": [
    "key_time_list=[]\n",
    "for index, row in df.iterrows():\n",
    "    tmp_dict={}\n",
    "    keywords_raw=row['title']+row['content']\n",
    "    keywords_after=remove_punctuation(keywords_raw)\n",
    "    keywords_seg=jieba.cut(keywords_after,cut_all=True)\n",
    "    keywords=\",\".join(keywords_seg)# keywords这里是\"str\"类型\n",
    "    timeStr=row['publish_date']\n",
    "    # print(timeStr)\n",
    "    try:\n",
    "        y = datetime.strptime(timeStr, '%d/%m/%Y')\n",
    "        if y.month>4:\n",
    "             y = datetime.strptime(timeStr, '%m/%d/%Y')\n",
    "    except:\n",
    "        y = datetime.strptime(timeStr, '%m/%d/%Y')\n",
    "    tmp_dict[keywords]=y\n",
    "    key_time_list.append(tmp_dict)"
   ]
  },
  {
   "cell_type": "code",
   "execution_count": 6,
   "metadata": {},
   "outputs": [],
   "source": [
    "key_time_list_all=[]\n",
    "for i in key_time_list:\n",
    "    for j in i.keys():\n",
    "        keywords_list=j.split(\",\")\n",
    "        for k in keywords_list:\n",
    "            tmp_dict={}\n",
    "            tmp_dict[k]=i[j]\n",
    "            key_time_list_all.append(tmp_dict)"
   ]
  },
  {
   "cell_type": "code",
   "execution_count": 7,
   "metadata": {},
   "outputs": [],
   "source": [
    "time_dict={}\n",
    "for i in key_time_list_all:\n",
    "    for v in i.values():\n",
    "        time_dict[v]=0"
   ]
  },
  {
   "cell_type": "code",
   "execution_count": 8,
   "metadata": {},
   "outputs": [],
   "source": [
    "time_dictsss={}\n",
    "for i in key_time_list_all:\n",
    "    for v in i.values():\n",
    "        time_dictsss[v]=0"
   ]
  },
  {
   "cell_type": "code",
   "execution_count": 9,
   "metadata": {},
   "outputs": [
    {
     "output_type": "execute_result",
     "data": {
      "text/plain": [
       "161235"
      ]
     },
     "metadata": {},
     "execution_count": 9
    }
   ],
   "source": [
    "len(key_time_list_all)"
   ]
  },
  {
   "cell_type": "code",
   "execution_count": 10,
   "metadata": {},
   "outputs": [],
   "source": [
    "for i in key_time_list_all:\n",
    "    for k in i.keys():\n",
    "        if (k=='上海'):\n",
    "            count1=time_dict[i[k]]\n",
    "            count1=count1+1\n",
    "            time_dict[i[k]]=count1"
   ]
  },
  {
   "cell_type": "code",
   "execution_count": 11,
   "metadata": {},
   "outputs": [],
   "source": [
    "for i in key_time_list_all:\n",
    "    for k in i.keys():\n",
    "        if (k=='健康'):\n",
    "            count=time_dictsss[i[k]]\n",
    "            count=count+1\n",
    "            time_dictsss[i[k]]=count"
   ]
  },
  {
   "cell_type": "code",
   "execution_count": 12,
   "metadata": {},
   "outputs": [],
   "source": [
    "#!/usr/bin/python3\n",
    "# -*- coding: utf-8 -*-\n",
    "\n",
    "# 导入CSV安装包\n",
    "import csv\n",
    "\n",
    "# 1. 创建文件对象\n",
    "f = open('healthy_count.csv','w',encoding='utf-8')\n",
    "\n",
    "# 2. 基于文件对象构建 csv写入对象\n",
    "csv_writer = csv.writer(f)\n",
    "\n",
    "# 3. 构建列表头\n",
    "csv_writer.writerow([\"date\",\"count\"])\n",
    "\n",
    "# 4. 写入csv文件内容\n",
    "for k in sorted(time_dictsss.keys()):\n",
    "    csv_writer.writerow([k,time_dictsss[k]])\n",
    "\n",
    "\n",
    "# 5. 关闭文件\n",
    "f.close()\n"
   ]
  },
  {
   "cell_type": "code",
   "execution_count": 13,
   "metadata": {},
   "outputs": [],
   "source": [
    "#!/usr/bin/python3\n",
    "# -*- coding: utf-8 -*-\n",
    "\n",
    "# 导入CSV安装包\n",
    "import csv\n",
    "\n",
    "# 1. 创建文件对象\n",
    "f = open('shanghai_count.csv','w',encoding='utf-8')\n",
    "\n",
    "# 2. 基于文件对象构建 csv写入对象\n",
    "csv_writer = csv.writer(f)\n",
    "\n",
    "# 3. 构建列表头\n",
    "csv_writer.writerow([\"date\",\"count\"])\n",
    "\n",
    "# 4. 写入csv文件内容\n",
    "for k in sorted(time_dict.keys()):\n",
    "    csv_writer.writerow([k,time_dict[k]])\n",
    "\n",
    "\n",
    "# 5. 关闭文件\n",
    "f.close()\n"
   ]
  },
  {
   "cell_type": "code",
   "execution_count": null,
   "metadata": {},
   "outputs": [],
   "source": []
  },
  {
   "cell_type": "code",
   "execution_count": 14,
   "metadata": {},
   "outputs": [],
   "source": [
    "# 导入CSV安装包\n",
    "import csv\n",
    "\n",
    "# 1. 创建文件对象\n",
    "f = open('words.csv','w',encoding='utf-8')\n",
    "\n",
    "# 2. 基于文件对象构建 csv写入对象\n",
    "csv_writer = csv.writer(f)\n",
    "\n",
    "# 3. 构建列表头\n",
    "csv_writer.writerow([\"keywords\"])\n",
    "\n",
    "# 4. 写入csv文件内容\n",
    "for i in key_time_list_all:\n",
    "    for k in i.keys():\n",
    "        csv_writer.writerow([k])\n",
    "\n",
    "\n",
    "# 5. 关闭文件\n",
    "f.close()"
   ]
  }
 ]
}