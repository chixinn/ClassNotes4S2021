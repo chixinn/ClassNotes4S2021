{
 "cells": [
  {
   "cell_type": "markdown",
   "metadata": {},
   "source": [
    "# Week5 Multiple Linear Regression\n",
    "## 背景描述  \n",
    "记录了一个班级 22 名学生, 在统计课上的两次预试成绩 (P1,P2) 和最后的期末成绩 F。  \n",
    "由此我们构造了 22 个观测的 3 个变量，具体请见下表：\n",
    "\n",
    "## 数据描述\n",
    "| 变量名 | 变量含义 | 变量类型 | 变量取值范围 |\n",
    "| :----------: | :--------: | :----------: | :----------: |\n",
    "| （自变量）$P_1$ | 第一次预试成绩 | continuous variable | $\\mathbb{R}^+$ |\n",
    "| （自变量）$P_2$ | 第二次预试成绩 | continuous variable | $\\mathbb{R}^+$ |\n",
    "| （因变量）$F$ | 期末成绩 | continuous variable | $\\mathbb{R}^+$ |"
   ]
  },
  {
   "cell_type": "markdown",
   "metadata": {},
   "source": [
    "## 问题\n",
    "这里使用 $\\alpha=0.05$ 的水平\n",
    "1. 请用统计模型描述前两次预试成绩和最后的期末成绩之间的关系.\n",
    "2. 请问Q1中所建立的模型是否合理. \n",
    "3. 张三同学（不在这 22 学生中）的前两次预试成绩分别为 88 分和 92 分，请给出一个合理的区间，来预测他的期末成绩能考多少分.\n",
    "\n",
    "## 解决方案"
   ]
  },
  {
   "cell_type": "markdown",
   "metadata": {},
   "source": [
    "**Q1:**  \n",
    "列出线性模型为：$Y = \\beta_0 + \\beta_1X_1 + \\beta_2X_2 + \\epsilon$"
   ]
  },
  {
   "cell_type": "code",
   "execution_count": 1,
   "metadata": {},
   "outputs": [
    {
     "output_type": "stream",
     "name": "stdout",
     "text": [
      "   intercept    P1    P2     F\n0        1.0  78.0  73.0  68.0\n1        1.0  74.0  76.0  75.0\n2        1.0  82.0  79.0  85.0\n3        1.0  90.0  96.0  94.0\n4        1.0  87.0  90.0  86.0\n5        1.0  90.0  92.0  90.0\n6        1.0  83.0  95.0  86.0\n7        1.0  72.0  69.0  68.0\n8        1.0  68.0  67.0  55.0\n9        1.0  69.0  70.0  69.0\n"
     ]
    }
   ],
   "source": [
    "# Import standard packages\n",
    "import numpy as np\n",
    "import pandas as pd\n",
    "import scipy.stats as stats\n",
    "import matplotlib.pyplot as plt\n",
    "import math\n",
    "\n",
    "# Import additional packages\n",
    "from statsmodels.formula.api import ols\n",
    "from statsmodels.stats.anova import anova_lm\n",
    "from scipy.stats import f\n",
    "from scipy.stats import t\n",
    "\n",
    "alpha = 0.05\n",
    "p = 2\n",
    "n = 88\n",
    "# 把1这一项插入原始数据里面\n",
    "x = pd.read_csv('Examination_Data.csv')\n",
    "x.insert(0, 'intercept', np.ones(len(x))) \n",
    "data = x.values * 1\n",
    "df = pd.DataFrame(data, columns = ['intercept', 'P1', 'P2', 'F'])\n",
    "print(df.head(10))\n",
    "\n",
    "\n",
    "\n"
   ]
  },
  {
   "cell_type": "code",
   "execution_count": 2,
   "metadata": {},
   "outputs": [],
   "source": [
    "# 可以用一些方法提取这些表里面的统计量"
   ]
  },
  {
   "cell_type": "code",
   "execution_count": 3,
   "metadata": {},
   "outputs": [
    {
     "output_type": "stream",
     "name": "stdout",
     "text": [
      "参数估计值: \n Intercept   -14.5005\nP1            0.4883\nP2            0.6720\ndtype: float64\n"
     ]
    },
    {
     "output_type": "execute_result",
     "data": {
      "text/plain": [
       "<class 'statsmodels.iolib.summary.Summary'>\n",
       "\"\"\"\n",
       "                            OLS Regression Results                            \n",
       "==============================================================================\n",
       "Dep. Variable:                      F   R-squared:                       0.886\n",
       "Model:                            OLS   Adj. R-squared:                  0.884\n",
       "Method:                 Least Squares   F-statistic:                     331.4\n",
       "Date:                Wed, 14 Apr 2021   Prob (F-statistic):           7.36e-41\n",
       "Time:                        11:05:08   Log-Likelihood:                -239.36\n",
       "No. Observations:                  88   AIC:                             484.7\n",
       "Df Residuals:                      85   BIC:                             492.2\n",
       "Df Model:                           2                                         \n",
       "Covariance Type:            nonrobust                                         \n",
       "==============================================================================\n",
       "                 coef    std err          t      P>|t|      [0.025      0.975]\n",
       "------------------------------------------------------------------------------\n",
       "Intercept    -14.5005      4.367     -3.321      0.001     -23.182      -5.819\n",
       "P1             0.4883      0.110      4.433      0.000       0.269       0.707\n",
       "P2             0.6720      0.085      7.928      0.000       0.504       0.841\n",
       "==============================================================================\n",
       "Omnibus:                        2.819   Durbin-Watson:                   1.989\n",
       "Prob(Omnibus):                  0.244   Jarque-Bera (JB):                2.810\n",
       "Skew:                          -0.410   Prob(JB):                        0.245\n",
       "Kurtosis:                       2.696   Cond. No.                     1.29e+03\n",
       "==============================================================================\n",
       "\n",
       "Notes:\n",
       "[1] Standard Errors assume that the covariance matrix of the errors is correctly specified.\n",
       "[2] The condition number is large, 1.29e+03. This might indicate that there are\n",
       "strong multicollinearity or other numerical problems.\n",
       "\"\"\""
      ],
      "text/html": "<table class=\"simpletable\">\n<caption>OLS Regression Results</caption>\n<tr>\n  <th>Dep. Variable:</th>            <td>F</td>        <th>  R-squared:         </th> <td>   0.886</td>\n</tr>\n<tr>\n  <th>Model:</th>                   <td>OLS</td>       <th>  Adj. R-squared:    </th> <td>   0.884</td>\n</tr>\n<tr>\n  <th>Method:</th>             <td>Least Squares</td>  <th>  F-statistic:       </th> <td>   331.4</td>\n</tr>\n<tr>\n  <th>Date:</th>             <td>Wed, 14 Apr 2021</td> <th>  Prob (F-statistic):</th> <td>7.36e-41</td>\n</tr>\n<tr>\n  <th>Time:</th>                 <td>11:05:08</td>     <th>  Log-Likelihood:    </th> <td> -239.36</td>\n</tr>\n<tr>\n  <th>No. Observations:</th>      <td>    88</td>      <th>  AIC:               </th> <td>   484.7</td>\n</tr>\n<tr>\n  <th>Df Residuals:</th>          <td>    85</td>      <th>  BIC:               </th> <td>   492.2</td>\n</tr>\n<tr>\n  <th>Df Model:</th>              <td>     2</td>      <th>                     </th>     <td> </td>   \n</tr>\n<tr>\n  <th>Covariance Type:</th>      <td>nonrobust</td>    <th>                     </th>     <td> </td>   \n</tr>\n</table>\n<table class=\"simpletable\">\n<tr>\n      <td></td>         <th>coef</th>     <th>std err</th>      <th>t</th>      <th>P>|t|</th>  <th>[0.025</th>    <th>0.975]</th>  \n</tr>\n<tr>\n  <th>Intercept</th> <td>  -14.5005</td> <td>    4.367</td> <td>   -3.321</td> <td> 0.001</td> <td>  -23.182</td> <td>   -5.819</td>\n</tr>\n<tr>\n  <th>P1</th>        <td>    0.4883</td> <td>    0.110</td> <td>    4.433</td> <td> 0.000</td> <td>    0.269</td> <td>    0.707</td>\n</tr>\n<tr>\n  <th>P2</th>        <td>    0.6720</td> <td>    0.085</td> <td>    7.928</td> <td> 0.000</td> <td>    0.504</td> <td>    0.841</td>\n</tr>\n</table>\n<table class=\"simpletable\">\n<tr>\n  <th>Omnibus:</th>       <td> 2.819</td> <th>  Durbin-Watson:     </th> <td>   1.989</td>\n</tr>\n<tr>\n  <th>Prob(Omnibus):</th> <td> 0.244</td> <th>  Jarque-Bera (JB):  </th> <td>   2.810</td>\n</tr>\n<tr>\n  <th>Skew:</th>          <td>-0.410</td> <th>  Prob(JB):          </th> <td>   0.245</td>\n</tr>\n<tr>\n  <th>Kurtosis:</th>      <td> 2.696</td> <th>  Cond. No.          </th> <td>1.29e+03</td>\n</tr>\n</table><br/><br/>Notes:<br/>[1] Standard Errors assume that the covariance matrix of the errors is correctly specified.<br/>[2] The condition number is large, 1.29e+03. This might indicate that there are<br/>strong multicollinearity or other numerical problems."
     },
     "metadata": {},
     "execution_count": 3
    }
   ],
   "source": [
    "# Do the multiple linear regression\n",
    "model = ols('F ~ P1 + P2', df).fit()\n",
    "beta = model.params\n",
    "print('参数估计值: \\n', round(beta, 4))\n",
    "X = data[:, 0 : p + 1]\n",
    "Y = data[:, -1]\n",
    "Y_hat = model.fittedvalues\n",
    "model.summary()"
   ]
  },
  {
   "cell_type": "code",
   "execution_count": 4,
   "metadata": {},
   "outputs": [
    {
     "output_type": "stream",
     "name": "stdout",
     "text": [
      "Y_hat = -14.50 + (0.49 * X1) + (0.67 * X2)\n"
     ]
    }
   ],
   "source": [
    "# 输出一元线性回归方程\n",
    "print('Y_hat = %.2f + (%.2f * X1) + (%.2f * X2)' % (beta[0], beta[1], beta[2]))"
   ]
  },
  {
   "cell_type": "markdown",
   "metadata": {},
   "source": [
    "**将数据中心化之后，求经验回归方程：**"
   ]
  },
  {
   "cell_type": "code",
   "execution_count": 5,
   "metadata": {},
   "outputs": [
    {
     "output_type": "stream",
     "name": "stdout",
     "text": [
      "参数估计值: \n Intercept    0.0000\nP1_cent      0.4883\nP2_cent      0.6720\ndtype: float64\n"
     ]
    },
    {
     "output_type": "execute_result",
     "data": {
      "text/plain": [
       "<class 'statsmodels.iolib.summary.Summary'>\n",
       "\"\"\"\n",
       "                            OLS Regression Results                            \n",
       "==============================================================================\n",
       "Dep. Variable:                 F_cent   R-squared:                       0.886\n",
       "Model:                            OLS   Adj. R-squared:                  0.884\n",
       "Method:                 Least Squares   F-statistic:                     331.4\n",
       "Date:                Wed, 14 Apr 2021   Prob (F-statistic):           7.36e-41\n",
       "Time:                        11:05:08   Log-Likelihood:                -239.36\n",
       "No. Observations:                  88   AIC:                             484.7\n",
       "Df Residuals:                      85   BIC:                             492.2\n",
       "Df Model:                           2                                         \n",
       "Covariance Type:            nonrobust                                         \n",
       "==============================================================================\n",
       "                 coef    std err          t      P>|t|      [0.025      0.975]\n",
       "------------------------------------------------------------------------------\n",
       "Intercept   3.331e-15      0.398   8.36e-15      1.000      -0.792       0.792\n",
       "P1_cent        0.4883      0.110      4.433      0.000       0.269       0.707\n",
       "P2_cent        0.6720      0.085      7.928      0.000       0.504       0.841\n",
       "==============================================================================\n",
       "Omnibus:                        2.819   Durbin-Watson:                   1.989\n",
       "Prob(Omnibus):                  0.244   Jarque-Bera (JB):                2.810\n",
       "Skew:                          -0.410   Prob(JB):                        0.245\n",
       "Kurtosis:                       2.696   Cond. No.                         12.3\n",
       "==============================================================================\n",
       "\n",
       "Notes:\n",
       "[1] Standard Errors assume that the covariance matrix of the errors is correctly specified.\n",
       "\"\"\""
      ],
      "text/html": "<table class=\"simpletable\">\n<caption>OLS Regression Results</caption>\n<tr>\n  <th>Dep. Variable:</th>         <td>F_cent</td>      <th>  R-squared:         </th> <td>   0.886</td>\n</tr>\n<tr>\n  <th>Model:</th>                   <td>OLS</td>       <th>  Adj. R-squared:    </th> <td>   0.884</td>\n</tr>\n<tr>\n  <th>Method:</th>             <td>Least Squares</td>  <th>  F-statistic:       </th> <td>   331.4</td>\n</tr>\n<tr>\n  <th>Date:</th>             <td>Wed, 14 Apr 2021</td> <th>  Prob (F-statistic):</th> <td>7.36e-41</td>\n</tr>\n<tr>\n  <th>Time:</th>                 <td>11:05:08</td>     <th>  Log-Likelihood:    </th> <td> -239.36</td>\n</tr>\n<tr>\n  <th>No. Observations:</th>      <td>    88</td>      <th>  AIC:               </th> <td>   484.7</td>\n</tr>\n<tr>\n  <th>Df Residuals:</th>          <td>    85</td>      <th>  BIC:               </th> <td>   492.2</td>\n</tr>\n<tr>\n  <th>Df Model:</th>              <td>     2</td>      <th>                     </th>     <td> </td>   \n</tr>\n<tr>\n  <th>Covariance Type:</th>      <td>nonrobust</td>    <th>                     </th>     <td> </td>   \n</tr>\n</table>\n<table class=\"simpletable\">\n<tr>\n      <td></td>         <th>coef</th>     <th>std err</th>      <th>t</th>      <th>P>|t|</th>  <th>[0.025</th>    <th>0.975]</th>  \n</tr>\n<tr>\n  <th>Intercept</th> <td> 3.331e-15</td> <td>    0.398</td> <td> 8.36e-15</td> <td> 1.000</td> <td>   -0.792</td> <td>    0.792</td>\n</tr>\n<tr>\n  <th>P1_cent</th>   <td>    0.4883</td> <td>    0.110</td> <td>    4.433</td> <td> 0.000</td> <td>    0.269</td> <td>    0.707</td>\n</tr>\n<tr>\n  <th>P2_cent</th>   <td>    0.6720</td> <td>    0.085</td> <td>    7.928</td> <td> 0.000</td> <td>    0.504</td> <td>    0.841</td>\n</tr>\n</table>\n<table class=\"simpletable\">\n<tr>\n  <th>Omnibus:</th>       <td> 2.819</td> <th>  Durbin-Watson:     </th> <td>   1.989</td>\n</tr>\n<tr>\n  <th>Prob(Omnibus):</th> <td> 0.244</td> <th>  Jarque-Bera (JB):  </th> <td>   2.810</td>\n</tr>\n<tr>\n  <th>Skew:</th>          <td>-0.410</td> <th>  Prob(JB):          </th> <td>   0.245</td>\n</tr>\n<tr>\n  <th>Kurtosis:</th>      <td> 2.696</td> <th>  Cond. No.          </th> <td>    12.3</td>\n</tr>\n</table><br/><br/>Notes:<br/>[1] Standard Errors assume that the covariance matrix of the errors is correctly specified."
     },
     "metadata": {},
     "execution_count": 5
    }
   ],
   "source": [
    "# 求均值\n",
    "X_mean = []\n",
    "for k in range(p + 1):\n",
    "    X_mean.append(np.mean(data[:, k]))  # 自变量 x 的均值\n",
    "Y_mean = np.mean(data[:, -1])  # 因变量 y 的均值\n",
    "\n",
    "# 数据中心化\n",
    "X_cent = X - X_mean\n",
    "Y_cent = Y - Y_mean\n",
    "\n",
    "# Do the multiple linear regression\n",
    "df = pd.DataFrame(X_cent, columns = ['intercept_cent', 'P1_cent', 'P2_cent'])\n",
    "df['F_cent'] = Y_cent\n",
    "model_cent = ols('F_cent ~ P1_cent + P2_cent', df).fit()\n",
    "beta_cent = model_cent.params\n",
    "print('参数估计值: \\n', round(beta_cent, 4))\n",
    "Y_hat_cent = model_cent.fittedvalues\n",
    "model_cent.summary()"
   ]
  },
  {
   "cell_type": "code",
   "execution_count": 6,
   "metadata": {},
   "outputs": [
    {
     "output_type": "stream",
     "name": "stdout",
     "text": [
      "Y_hat_cent = 0.00 + (0.49 * X1_cent) + (0.67 * X2_cent)\n"
     ]
    }
   ],
   "source": [
    "# 输出中心化后的一元线性回归方程\n",
    "print('Y_hat_cent = %.2f + (%.2f * X1_cent) + (%.2f * X2_cent)' % (beta_cent[0], beta_cent[1], beta_cent[2]))"
   ]
  },
  {
   "cell_type": "markdown",
   "metadata": {},
   "source": [
    "我们可以发现，对数据进行中心化之后回归常数变为 0，而回归系数值未改变。"
   ]
  },
  {
   "cell_type": "markdown",
   "metadata": {},
   "source": [
    "**Q2:**  "
   ]
  },
  {
   "cell_type": "code",
   "execution_count": 7,
   "metadata": {},
   "outputs": [],
   "source": [
    "# 求解相关项\n",
    "SSE = sum((Y - Y_hat) ** 2)\n",
    "SST = sum((Y - Y_mean) ** 2)\n",
    "SSR = sum((Y_hat - Y_mean) ** 2)\n",
    "\n",
    "sigma2 = SSE / (n - p - 1)  # 方差\n",
    "sigma = np.sqrt(sigma2)  # 标准差\n",
    "\n",
    "c = np.dot(X.T, X) #C=(x'x)^{-1}\n",
    "C = np.linalg.inv(c)  # 求逆\n",
    "# print(C)"
   ]
  },
  {
   "cell_type": "markdown",
   "metadata": {},
   "source": [
    "**一元线性模型的显著性检验——F 检验:**  \n",
    "检验假设：$H_0: \\beta_1=\\beta_2=0$ vs $H_1: \\exists \\beta_i \\neq 0,i=1,2$"
   ]
  },
  {
   "cell_type": "code",
   "execution_count": 8,
   "metadata": {},
   "outputs": [
    {
     "output_type": "stream",
     "name": "stdout",
     "text": [
      "F0: 331.35\npVal1: 0.00\n\nSince p-value < 0.05, reject H0.\nSince F0 > F(0.95, 2, 19) = 3.10, reject H0.\n"
     ]
    }
   ],
   "source": [
    "# 计算F0\n",
    "F0 = (SSR / p) / (SSE / (n - p - 1))\n",
    "# F0 = model.fvalue\n",
    "print('F0: %.2f' % F0)\n",
    "F = round(f.ppf(0.95, dfn = p, dfd = n - p - 1), 2)\n",
    "\n",
    "# 法1：\n",
    "pVal1 = f.sf(F0, p, n - p - 1)\n",
    "# pVal1 = model.f_pvalue\n",
    "print('pVal1: %.2f' % pVal1)\n",
    "if pVal1 < alpha:\n",
    "    print('\\nSince p-value < 0.05, reject H0.')\n",
    "else:\n",
    "    print('\\nAccept H0.') \n",
    "\n",
    "# 法2：\n",
    "if F0 > F:\n",
    "    print('Since F0 > F(0.95, 2, 19) = %.2f, reject H0.' % F)\n",
    "else:\n",
    "    print('Accept H0.') "
   ]
  },
  {
   "cell_type": "markdown",
   "metadata": {},
   "source": [
    "由 F 检验结果可知，该回归方程是显著的。"
   ]
  },
  {
   "cell_type": "markdown",
   "metadata": {},
   "source": [
    "**一元线性模型的显著性检验——t 检验:**  \n",
    "检验假设：$H_{0j}: \\beta_j=0$ vs $H_{1j}: \\beta_j \\neq 0,j=1,2$"
   ]
  },
  {
   "cell_type": "code",
   "execution_count": 9,
   "metadata": {},
   "outputs": [
    {
     "output_type": "stream",
     "name": "stdout",
     "text": [
      "t0值为： [-3.3209  4.4331  7.9284]\nt的临界值为：1.9883\nP值为： [0.0007 0.     0.    ]\n\n\nSince p1-value < 0.05, reject H01.\nSince p2-value < 0.05, reject H02.\n\n\nSince t01 > t(0.975, 19) = 1.9883, reject H01\nSince t02 > t(0.975, 19) = 1.9883, reject H02\n"
     ]
    }
   ],
   "source": [
    "# t检验\n",
    "t0 = []\n",
    "for i in range(p + 1):   \n",
    "    t0.append(beta[i] / (np.sqrt(C[i][i] * sigma2)))  # 求t值\n",
    "# t0 = model.tvalues\n",
    "print('t0值为：', np.round(t0, 4))\n",
    "tVal = t.ppf(1 - alpha / 2, n - p - 1)\n",
    "print('t的临界值为：%.4f' % tVal)\n",
    "pVal2 = []\n",
    "for i in range(p + 1):\n",
    "    P = t.sf(abs(t0[i]), n - p - 1)\n",
    "    pVal2.append(P)  # 已知临界值求p值\n",
    "# pVal2 = model.pvalues / 2\n",
    "print('P值为：', np.round(pVal2, 4))\n",
    "\n",
    "print('\\n')\n",
    "# 法1：\n",
    "for i in range(p):\n",
    "    if pVal2[i + 1] < alpha:\n",
    "        print ('Since p%d-value < 0.05, reject H0%d.' % (i + 1, i + 1))\n",
    "    else:\n",
    "        print('Accept H0%d.' % (i + 1))\n",
    "print('\\n')   \n",
    "\n",
    "# 法2：\n",
    "for i in range(p):\n",
    "    if abs(t0[i + 1]) > tVal:\n",
    "        print('Since t0%d > t(0.975, 19) = %.4f, reject H0%d' % (i + 1, tVal, i + 1))\n",
    "    else:\n",
    "        print('Accept H0%d.' % (i + 1)) "
   ]
  },
  {
   "cell_type": "markdown",
   "metadata": {},
   "source": [
    "由 t 检验结果可知，各回归系数都是显著的。"
   ]
  },
  {
   "cell_type": "markdown",
   "metadata": {},
   "source": [
    "**复相关系数（可决系数）的检验:**"
   ]
  },
  {
   "cell_type": "code",
   "execution_count": 10,
   "metadata": {},
   "outputs": [
    {
     "output_type": "stream",
     "name": "stdout",
     "text": [
      "可决系数：0.8863\n调整可决系数：0.8836\n"
     ]
    }
   ],
   "source": [
    "# R-square 可决系数\n",
    "R2 = SSR / SST\n",
    "print('可决系数：%.4f' % R2)\n",
    "\n",
    "# 调整可决系数 ，解释变量的数量与拟合的好坏\n",
    "R2c = 1 - (SSE/(n-p-1)) / (SST/(n-1))\n",
    "print('调整可决系数：%.4f' % R2c)"
   ]
  },
  {
   "cell_type": "markdown",
   "metadata": {},
   "source": [
    "由于复相关系数（可决系数）值接近1，可以说明整体上 $X_1,X_2$ 与 $Y$ 呈线性关系。"
   ]
  },
  {
   "cell_type": "markdown",
   "metadata": {},
   "source": [
    "综上所述，Q1中所建的多元线性回归模型是合理的。"
   ]
  },
  {
   "cell_type": "markdown",
   "metadata": {},
   "source": [
    "**残差分析0: 计算期末成绩的残差**"
   ]
  },
  {
   "cell_type": "code",
   "execution_count": 11,
   "metadata": {},
   "outputs": [
    {
     "output_type": "stream",
     "name": "stdout",
     "text": [
      "   intercept    P1    P2     F_res\n0        1.0  78.0  73.0 -4.648389\n1        1.0  74.0  76.0  2.288855\n2        1.0  82.0  79.0  6.366048\n3        1.0  90.0  96.0  0.034742\n4        1.0  87.0  90.0 -2.468031\n"
     ]
    }
   ],
   "source": [
    "# 用残差分析这里\n",
    "# 计算期末成绩的残差\n",
    "data_res = data * 1.0  # 乘1.0 不然会损失精度\n",
    "for i in range(n):\n",
    "    data_res[:, p + 1] = Y - Y_hat\n",
    "df = pd.DataFrame(data_res, columns = ['intercept', 'P1', 'P2', 'F_res'])\n",
    "res = data_res[:, p + 1]\n",
    "# res = model.resid\n",
    "print(df.head())"
   ]
  },
  {
   "cell_type": "markdown",
   "metadata": {},
   "source": [
    "**残差分析1: 残差的正态概率图**   \n",
    "使用残差正态概率图可验证残差呈正态分布的假设。残差的正态概率图应该大致为一条直线。"
   ]
  },
  {
   "cell_type": "code",
   "execution_count": 12,
   "metadata": {
    "scrolled": true
   },
   "outputs": [
    {
     "output_type": "display_data",
     "data": {
      "text/plain": "<Figure size 432x288 with 1 Axes>",
      "image/svg+xml": "<?xml version=\"1.0\" encoding=\"utf-8\" standalone=\"no\"?>\n<!DOCTYPE svg PUBLIC \"-//W3C//DTD SVG 1.1//EN\"\n  \"http://www.w3.org/Graphics/SVG/1.1/DTD/svg11.dtd\">\n<!-- Created with matplotlib (https://matplotlib.org/) -->\n<svg height=\"277.314375pt\" version=\"1.1\" viewBox=\"0 0 394.160937 277.314375\" width=\"394.160937pt\" xmlns=\"http://www.w3.org/2000/svg\" xmlns:xlink=\"http://www.w3.org/1999/xlink\">\n <metadata>\n  <rdf:RDF xmlns:cc=\"http://creativecommons.org/ns#\" xmlns:dc=\"http://purl.org/dc/elements/1.1/\" xmlns:rdf=\"http://www.w3.org/1999/02/22-rdf-syntax-ns#\">\n   <cc:Work>\n    <dc:type rdf:resource=\"http://purl.org/dc/dcmitype/StillImage\"/>\n    <dc:date>2021-04-14T11:05:08.739016</dc:date>\n    <dc:format>image/svg+xml</dc:format>\n    <dc:creator>\n     <cc:Agent>\n      <dc:title>Matplotlib v3.3.2, https://matplotlib.org/</dc:title>\n     </cc:Agent>\n    </dc:creator>\n   </cc:Work>\n  </rdf:RDF>\n </metadata>\n <defs>\n  <style type=\"text/css\">*{stroke-linecap:butt;stroke-linejoin:round;}</style>\n </defs>\n <g id=\"figure_1\">\n  <g id=\"patch_1\">\n   <path d=\"M 0 277.314375 \nL 394.160937 277.314375 \nL 394.160937 0 \nL 0 0 \nz\n\" style=\"fill:none;\"/>\n  </g>\n  <g id=\"axes_1\">\n   <g id=\"patch_2\">\n    <path d=\"M 52.160938 239.758125 \nL 386.960938 239.758125 \nL 386.960938 22.318125 \nL 52.160938 22.318125 \nz\n\" style=\"fill:#ffffff;\"/>\n   </g>\n   <g id=\"matplotlib.axis_1\">\n    <g id=\"xtick_1\">\n     <g id=\"line2d_1\">\n      <path clip-path=\"url(#pd21d1c8956)\" d=\"M 93.583332 239.758125 \nL 93.583332 22.318125 \n\" style=\"fill:none;stroke:#b0b0b0;stroke-linecap:square;stroke-width:0.8;\"/>\n     </g>\n     <g id=\"line2d_2\">\n      <defs>\n       <path d=\"M 0 0 \nL 0 3.5 \n\" id=\"m2c43b6cf2c\" style=\"stroke:#000000;stroke-width:0.8;\"/>\n      </defs>\n      <g>\n       <use style=\"stroke:#000000;stroke-width:0.8;\" x=\"93.583332\" xlink:href=\"#m2c43b6cf2c\" y=\"239.758125\"/>\n      </g>\n     </g>\n     <g id=\"text_1\">\n      <!-- −2 -->\n      <g transform=\"translate(86.212238 254.356562)scale(0.1 -0.1)\">\n       <defs>\n        <path d=\"M 10.59375 35.5 \nL 73.1875 35.5 \nL 73.1875 27.203125 \nL 10.59375 27.203125 \nz\n\" id=\"DejaVuSans-8722\"/>\n        <path d=\"M 19.1875 8.296875 \nL 53.609375 8.296875 \nL 53.609375 0 \nL 7.328125 0 \nL 7.328125 8.296875 \nQ 12.9375 14.109375 22.625 23.890625 \nQ 32.328125 33.6875 34.8125 36.53125 \nQ 39.546875 41.84375 41.421875 45.53125 \nQ 43.3125 49.21875 43.3125 52.78125 \nQ 43.3125 58.59375 39.234375 62.25 \nQ 35.15625 65.921875 28.609375 65.921875 \nQ 23.96875 65.921875 18.8125 64.3125 \nQ 13.671875 62.703125 7.8125 59.421875 \nL 7.8125 69.390625 \nQ 13.765625 71.78125 18.9375 73 \nQ 24.125 74.21875 28.421875 74.21875 \nQ 39.75 74.21875 46.484375 68.546875 \nQ 53.21875 62.890625 53.21875 53.421875 \nQ 53.21875 48.921875 51.53125 44.890625 \nQ 49.859375 40.875 45.40625 35.40625 \nQ 44.1875 33.984375 37.640625 27.21875 \nQ 31.109375 20.453125 19.1875 8.296875 \nz\n\" id=\"DejaVuSans-50\"/>\n       </defs>\n       <use xlink:href=\"#DejaVuSans-8722\"/>\n       <use x=\"83.789062\" xlink:href=\"#DejaVuSans-50\"/>\n      </g>\n     </g>\n    </g>\n    <g id=\"xtick_2\">\n     <g id=\"line2d_3\">\n      <path clip-path=\"url(#pd21d1c8956)\" d=\"M 156.572135 239.758125 \nL 156.572135 22.318125 \n\" style=\"fill:none;stroke:#b0b0b0;stroke-linecap:square;stroke-width:0.8;\"/>\n     </g>\n     <g id=\"line2d_4\">\n      <g>\n       <use style=\"stroke:#000000;stroke-width:0.8;\" x=\"156.572135\" xlink:href=\"#m2c43b6cf2c\" y=\"239.758125\"/>\n      </g>\n     </g>\n     <g id=\"text_2\">\n      <!-- −1 -->\n      <g transform=\"translate(149.201041 254.356562)scale(0.1 -0.1)\">\n       <defs>\n        <path d=\"M 12.40625 8.296875 \nL 28.515625 8.296875 \nL 28.515625 63.921875 \nL 10.984375 60.40625 \nL 10.984375 69.390625 \nL 28.421875 72.90625 \nL 38.28125 72.90625 \nL 38.28125 8.296875 \nL 54.390625 8.296875 \nL 54.390625 0 \nL 12.40625 0 \nz\n\" id=\"DejaVuSans-49\"/>\n       </defs>\n       <use xlink:href=\"#DejaVuSans-8722\"/>\n       <use x=\"83.789062\" xlink:href=\"#DejaVuSans-49\"/>\n      </g>\n     </g>\n    </g>\n    <g id=\"xtick_3\">\n     <g id=\"line2d_5\">\n      <path clip-path=\"url(#pd21d1c8956)\" d=\"M 219.560938 239.758125 \nL 219.560938 22.318125 \n\" style=\"fill:none;stroke:#b0b0b0;stroke-linecap:square;stroke-width:0.8;\"/>\n     </g>\n     <g id=\"line2d_6\">\n      <g>\n       <use style=\"stroke:#000000;stroke-width:0.8;\" x=\"219.560938\" xlink:href=\"#m2c43b6cf2c\" y=\"239.758125\"/>\n      </g>\n     </g>\n     <g id=\"text_3\">\n      <!-- 0 -->\n      <g transform=\"translate(216.379688 254.356562)scale(0.1 -0.1)\">\n       <defs>\n        <path d=\"M 31.78125 66.40625 \nQ 24.171875 66.40625 20.328125 58.90625 \nQ 16.5 51.421875 16.5 36.375 \nQ 16.5 21.390625 20.328125 13.890625 \nQ 24.171875 6.390625 31.78125 6.390625 \nQ 39.453125 6.390625 43.28125 13.890625 \nQ 47.125 21.390625 47.125 36.375 \nQ 47.125 51.421875 43.28125 58.90625 \nQ 39.453125 66.40625 31.78125 66.40625 \nz\nM 31.78125 74.21875 \nQ 44.046875 74.21875 50.515625 64.515625 \nQ 56.984375 54.828125 56.984375 36.375 \nQ 56.984375 17.96875 50.515625 8.265625 \nQ 44.046875 -1.421875 31.78125 -1.421875 \nQ 19.53125 -1.421875 13.0625 8.265625 \nQ 6.59375 17.96875 6.59375 36.375 \nQ 6.59375 54.828125 13.0625 64.515625 \nQ 19.53125 74.21875 31.78125 74.21875 \nz\n\" id=\"DejaVuSans-48\"/>\n       </defs>\n       <use xlink:href=\"#DejaVuSans-48\"/>\n      </g>\n     </g>\n    </g>\n    <g id=\"xtick_4\">\n     <g id=\"line2d_7\">\n      <path clip-path=\"url(#pd21d1c8956)\" d=\"M 282.54974 239.758125 \nL 282.54974 22.318125 \n\" style=\"fill:none;stroke:#b0b0b0;stroke-linecap:square;stroke-width:0.8;\"/>\n     </g>\n     <g id=\"line2d_8\">\n      <g>\n       <use style=\"stroke:#000000;stroke-width:0.8;\" x=\"282.54974\" xlink:href=\"#m2c43b6cf2c\" y=\"239.758125\"/>\n      </g>\n     </g>\n     <g id=\"text_4\">\n      <!-- 1 -->\n      <g transform=\"translate(279.36849 254.356562)scale(0.1 -0.1)\">\n       <use xlink:href=\"#DejaVuSans-49\"/>\n      </g>\n     </g>\n    </g>\n    <g id=\"xtick_5\">\n     <g id=\"line2d_9\">\n      <path clip-path=\"url(#pd21d1c8956)\" d=\"M 345.538543 239.758125 \nL 345.538543 22.318125 \n\" style=\"fill:none;stroke:#b0b0b0;stroke-linecap:square;stroke-width:0.8;\"/>\n     </g>\n     <g id=\"line2d_10\">\n      <g>\n       <use style=\"stroke:#000000;stroke-width:0.8;\" x=\"345.538543\" xlink:href=\"#m2c43b6cf2c\" y=\"239.758125\"/>\n      </g>\n     </g>\n     <g id=\"text_5\">\n      <!-- 2 -->\n      <g transform=\"translate(342.357293 254.356562)scale(0.1 -0.1)\">\n       <use xlink:href=\"#DejaVuSans-50\"/>\n      </g>\n     </g>\n    </g>\n    <g id=\"text_6\">\n     <!-- Theoretical quantiles -->\n     <g transform=\"translate(167.046875 268.034687)scale(0.1 -0.1)\">\n      <defs>\n       <path d=\"M -0.296875 72.90625 \nL 61.375 72.90625 \nL 61.375 64.59375 \nL 35.5 64.59375 \nL 35.5 0 \nL 25.59375 0 \nL 25.59375 64.59375 \nL -0.296875 64.59375 \nz\n\" id=\"DejaVuSans-84\"/>\n       <path d=\"M 54.890625 33.015625 \nL 54.890625 0 \nL 45.90625 0 \nL 45.90625 32.71875 \nQ 45.90625 40.484375 42.875 44.328125 \nQ 39.84375 48.1875 33.796875 48.1875 \nQ 26.515625 48.1875 22.3125 43.546875 \nQ 18.109375 38.921875 18.109375 30.90625 \nL 18.109375 0 \nL 9.078125 0 \nL 9.078125 75.984375 \nL 18.109375 75.984375 \nL 18.109375 46.1875 \nQ 21.34375 51.125 25.703125 53.5625 \nQ 30.078125 56 35.796875 56 \nQ 45.21875 56 50.046875 50.171875 \nQ 54.890625 44.34375 54.890625 33.015625 \nz\n\" id=\"DejaVuSans-104\"/>\n       <path d=\"M 56.203125 29.59375 \nL 56.203125 25.203125 \nL 14.890625 25.203125 \nQ 15.484375 15.921875 20.484375 11.0625 \nQ 25.484375 6.203125 34.421875 6.203125 \nQ 39.59375 6.203125 44.453125 7.46875 \nQ 49.3125 8.734375 54.109375 11.28125 \nL 54.109375 2.78125 \nQ 49.265625 0.734375 44.1875 -0.34375 \nQ 39.109375 -1.421875 33.890625 -1.421875 \nQ 20.796875 -1.421875 13.15625 6.1875 \nQ 5.515625 13.8125 5.515625 26.8125 \nQ 5.515625 40.234375 12.765625 48.109375 \nQ 20.015625 56 32.328125 56 \nQ 43.359375 56 49.78125 48.890625 \nQ 56.203125 41.796875 56.203125 29.59375 \nz\nM 47.21875 32.234375 \nQ 47.125 39.59375 43.09375 43.984375 \nQ 39.0625 48.390625 32.421875 48.390625 \nQ 24.90625 48.390625 20.390625 44.140625 \nQ 15.875 39.890625 15.1875 32.171875 \nz\n\" id=\"DejaVuSans-101\"/>\n       <path d=\"M 30.609375 48.390625 \nQ 23.390625 48.390625 19.1875 42.75 \nQ 14.984375 37.109375 14.984375 27.296875 \nQ 14.984375 17.484375 19.15625 11.84375 \nQ 23.34375 6.203125 30.609375 6.203125 \nQ 37.796875 6.203125 41.984375 11.859375 \nQ 46.1875 17.53125 46.1875 27.296875 \nQ 46.1875 37.015625 41.984375 42.703125 \nQ 37.796875 48.390625 30.609375 48.390625 \nz\nM 30.609375 56 \nQ 42.328125 56 49.015625 48.375 \nQ 55.71875 40.765625 55.71875 27.296875 \nQ 55.71875 13.875 49.015625 6.21875 \nQ 42.328125 -1.421875 30.609375 -1.421875 \nQ 18.84375 -1.421875 12.171875 6.21875 \nQ 5.515625 13.875 5.515625 27.296875 \nQ 5.515625 40.765625 12.171875 48.375 \nQ 18.84375 56 30.609375 56 \nz\n\" id=\"DejaVuSans-111\"/>\n       <path d=\"M 41.109375 46.296875 \nQ 39.59375 47.171875 37.8125 47.578125 \nQ 36.03125 48 33.890625 48 \nQ 26.265625 48 22.1875 43.046875 \nQ 18.109375 38.09375 18.109375 28.8125 \nL 18.109375 0 \nL 9.078125 0 \nL 9.078125 54.6875 \nL 18.109375 54.6875 \nL 18.109375 46.1875 \nQ 20.953125 51.171875 25.484375 53.578125 \nQ 30.03125 56 36.53125 56 \nQ 37.453125 56 38.578125 55.875 \nQ 39.703125 55.765625 41.0625 55.515625 \nz\n\" id=\"DejaVuSans-114\"/>\n       <path d=\"M 18.3125 70.21875 \nL 18.3125 54.6875 \nL 36.8125 54.6875 \nL 36.8125 47.703125 \nL 18.3125 47.703125 \nL 18.3125 18.015625 \nQ 18.3125 11.328125 20.140625 9.421875 \nQ 21.96875 7.515625 27.59375 7.515625 \nL 36.8125 7.515625 \nL 36.8125 0 \nL 27.59375 0 \nQ 17.1875 0 13.234375 3.875 \nQ 9.28125 7.765625 9.28125 18.015625 \nL 9.28125 47.703125 \nL 2.6875 47.703125 \nL 2.6875 54.6875 \nL 9.28125 54.6875 \nL 9.28125 70.21875 \nz\n\" id=\"DejaVuSans-116\"/>\n       <path d=\"M 9.421875 54.6875 \nL 18.40625 54.6875 \nL 18.40625 0 \nL 9.421875 0 \nz\nM 9.421875 75.984375 \nL 18.40625 75.984375 \nL 18.40625 64.59375 \nL 9.421875 64.59375 \nz\n\" id=\"DejaVuSans-105\"/>\n       <path d=\"M 48.78125 52.59375 \nL 48.78125 44.1875 \nQ 44.96875 46.296875 41.140625 47.34375 \nQ 37.3125 48.390625 33.40625 48.390625 \nQ 24.65625 48.390625 19.8125 42.84375 \nQ 14.984375 37.3125 14.984375 27.296875 \nQ 14.984375 17.28125 19.8125 11.734375 \nQ 24.65625 6.203125 33.40625 6.203125 \nQ 37.3125 6.203125 41.140625 7.25 \nQ 44.96875 8.296875 48.78125 10.40625 \nL 48.78125 2.09375 \nQ 45.015625 0.34375 40.984375 -0.53125 \nQ 36.96875 -1.421875 32.421875 -1.421875 \nQ 20.0625 -1.421875 12.78125 6.34375 \nQ 5.515625 14.109375 5.515625 27.296875 \nQ 5.515625 40.671875 12.859375 48.328125 \nQ 20.21875 56 33.015625 56 \nQ 37.15625 56 41.109375 55.140625 \nQ 45.0625 54.296875 48.78125 52.59375 \nz\n\" id=\"DejaVuSans-99\"/>\n       <path d=\"M 34.28125 27.484375 \nQ 23.390625 27.484375 19.1875 25 \nQ 14.984375 22.515625 14.984375 16.5 \nQ 14.984375 11.71875 18.140625 8.90625 \nQ 21.296875 6.109375 26.703125 6.109375 \nQ 34.1875 6.109375 38.703125 11.40625 \nQ 43.21875 16.703125 43.21875 25.484375 \nL 43.21875 27.484375 \nz\nM 52.203125 31.203125 \nL 52.203125 0 \nL 43.21875 0 \nL 43.21875 8.296875 \nQ 40.140625 3.328125 35.546875 0.953125 \nQ 30.953125 -1.421875 24.3125 -1.421875 \nQ 15.921875 -1.421875 10.953125 3.296875 \nQ 6 8.015625 6 15.921875 \nQ 6 25.140625 12.171875 29.828125 \nQ 18.359375 34.515625 30.609375 34.515625 \nL 43.21875 34.515625 \nL 43.21875 35.40625 \nQ 43.21875 41.609375 39.140625 45 \nQ 35.0625 48.390625 27.6875 48.390625 \nQ 23 48.390625 18.546875 47.265625 \nQ 14.109375 46.140625 10.015625 43.890625 \nL 10.015625 52.203125 \nQ 14.9375 54.109375 19.578125 55.046875 \nQ 24.21875 56 28.609375 56 \nQ 40.484375 56 46.34375 49.84375 \nQ 52.203125 43.703125 52.203125 31.203125 \nz\n\" id=\"DejaVuSans-97\"/>\n       <path d=\"M 9.421875 75.984375 \nL 18.40625 75.984375 \nL 18.40625 0 \nL 9.421875 0 \nz\n\" id=\"DejaVuSans-108\"/>\n       <path id=\"DejaVuSans-32\"/>\n       <path d=\"M 14.796875 27.296875 \nQ 14.796875 17.390625 18.875 11.75 \nQ 22.953125 6.109375 30.078125 6.109375 \nQ 37.203125 6.109375 41.296875 11.75 \nQ 45.40625 17.390625 45.40625 27.296875 \nQ 45.40625 37.203125 41.296875 42.84375 \nQ 37.203125 48.484375 30.078125 48.484375 \nQ 22.953125 48.484375 18.875 42.84375 \nQ 14.796875 37.203125 14.796875 27.296875 \nz\nM 45.40625 8.203125 \nQ 42.578125 3.328125 38.25 0.953125 \nQ 33.9375 -1.421875 27.875 -1.421875 \nQ 17.96875 -1.421875 11.734375 6.484375 \nQ 5.515625 14.40625 5.515625 27.296875 \nQ 5.515625 40.1875 11.734375 48.09375 \nQ 17.96875 56 27.875 56 \nQ 33.9375 56 38.25 53.625 \nQ 42.578125 51.265625 45.40625 46.390625 \nL 45.40625 54.6875 \nL 54.390625 54.6875 \nL 54.390625 -20.796875 \nL 45.40625 -20.796875 \nz\n\" id=\"DejaVuSans-113\"/>\n       <path d=\"M 8.5 21.578125 \nL 8.5 54.6875 \nL 17.484375 54.6875 \nL 17.484375 21.921875 \nQ 17.484375 14.15625 20.5 10.265625 \nQ 23.53125 6.390625 29.59375 6.390625 \nQ 36.859375 6.390625 41.078125 11.03125 \nQ 45.3125 15.671875 45.3125 23.6875 \nL 45.3125 54.6875 \nL 54.296875 54.6875 \nL 54.296875 0 \nL 45.3125 0 \nL 45.3125 8.40625 \nQ 42.046875 3.421875 37.71875 1 \nQ 33.40625 -1.421875 27.6875 -1.421875 \nQ 18.265625 -1.421875 13.375 4.4375 \nQ 8.5 10.296875 8.5 21.578125 \nz\nM 31.109375 56 \nz\n\" id=\"DejaVuSans-117\"/>\n       <path d=\"M 54.890625 33.015625 \nL 54.890625 0 \nL 45.90625 0 \nL 45.90625 32.71875 \nQ 45.90625 40.484375 42.875 44.328125 \nQ 39.84375 48.1875 33.796875 48.1875 \nQ 26.515625 48.1875 22.3125 43.546875 \nQ 18.109375 38.921875 18.109375 30.90625 \nL 18.109375 0 \nL 9.078125 0 \nL 9.078125 54.6875 \nL 18.109375 54.6875 \nL 18.109375 46.1875 \nQ 21.34375 51.125 25.703125 53.5625 \nQ 30.078125 56 35.796875 56 \nQ 45.21875 56 50.046875 50.171875 \nQ 54.890625 44.34375 54.890625 33.015625 \nz\n\" id=\"DejaVuSans-110\"/>\n       <path d=\"M 44.28125 53.078125 \nL 44.28125 44.578125 \nQ 40.484375 46.53125 36.375 47.5 \nQ 32.28125 48.484375 27.875 48.484375 \nQ 21.1875 48.484375 17.84375 46.4375 \nQ 14.5 44.390625 14.5 40.28125 \nQ 14.5 37.15625 16.890625 35.375 \nQ 19.28125 33.59375 26.515625 31.984375 \nL 29.59375 31.296875 \nQ 39.15625 29.25 43.1875 25.515625 \nQ 47.21875 21.78125 47.21875 15.09375 \nQ 47.21875 7.46875 41.1875 3.015625 \nQ 35.15625 -1.421875 24.609375 -1.421875 \nQ 20.21875 -1.421875 15.453125 -0.5625 \nQ 10.6875 0.296875 5.421875 2 \nL 5.421875 11.28125 \nQ 10.40625 8.6875 15.234375 7.390625 \nQ 20.0625 6.109375 24.8125 6.109375 \nQ 31.15625 6.109375 34.5625 8.28125 \nQ 37.984375 10.453125 37.984375 14.40625 \nQ 37.984375 18.0625 35.515625 20.015625 \nQ 33.0625 21.96875 24.703125 23.78125 \nL 21.578125 24.515625 \nQ 13.234375 26.265625 9.515625 29.90625 \nQ 5.8125 33.546875 5.8125 39.890625 \nQ 5.8125 47.609375 11.28125 51.796875 \nQ 16.75 56 26.8125 56 \nQ 31.78125 56 36.171875 55.265625 \nQ 40.578125 54.546875 44.28125 53.078125 \nz\n\" id=\"DejaVuSans-115\"/>\n      </defs>\n      <use xlink:href=\"#DejaVuSans-84\"/>\n      <use x=\"61.083984\" xlink:href=\"#DejaVuSans-104\"/>\n      <use x=\"124.462891\" xlink:href=\"#DejaVuSans-101\"/>\n      <use x=\"185.986328\" xlink:href=\"#DejaVuSans-111\"/>\n      <use x=\"247.167969\" xlink:href=\"#DejaVuSans-114\"/>\n      <use x=\"286.03125\" xlink:href=\"#DejaVuSans-101\"/>\n      <use x=\"347.554688\" xlink:href=\"#DejaVuSans-116\"/>\n      <use x=\"386.763672\" xlink:href=\"#DejaVuSans-105\"/>\n      <use x=\"414.546875\" xlink:href=\"#DejaVuSans-99\"/>\n      <use x=\"469.527344\" xlink:href=\"#DejaVuSans-97\"/>\n      <use x=\"530.806641\" xlink:href=\"#DejaVuSans-108\"/>\n      <use x=\"558.589844\" xlink:href=\"#DejaVuSans-32\"/>\n      <use x=\"590.376953\" xlink:href=\"#DejaVuSans-113\"/>\n      <use x=\"653.853516\" xlink:href=\"#DejaVuSans-117\"/>\n      <use x=\"717.232422\" xlink:href=\"#DejaVuSans-97\"/>\n      <use x=\"778.511719\" xlink:href=\"#DejaVuSans-110\"/>\n      <use x=\"841.890625\" xlink:href=\"#DejaVuSans-116\"/>\n      <use x=\"881.099609\" xlink:href=\"#DejaVuSans-105\"/>\n      <use x=\"908.882812\" xlink:href=\"#DejaVuSans-108\"/>\n      <use x=\"936.666016\" xlink:href=\"#DejaVuSans-101\"/>\n      <use x=\"998.189453\" xlink:href=\"#DejaVuSans-115\"/>\n     </g>\n    </g>\n   </g>\n   <g id=\"matplotlib.axis_2\">\n    <g id=\"ytick_1\">\n     <g id=\"line2d_11\">\n      <path clip-path=\"url(#pd21d1c8956)\" d=\"M 52.160938 213.972327 \nL 386.960938 213.972327 \n\" style=\"fill:none;stroke:#b0b0b0;stroke-linecap:square;stroke-width:0.8;\"/>\n     </g>\n     <g id=\"line2d_12\">\n      <defs>\n       <path d=\"M 0 0 \nL -3.5 0 \n\" id=\"m948944f0ae\" style=\"stroke:#000000;stroke-width:0.8;\"/>\n      </defs>\n      <g>\n       <use style=\"stroke:#000000;stroke-width:0.8;\" x=\"52.160938\" xlink:href=\"#m948944f0ae\" y=\"213.972327\"/>\n      </g>\n     </g>\n     <g id=\"text_7\">\n      <!-- −7.5 -->\n      <g transform=\"translate(20.878125 217.771546)scale(0.1 -0.1)\">\n       <defs>\n        <path d=\"M 8.203125 72.90625 \nL 55.078125 72.90625 \nL 55.078125 68.703125 \nL 28.609375 0 \nL 18.3125 0 \nL 43.21875 64.59375 \nL 8.203125 64.59375 \nz\n\" id=\"DejaVuSans-55\"/>\n        <path d=\"M 10.6875 12.40625 \nL 21 12.40625 \nL 21 0 \nL 10.6875 0 \nz\n\" id=\"DejaVuSans-46\"/>\n        <path d=\"M 10.796875 72.90625 \nL 49.515625 72.90625 \nL 49.515625 64.59375 \nL 19.828125 64.59375 \nL 19.828125 46.734375 \nQ 21.96875 47.46875 24.109375 47.828125 \nQ 26.265625 48.1875 28.421875 48.1875 \nQ 40.625 48.1875 47.75 41.5 \nQ 54.890625 34.8125 54.890625 23.390625 \nQ 54.890625 11.625 47.5625 5.09375 \nQ 40.234375 -1.421875 26.90625 -1.421875 \nQ 22.3125 -1.421875 17.546875 -0.640625 \nQ 12.796875 0.140625 7.71875 1.703125 \nL 7.71875 11.625 \nQ 12.109375 9.234375 16.796875 8.0625 \nQ 21.484375 6.890625 26.703125 6.890625 \nQ 35.15625 6.890625 40.078125 11.328125 \nQ 45.015625 15.765625 45.015625 23.390625 \nQ 45.015625 31 40.078125 35.4375 \nQ 35.15625 39.890625 26.703125 39.890625 \nQ 22.75 39.890625 18.8125 39.015625 \nQ 14.890625 38.140625 10.796875 36.28125 \nz\n\" id=\"DejaVuSans-53\"/>\n       </defs>\n       <use xlink:href=\"#DejaVuSans-8722\"/>\n       <use x=\"83.789062\" xlink:href=\"#DejaVuSans-55\"/>\n       <use x=\"147.412109\" xlink:href=\"#DejaVuSans-46\"/>\n       <use x=\"179.199219\" xlink:href=\"#DejaVuSans-53\"/>\n      </g>\n     </g>\n    </g>\n    <g id=\"ytick_2\">\n     <g id=\"line2d_13\">\n      <path clip-path=\"url(#pd21d1c8956)\" d=\"M 52.160938 186.327593 \nL 386.960938 186.327593 \n\" style=\"fill:none;stroke:#b0b0b0;stroke-linecap:square;stroke-width:0.8;\"/>\n     </g>\n     <g id=\"line2d_14\">\n      <g>\n       <use style=\"stroke:#000000;stroke-width:0.8;\" x=\"52.160938\" xlink:href=\"#m948944f0ae\" y=\"186.327593\"/>\n      </g>\n     </g>\n     <g id=\"text_8\">\n      <!-- −5.0 -->\n      <g transform=\"translate(20.878125 190.126812)scale(0.1 -0.1)\">\n       <use xlink:href=\"#DejaVuSans-8722\"/>\n       <use x=\"83.789062\" xlink:href=\"#DejaVuSans-53\"/>\n       <use x=\"147.412109\" xlink:href=\"#DejaVuSans-46\"/>\n       <use x=\"179.199219\" xlink:href=\"#DejaVuSans-48\"/>\n      </g>\n     </g>\n    </g>\n    <g id=\"ytick_3\">\n     <g id=\"line2d_15\">\n      <path clip-path=\"url(#pd21d1c8956)\" d=\"M 52.160938 158.682859 \nL 386.960938 158.682859 \n\" style=\"fill:none;stroke:#b0b0b0;stroke-linecap:square;stroke-width:0.8;\"/>\n     </g>\n     <g id=\"line2d_16\">\n      <g>\n       <use style=\"stroke:#000000;stroke-width:0.8;\" x=\"52.160938\" xlink:href=\"#m948944f0ae\" y=\"158.682859\"/>\n      </g>\n     </g>\n     <g id=\"text_9\">\n      <!-- −2.5 -->\n      <g transform=\"translate(20.878125 162.482078)scale(0.1 -0.1)\">\n       <use xlink:href=\"#DejaVuSans-8722\"/>\n       <use x=\"83.789062\" xlink:href=\"#DejaVuSans-50\"/>\n       <use x=\"147.412109\" xlink:href=\"#DejaVuSans-46\"/>\n       <use x=\"179.199219\" xlink:href=\"#DejaVuSans-53\"/>\n      </g>\n     </g>\n    </g>\n    <g id=\"ytick_4\">\n     <g id=\"line2d_17\">\n      <path clip-path=\"url(#pd21d1c8956)\" d=\"M 52.160938 131.038125 \nL 386.960938 131.038125 \n\" style=\"fill:none;stroke:#b0b0b0;stroke-linecap:square;stroke-width:0.8;\"/>\n     </g>\n     <g id=\"line2d_18\">\n      <g>\n       <use style=\"stroke:#000000;stroke-width:0.8;\" x=\"52.160938\" xlink:href=\"#m948944f0ae\" y=\"131.038125\"/>\n      </g>\n     </g>\n     <g id=\"text_10\">\n      <!-- 0.0 -->\n      <g transform=\"translate(29.257812 134.837344)scale(0.1 -0.1)\">\n       <use xlink:href=\"#DejaVuSans-48\"/>\n       <use x=\"63.623047\" xlink:href=\"#DejaVuSans-46\"/>\n       <use x=\"95.410156\" xlink:href=\"#DejaVuSans-48\"/>\n      </g>\n     </g>\n    </g>\n    <g id=\"ytick_5\">\n     <g id=\"line2d_19\">\n      <path clip-path=\"url(#pd21d1c8956)\" d=\"M 52.160938 103.393391 \nL 386.960938 103.393391 \n\" style=\"fill:none;stroke:#b0b0b0;stroke-linecap:square;stroke-width:0.8;\"/>\n     </g>\n     <g id=\"line2d_20\">\n      <g>\n       <use style=\"stroke:#000000;stroke-width:0.8;\" x=\"52.160938\" xlink:href=\"#m948944f0ae\" y=\"103.393391\"/>\n      </g>\n     </g>\n     <g id=\"text_11\">\n      <!-- 2.5 -->\n      <g transform=\"translate(29.257812 107.19261)scale(0.1 -0.1)\">\n       <use xlink:href=\"#DejaVuSans-50\"/>\n       <use x=\"63.623047\" xlink:href=\"#DejaVuSans-46\"/>\n       <use x=\"95.410156\" xlink:href=\"#DejaVuSans-53\"/>\n      </g>\n     </g>\n    </g>\n    <g id=\"ytick_6\">\n     <g id=\"line2d_21\">\n      <path clip-path=\"url(#pd21d1c8956)\" d=\"M 52.160938 75.748657 \nL 386.960938 75.748657 \n\" style=\"fill:none;stroke:#b0b0b0;stroke-linecap:square;stroke-width:0.8;\"/>\n     </g>\n     <g id=\"line2d_22\">\n      <g>\n       <use style=\"stroke:#000000;stroke-width:0.8;\" x=\"52.160938\" xlink:href=\"#m948944f0ae\" y=\"75.748657\"/>\n      </g>\n     </g>\n     <g id=\"text_12\">\n      <!-- 5.0 -->\n      <g transform=\"translate(29.257812 79.547876)scale(0.1 -0.1)\">\n       <use xlink:href=\"#DejaVuSans-53\"/>\n       <use x=\"63.623047\" xlink:href=\"#DejaVuSans-46\"/>\n       <use x=\"95.410156\" xlink:href=\"#DejaVuSans-48\"/>\n      </g>\n     </g>\n    </g>\n    <g id=\"ytick_7\">\n     <g id=\"line2d_23\">\n      <path clip-path=\"url(#pd21d1c8956)\" d=\"M 52.160938 48.103923 \nL 386.960938 48.103923 \n\" style=\"fill:none;stroke:#b0b0b0;stroke-linecap:square;stroke-width:0.8;\"/>\n     </g>\n     <g id=\"line2d_24\">\n      <g>\n       <use style=\"stroke:#000000;stroke-width:0.8;\" x=\"52.160938\" xlink:href=\"#m948944f0ae\" y=\"48.103923\"/>\n      </g>\n     </g>\n     <g id=\"text_13\">\n      <!-- 7.5 -->\n      <g transform=\"translate(29.257812 51.903142)scale(0.1 -0.1)\">\n       <use xlink:href=\"#DejaVuSans-55\"/>\n       <use x=\"63.623047\" xlink:href=\"#DejaVuSans-46\"/>\n       <use x=\"95.410156\" xlink:href=\"#DejaVuSans-53\"/>\n      </g>\n     </g>\n    </g>\n    <g id=\"text_14\">\n     <!-- Ordered Values -->\n     <g transform=\"translate(14.798437 169.311562)rotate(-90)scale(0.1 -0.1)\">\n      <defs>\n       <path d=\"M 39.40625 66.21875 \nQ 28.65625 66.21875 22.328125 58.203125 \nQ 16.015625 50.203125 16.015625 36.375 \nQ 16.015625 22.609375 22.328125 14.59375 \nQ 28.65625 6.59375 39.40625 6.59375 \nQ 50.140625 6.59375 56.421875 14.59375 \nQ 62.703125 22.609375 62.703125 36.375 \nQ 62.703125 50.203125 56.421875 58.203125 \nQ 50.140625 66.21875 39.40625 66.21875 \nz\nM 39.40625 74.21875 \nQ 54.734375 74.21875 63.90625 63.9375 \nQ 73.09375 53.65625 73.09375 36.375 \nQ 73.09375 19.140625 63.90625 8.859375 \nQ 54.734375 -1.421875 39.40625 -1.421875 \nQ 24.03125 -1.421875 14.8125 8.828125 \nQ 5.609375 19.09375 5.609375 36.375 \nQ 5.609375 53.65625 14.8125 63.9375 \nQ 24.03125 74.21875 39.40625 74.21875 \nz\n\" id=\"DejaVuSans-79\"/>\n       <path d=\"M 45.40625 46.390625 \nL 45.40625 75.984375 \nL 54.390625 75.984375 \nL 54.390625 0 \nL 45.40625 0 \nL 45.40625 8.203125 \nQ 42.578125 3.328125 38.25 0.953125 \nQ 33.9375 -1.421875 27.875 -1.421875 \nQ 17.96875 -1.421875 11.734375 6.484375 \nQ 5.515625 14.40625 5.515625 27.296875 \nQ 5.515625 40.1875 11.734375 48.09375 \nQ 17.96875 56 27.875 56 \nQ 33.9375 56 38.25 53.625 \nQ 42.578125 51.265625 45.40625 46.390625 \nz\nM 14.796875 27.296875 \nQ 14.796875 17.390625 18.875 11.75 \nQ 22.953125 6.109375 30.078125 6.109375 \nQ 37.203125 6.109375 41.296875 11.75 \nQ 45.40625 17.390625 45.40625 27.296875 \nQ 45.40625 37.203125 41.296875 42.84375 \nQ 37.203125 48.484375 30.078125 48.484375 \nQ 22.953125 48.484375 18.875 42.84375 \nQ 14.796875 37.203125 14.796875 27.296875 \nz\n\" id=\"DejaVuSans-100\"/>\n       <path d=\"M 28.609375 0 \nL 0.78125 72.90625 \nL 11.078125 72.90625 \nL 34.1875 11.53125 \nL 57.328125 72.90625 \nL 67.578125 72.90625 \nL 39.796875 0 \nz\n\" id=\"DejaVuSans-86\"/>\n      </defs>\n      <use xlink:href=\"#DejaVuSans-79\"/>\n      <use x=\"78.710938\" xlink:href=\"#DejaVuSans-114\"/>\n      <use x=\"118.074219\" xlink:href=\"#DejaVuSans-100\"/>\n      <use x=\"181.550781\" xlink:href=\"#DejaVuSans-101\"/>\n      <use x=\"243.074219\" xlink:href=\"#DejaVuSans-114\"/>\n      <use x=\"281.9375\" xlink:href=\"#DejaVuSans-101\"/>\n      <use x=\"343.460938\" xlink:href=\"#DejaVuSans-100\"/>\n      <use x=\"406.9375\" xlink:href=\"#DejaVuSans-32\"/>\n      <use x=\"438.724609\" xlink:href=\"#DejaVuSans-86\"/>\n      <use x=\"499.382812\" xlink:href=\"#DejaVuSans-97\"/>\n      <use x=\"560.662109\" xlink:href=\"#DejaVuSans-108\"/>\n      <use x=\"588.445312\" xlink:href=\"#DejaVuSans-117\"/>\n      <use x=\"651.824219\" xlink:href=\"#DejaVuSans-101\"/>\n      <use x=\"713.347656\" xlink:href=\"#DejaVuSans-115\"/>\n     </g>\n    </g>\n   </g>\n   <g id=\"line2d_25\">\n    <defs>\n     <path d=\"M 0 3 \nC 0.795609 3 1.55874 2.683901 2.12132 2.12132 \nC 2.683901 1.55874 3 0.795609 3 0 \nC 3 -0.795609 2.683901 -1.55874 2.12132 -2.12132 \nC 1.55874 -2.683901 0.795609 -3 0 -3 \nC -0.795609 -3 -1.55874 -2.683901 -2.12132 -2.12132 \nC -2.683901 -1.55874 -3 -0.795609 -3 0 \nC -3 0.795609 -2.683901 1.55874 -2.12132 2.12132 \nC -1.55874 2.683901 -0.795609 3 0 3 \nz\n\" id=\"me1befaabad\" style=\"stroke:#0000ff;\"/>\n    </defs>\n    <g clip-path=\"url(#pd21d1c8956)\">\n     <use style=\"fill:#0000ff;stroke:#0000ff;\" x=\"67.379119\" xlink:href=\"#me1befaabad\" y=\"227.604494\"/>\n     <use style=\"fill:#0000ff;stroke:#0000ff;\" x=\"88.923095\" xlink:href=\"#me1befaabad\" y=\"227.604494\"/>\n     <use style=\"fill:#0000ff;stroke:#0000ff;\" x=\"101.420907\" xlink:href=\"#me1befaabad\" y=\"227.604494\"/>\n     <use style=\"fill:#0000ff;stroke:#0000ff;\" x=\"110.490472\" xlink:href=\"#me1befaabad\" y=\"227.604494\"/>\n     <use style=\"fill:#0000ff;stroke:#0000ff;\" x=\"117.73797\" xlink:href=\"#me1befaabad\" y=\"187.458879\"/>\n     <use style=\"fill:#0000ff;stroke:#0000ff;\" x=\"123.843837\" xlink:href=\"#me1befaabad\" y=\"187.458879\"/>\n     <use style=\"fill:#0000ff;stroke:#0000ff;\" x=\"129.163289\" xlink:href=\"#me1befaabad\" y=\"187.458879\"/>\n     <use style=\"fill:#0000ff;stroke:#0000ff;\" x=\"133.906343\" xlink:href=\"#me1befaabad\" y=\"187.458879\"/>\n     <use style=\"fill:#0000ff;stroke:#0000ff;\" x=\"138.208009\" xlink:href=\"#me1befaabad\" y=\"182.439512\"/>\n     <use style=\"fill:#0000ff;stroke:#0000ff;\" x=\"142.160473\" xlink:href=\"#me1befaabad\" y=\"182.439512\"/>\n     <use style=\"fill:#0000ff;stroke:#0000ff;\" x=\"145.829636\" xlink:href=\"#me1befaabad\" y=\"182.439512\"/>\n     <use style=\"fill:#0000ff;stroke:#0000ff;\" x=\"149.264331\" xlink:href=\"#me1befaabad\" y=\"182.439512\"/>\n     <use style=\"fill:#0000ff;stroke:#0000ff;\" x=\"152.501814\" xlink:href=\"#me1befaabad\" y=\"179.831004\"/>\n     <use style=\"fill:#0000ff;stroke:#0000ff;\" x=\"155.571198\" xlink:href=\"#me1befaabad\" y=\"179.831004\"/>\n     <use style=\"fill:#0000ff;stroke:#0000ff;\" x=\"158.495699\" xlink:href=\"#me1befaabad\" y=\"179.831004\"/>\n     <use style=\"fill:#0000ff;stroke:#0000ff;\" x=\"161.294154\" xlink:href=\"#me1befaabad\" y=\"179.831004\"/>\n     <use style=\"fill:#0000ff;stroke:#0000ff;\" x=\"163.982075\" xlink:href=\"#me1befaabad\" y=\"173.885904\"/>\n     <use style=\"fill:#0000ff;stroke:#0000ff;\" x=\"166.572408\" xlink:href=\"#me1befaabad\" y=\"173.885904\"/>\n     <use style=\"fill:#0000ff;stroke:#0000ff;\" x=\"169.076084\" xlink:href=\"#me1befaabad\" y=\"173.885904\"/>\n     <use style=\"fill:#0000ff;stroke:#0000ff;\" x=\"171.502426\" xlink:href=\"#me1befaabad\" y=\"173.885904\"/>\n     <use style=\"fill:#0000ff;stroke:#0000ff;\" x=\"173.859465\" xlink:href=\"#me1befaabad\" y=\"158.329354\"/>\n     <use style=\"fill:#0000ff;stroke:#0000ff;\" x=\"176.154178\" xlink:href=\"#me1befaabad\" y=\"158.329354\"/>\n     <use style=\"fill:#0000ff;stroke:#0000ff;\" x=\"178.392673\" xlink:href=\"#me1befaabad\" y=\"158.329354\"/>\n     <use style=\"fill:#0000ff;stroke:#0000ff;\" x=\"180.580337\" xlink:href=\"#me1befaabad\" y=\"158.329354\"/>\n     <use style=\"fill:#0000ff;stroke:#0000ff;\" x=\"182.721955\" xlink:href=\"#me1befaabad\" y=\"145.160329\"/>\n     <use style=\"fill:#0000ff;stroke:#0000ff;\" x=\"184.821805\" xlink:href=\"#me1befaabad\" y=\"145.160329\"/>\n     <use style=\"fill:#0000ff;stroke:#0000ff;\" x=\"186.883734\" xlink:href=\"#me1befaabad\" y=\"145.160329\"/>\n     <use style=\"fill:#0000ff;stroke:#0000ff;\" x=\"188.911221\" xlink:href=\"#me1befaabad\" y=\"145.160329\"/>\n     <use style=\"fill:#0000ff;stroke:#0000ff;\" x=\"190.907435\" xlink:href=\"#me1befaabad\" y=\"143.884318\"/>\n     <use style=\"fill:#0000ff;stroke:#0000ff;\" x=\"192.875272\" xlink:href=\"#me1befaabad\" y=\"143.884318\"/>\n     <use style=\"fill:#0000ff;stroke:#0000ff;\" x=\"194.817397\" xlink:href=\"#me1befaabad\" y=\"143.884318\"/>\n     <use style=\"fill:#0000ff;stroke:#0000ff;\" x=\"196.736275\" xlink:href=\"#me1befaabad\" y=\"143.884318\"/>\n     <use style=\"fill:#0000ff;stroke:#0000ff;\" x=\"198.634197\" xlink:href=\"#me1befaabad\" y=\"136.053931\"/>\n     <use style=\"fill:#0000ff;stroke:#0000ff;\" x=\"200.513305\" xlink:href=\"#me1befaabad\" y=\"136.053931\"/>\n     <use style=\"fill:#0000ff;stroke:#0000ff;\" x=\"202.375608\" xlink:href=\"#me1befaabad\" y=\"136.053931\"/>\n     <use style=\"fill:#0000ff;stroke:#0000ff;\" x=\"204.223006\" xlink:href=\"#me1befaabad\" y=\"136.053931\"/>\n     <use style=\"fill:#0000ff;stroke:#0000ff;\" x=\"206.057301\" xlink:href=\"#me1befaabad\" y=\"130.653946\"/>\n     <use style=\"fill:#0000ff;stroke:#0000ff;\" x=\"207.880213\" xlink:href=\"#me1befaabad\" y=\"130.653946\"/>\n     <use style=\"fill:#0000ff;stroke:#0000ff;\" x=\"209.693392\" xlink:href=\"#me1befaabad\" y=\"130.653946\"/>\n     <use style=\"fill:#0000ff;stroke:#0000ff;\" x=\"211.49843\" xlink:href=\"#me1befaabad\" y=\"130.653946\"/>\n     <use style=\"fill:#0000ff;stroke:#0000ff;\" x=\"213.29687\" xlink:href=\"#me1befaabad\" y=\"128.069843\"/>\n     <use style=\"fill:#0000ff;stroke:#0000ff;\" x=\"215.090217\" xlink:href=\"#me1befaabad\" y=\"128.069843\"/>\n     <use style=\"fill:#0000ff;stroke:#0000ff;\" x=\"216.879946\" xlink:href=\"#me1befaabad\" y=\"128.069843\"/>\n     <use style=\"fill:#0000ff;stroke:#0000ff;\" x=\"218.667514\" xlink:href=\"#me1befaabad\" y=\"128.069843\"/>\n     <use style=\"fill:#0000ff;stroke:#0000ff;\" x=\"220.454361\" xlink:href=\"#me1befaabad\" y=\"125.296837\"/>\n     <use style=\"fill:#0000ff;stroke:#0000ff;\" x=\"222.241929\" xlink:href=\"#me1befaabad\" y=\"125.296837\"/>\n     <use style=\"fill:#0000ff;stroke:#0000ff;\" x=\"224.031658\" xlink:href=\"#me1befaabad\" y=\"125.296837\"/>\n     <use style=\"fill:#0000ff;stroke:#0000ff;\" x=\"225.825005\" xlink:href=\"#me1befaabad\" y=\"125.296837\"/>\n     <use style=\"fill:#0000ff;stroke:#0000ff;\" x=\"227.623445\" xlink:href=\"#me1befaabad\" y=\"120.39423\"/>\n     <use style=\"fill:#0000ff;stroke:#0000ff;\" x=\"229.428483\" xlink:href=\"#me1befaabad\" y=\"120.39423\"/>\n     <use style=\"fill:#0000ff;stroke:#0000ff;\" x=\"231.241662\" xlink:href=\"#me1befaabad\" y=\"120.39423\"/>\n     <use style=\"fill:#0000ff;stroke:#0000ff;\" x=\"233.064574\" xlink:href=\"#me1befaabad\" y=\"120.39423\"/>\n     <use style=\"fill:#0000ff;stroke:#0000ff;\" x=\"234.898869\" xlink:href=\"#me1befaabad\" y=\"120.314412\"/>\n     <use style=\"fill:#0000ff;stroke:#0000ff;\" x=\"236.746267\" xlink:href=\"#me1befaabad\" y=\"120.314412\"/>\n     <use style=\"fill:#0000ff;stroke:#0000ff;\" x=\"238.60857\" xlink:href=\"#me1befaabad\" y=\"120.314412\"/>\n     <use style=\"fill:#0000ff;stroke:#0000ff;\" x=\"240.487678\" xlink:href=\"#me1befaabad\" y=\"120.314412\"/>\n     <use style=\"fill:#0000ff;stroke:#0000ff;\" x=\"242.3856\" xlink:href=\"#me1befaabad\" y=\"117.208527\"/>\n     <use style=\"fill:#0000ff;stroke:#0000ff;\" x=\"244.304478\" xlink:href=\"#me1befaabad\" y=\"117.208527\"/>\n     <use style=\"fill:#0000ff;stroke:#0000ff;\" x=\"246.246603\" xlink:href=\"#me1befaabad\" y=\"117.208527\"/>\n     <use style=\"fill:#0000ff;stroke:#0000ff;\" x=\"248.21444\" xlink:href=\"#me1befaabad\" y=\"117.208527\"/>\n     <use style=\"fill:#0000ff;stroke:#0000ff;\" x=\"250.210654\" xlink:href=\"#me1befaabad\" y=\"105.728212\"/>\n     <use style=\"fill:#0000ff;stroke:#0000ff;\" x=\"252.238141\" xlink:href=\"#me1befaabad\" y=\"105.728212\"/>\n     <use style=\"fill:#0000ff;stroke:#0000ff;\" x=\"254.30007\" xlink:href=\"#me1befaabad\" y=\"105.728212\"/>\n     <use style=\"fill:#0000ff;stroke:#0000ff;\" x=\"256.39992\" xlink:href=\"#me1befaabad\" y=\"105.728212\"/>\n     <use style=\"fill:#0000ff;stroke:#0000ff;\" x=\"258.541538\" xlink:href=\"#me1befaabad\" y=\"100.487862\"/>\n     <use style=\"fill:#0000ff;stroke:#0000ff;\" x=\"260.729202\" xlink:href=\"#me1befaabad\" y=\"100.487862\"/>\n     <use style=\"fill:#0000ff;stroke:#0000ff;\" x=\"262.967697\" xlink:href=\"#me1befaabad\" y=\"100.487862\"/>\n     <use style=\"fill:#0000ff;stroke:#0000ff;\" x=\"265.26241\" xlink:href=\"#me1befaabad\" y=\"100.487862\"/>\n     <use style=\"fill:#0000ff;stroke:#0000ff;\" x=\"267.619449\" xlink:href=\"#me1befaabad\" y=\"94.191412\"/>\n     <use style=\"fill:#0000ff;stroke:#0000ff;\" x=\"270.045791\" xlink:href=\"#me1befaabad\" y=\"94.191412\"/>\n     <use style=\"fill:#0000ff;stroke:#0000ff;\" x=\"272.549467\" xlink:href=\"#me1befaabad\" y=\"94.191412\"/>\n     <use style=\"fill:#0000ff;stroke:#0000ff;\" x=\"275.1398\" xlink:href=\"#me1befaabad\" y=\"94.191412\"/>\n     <use style=\"fill:#0000ff;stroke:#0000ff;\" x=\"277.827721\" xlink:href=\"#me1befaabad\" y=\"90.626163\"/>\n     <use style=\"fill:#0000ff;stroke:#0000ff;\" x=\"280.626176\" xlink:href=\"#me1befaabad\" y=\"90.626163\"/>\n     <use style=\"fill:#0000ff;stroke:#0000ff;\" x=\"283.550677\" xlink:href=\"#me1befaabad\" y=\"90.626163\"/>\n     <use style=\"fill:#0000ff;stroke:#0000ff;\" x=\"286.620061\" xlink:href=\"#me1befaabad\" y=\"90.626163\"/>\n     <use style=\"fill:#0000ff;stroke:#0000ff;\" x=\"289.857544\" xlink:href=\"#me1befaabad\" y=\"81.421476\"/>\n     <use style=\"fill:#0000ff;stroke:#0000ff;\" x=\"293.292239\" xlink:href=\"#me1befaabad\" y=\"81.421476\"/>\n     <use style=\"fill:#0000ff;stroke:#0000ff;\" x=\"296.961402\" xlink:href=\"#me1befaabad\" y=\"81.421476\"/>\n     <use style=\"fill:#0000ff;stroke:#0000ff;\" x=\"300.913866\" xlink:href=\"#me1befaabad\" y=\"81.421476\"/>\n     <use style=\"fill:#0000ff;stroke:#0000ff;\" x=\"305.215532\" xlink:href=\"#me1befaabad\" y=\"73.155059\"/>\n     <use style=\"fill:#0000ff;stroke:#0000ff;\" x=\"309.958586\" xlink:href=\"#me1befaabad\" y=\"73.155059\"/>\n     <use style=\"fill:#0000ff;stroke:#0000ff;\" x=\"315.278038\" xlink:href=\"#me1befaabad\" y=\"73.155059\"/>\n     <use style=\"fill:#0000ff;stroke:#0000ff;\" x=\"321.383905\" xlink:href=\"#me1befaabad\" y=\"73.155059\"/>\n     <use style=\"fill:#0000ff;stroke:#0000ff;\" x=\"328.631403\" xlink:href=\"#me1befaabad\" y=\"60.643047\"/>\n     <use style=\"fill:#0000ff;stroke:#0000ff;\" x=\"337.700968\" xlink:href=\"#me1befaabad\" y=\"60.643047\"/>\n     <use style=\"fill:#0000ff;stroke:#0000ff;\" x=\"350.19878\" xlink:href=\"#me1befaabad\" y=\"60.643047\"/>\n     <use style=\"fill:#0000ff;stroke:#0000ff;\" x=\"371.742756\" xlink:href=\"#me1befaabad\" y=\"60.643047\"/>\n    </g>\n   </g>\n   <g id=\"line2d_26\">\n    <path clip-path=\"url(#pd21d1c8956)\" d=\"M 67.379119 229.874489 \nL 88.923095 215.882487 \nL 101.420907 207.765629 \nL 110.490472 201.875288 \nL 117.73797 197.168311 \nL 123.843837 193.202779 \nL 129.163289 189.747996 \nL 133.906343 186.66756 \nL 138.208009 183.87379 \nL 142.160473 181.306814 \nL 145.829636 178.92383 \nL 149.264331 176.693125 \nL 152.501814 174.590502 \nL 155.571198 172.597052 \nL 158.495699 170.697699 \nL 161.294154 168.880208 \nL 163.982075 167.134505 \nL 166.572408 165.452181 \nL 169.076084 163.826138 \nL 171.502426 162.25032 \nL 173.859465 160.719511 \nL 176.154178 159.229182 \nL 178.392673 157.775363 \nL 180.580337 156.354558 \nL 182.721955 154.963657 \nL 184.821805 153.599884 \nL 186.883734 152.260739 \nL 188.911221 150.943962 \nL 190.907435 149.647497 \nL 192.875272 148.369461 \nL 194.817397 147.108123 \nL 196.736275 145.861884 \nL 198.634197 144.629255 \nL 200.513305 143.408846 \nL 202.375608 142.19935 \nL 204.223006 140.999534 \nL 206.057301 139.808229 \nL 207.880213 138.624316 \nL 209.693392 137.446724 \nL 211.49843 136.27442 \nL 213.29687 135.106401 \nL 215.090217 133.94169 \nL 216.879946 132.779328 \nL 218.667514 131.61837 \nL 220.454361 130.45788 \nL 222.241929 129.296922 \nL 224.031658 128.13456 \nL 225.825005 126.969849 \nL 227.623445 125.80183 \nL 229.428483 124.629526 \nL 231.241662 123.451934 \nL 233.064574 122.268021 \nL 234.898869 121.076716 \nL 236.746267 119.8769 \nL 238.60857 118.667404 \nL 240.487678 117.446995 \nL 242.3856 116.214366 \nL 244.304478 114.968127 \nL 246.246603 113.706789 \nL 248.21444 112.428753 \nL 250.210654 111.132288 \nL 252.238141 109.815511 \nL 254.30007 108.476366 \nL 256.39992 107.112593 \nL 258.541538 105.721692 \nL 260.729202 104.300887 \nL 262.967697 102.847068 \nL 265.26241 101.356739 \nL 267.619449 99.82593 \nL 270.045791 98.250112 \nL 272.549467 96.624069 \nL 275.1398 94.941745 \nL 277.827721 93.196042 \nL 280.626176 91.378551 \nL 283.550677 89.479198 \nL 286.620061 87.485748 \nL 289.857544 85.383125 \nL 293.292239 83.15242 \nL 296.961402 80.769436 \nL 300.913866 78.20246 \nL 305.215532 75.40869 \nL 309.958586 72.328254 \nL 315.278038 68.873471 \nL 321.383905 64.907939 \nL 328.631403 60.200962 \nL 337.700968 54.310621 \nL 350.19878 46.193763 \nL 371.742756 32.201761 \n\" style=\"fill:none;stroke:#ff0000;stroke-linecap:square;stroke-width:1.5;\"/>\n   </g>\n   <g id=\"patch_3\">\n    <path d=\"M 52.160938 239.758125 \nL 52.160938 22.318125 \n\" style=\"fill:none;stroke:#000000;stroke-linecap:square;stroke-linejoin:miter;stroke-width:0.8;\"/>\n   </g>\n   <g id=\"patch_4\">\n    <path d=\"M 386.960938 239.758125 \nL 386.960938 22.318125 \n\" style=\"fill:none;stroke:#000000;stroke-linecap:square;stroke-linejoin:miter;stroke-width:0.8;\"/>\n   </g>\n   <g id=\"patch_5\">\n    <path d=\"M 52.160938 239.758125 \nL 386.960938 239.758125 \n\" style=\"fill:none;stroke:#000000;stroke-linecap:square;stroke-linejoin:miter;stroke-width:0.8;\"/>\n   </g>\n   <g id=\"patch_6\">\n    <path d=\"M 52.160938 22.318125 \nL 386.960938 22.318125 \n\" style=\"fill:none;stroke:#000000;stroke-linecap:square;stroke-linejoin:miter;stroke-width:0.8;\"/>\n   </g>\n   <g id=\"text_15\">\n    <!-- -8.73 -->\n    <g transform=\"translate(55.736072 225.732775)scale(0.09 -0.09)\">\n     <defs>\n      <path d=\"M 4.890625 31.390625 \nL 31.203125 31.390625 \nL 31.203125 23.390625 \nL 4.890625 23.390625 \nz\n\" id=\"DejaVuSans-45\"/>\n      <path d=\"M 31.78125 34.625 \nQ 24.75 34.625 20.71875 30.859375 \nQ 16.703125 27.09375 16.703125 20.515625 \nQ 16.703125 13.921875 20.71875 10.15625 \nQ 24.75 6.390625 31.78125 6.390625 \nQ 38.8125 6.390625 42.859375 10.171875 \nQ 46.921875 13.96875 46.921875 20.515625 \nQ 46.921875 27.09375 42.890625 30.859375 \nQ 38.875 34.625 31.78125 34.625 \nz\nM 21.921875 38.8125 \nQ 15.578125 40.375 12.03125 44.71875 \nQ 8.5 49.078125 8.5 55.328125 \nQ 8.5 64.0625 14.71875 69.140625 \nQ 20.953125 74.21875 31.78125 74.21875 \nQ 42.671875 74.21875 48.875 69.140625 \nQ 55.078125 64.0625 55.078125 55.328125 \nQ 55.078125 49.078125 51.53125 44.71875 \nQ 48 40.375 41.703125 38.8125 \nQ 48.828125 37.15625 52.796875 32.3125 \nQ 56.78125 27.484375 56.78125 20.515625 \nQ 56.78125 9.90625 50.3125 4.234375 \nQ 43.84375 -1.421875 31.78125 -1.421875 \nQ 19.734375 -1.421875 13.25 4.234375 \nQ 6.78125 9.90625 6.78125 20.515625 \nQ 6.78125 27.484375 10.78125 32.3125 \nQ 14.796875 37.15625 21.921875 38.8125 \nz\nM 18.3125 54.390625 \nQ 18.3125 48.734375 21.84375 45.5625 \nQ 25.390625 42.390625 31.78125 42.390625 \nQ 38.140625 42.390625 41.71875 45.5625 \nQ 45.3125 48.734375 45.3125 54.390625 \nQ 45.3125 60.0625 41.71875 63.234375 \nQ 38.140625 66.40625 31.78125 66.40625 \nQ 25.390625 66.40625 21.84375 63.234375 \nQ 18.3125 60.0625 18.3125 54.390625 \nz\n\" id=\"DejaVuSans-56\"/>\n      <path d=\"M 40.578125 39.3125 \nQ 47.65625 37.796875 51.625 33 \nQ 55.609375 28.21875 55.609375 21.1875 \nQ 55.609375 10.40625 48.1875 4.484375 \nQ 40.765625 -1.421875 27.09375 -1.421875 \nQ 22.515625 -1.421875 17.65625 -0.515625 \nQ 12.796875 0.390625 7.625 2.203125 \nL 7.625 11.71875 \nQ 11.71875 9.328125 16.59375 8.109375 \nQ 21.484375 6.890625 26.8125 6.890625 \nQ 36.078125 6.890625 40.9375 10.546875 \nQ 45.796875 14.203125 45.796875 21.1875 \nQ 45.796875 27.640625 41.28125 31.265625 \nQ 36.765625 34.90625 28.71875 34.90625 \nL 20.21875 34.90625 \nL 20.21875 43.015625 \nL 29.109375 43.015625 \nQ 36.375 43.015625 40.234375 45.921875 \nQ 44.09375 48.828125 44.09375 54.296875 \nQ 44.09375 59.90625 40.109375 62.90625 \nQ 36.140625 65.921875 28.71875 65.921875 \nQ 24.65625 65.921875 20.015625 65.03125 \nQ 15.375 64.15625 9.8125 62.3125 \nL 9.8125 71.09375 \nQ 15.4375 72.65625 20.34375 73.4375 \nQ 25.25 74.21875 29.59375 74.21875 \nQ 40.828125 74.21875 47.359375 69.109375 \nQ 53.90625 64.015625 53.90625 55.328125 \nQ 53.90625 49.265625 50.4375 45.09375 \nQ 46.96875 40.921875 40.578125 39.3125 \nz\n\" id=\"DejaVuSans-51\"/>\n     </defs>\n     <use xlink:href=\"#DejaVuSans-45\"/>\n     <use x=\"36.083984\" xlink:href=\"#DejaVuSans-56\"/>\n     <use x=\"99.707031\" xlink:href=\"#DejaVuSans-46\"/>\n     <use x=\"131.494141\" xlink:href=\"#DejaVuSans-55\"/>\n     <use x=\"195.117188\" xlink:href=\"#DejaVuSans-51\"/>\n    </g>\n   </g>\n   <g id=\"text_16\">\n    <!-- Probability Plot -->\n    <g transform=\"translate(174.63125 16.318125)scale(0.12 -0.12)\">\n     <defs>\n      <path d=\"M 19.671875 64.796875 \nL 19.671875 37.40625 \nL 32.078125 37.40625 \nQ 38.96875 37.40625 42.71875 40.96875 \nQ 46.484375 44.53125 46.484375 51.125 \nQ 46.484375 57.671875 42.71875 61.234375 \nQ 38.96875 64.796875 32.078125 64.796875 \nz\nM 9.8125 72.90625 \nL 32.078125 72.90625 \nQ 44.34375 72.90625 50.609375 67.359375 \nQ 56.890625 61.8125 56.890625 51.125 \nQ 56.890625 40.328125 50.609375 34.8125 \nQ 44.34375 29.296875 32.078125 29.296875 \nL 19.671875 29.296875 \nL 19.671875 0 \nL 9.8125 0 \nz\n\" id=\"DejaVuSans-80\"/>\n      <path d=\"M 48.6875 27.296875 \nQ 48.6875 37.203125 44.609375 42.84375 \nQ 40.53125 48.484375 33.40625 48.484375 \nQ 26.265625 48.484375 22.1875 42.84375 \nQ 18.109375 37.203125 18.109375 27.296875 \nQ 18.109375 17.390625 22.1875 11.75 \nQ 26.265625 6.109375 33.40625 6.109375 \nQ 40.53125 6.109375 44.609375 11.75 \nQ 48.6875 17.390625 48.6875 27.296875 \nz\nM 18.109375 46.390625 \nQ 20.953125 51.265625 25.265625 53.625 \nQ 29.59375 56 35.59375 56 \nQ 45.5625 56 51.78125 48.09375 \nQ 58.015625 40.1875 58.015625 27.296875 \nQ 58.015625 14.40625 51.78125 6.484375 \nQ 45.5625 -1.421875 35.59375 -1.421875 \nQ 29.59375 -1.421875 25.265625 0.953125 \nQ 20.953125 3.328125 18.109375 8.203125 \nL 18.109375 0 \nL 9.078125 0 \nL 9.078125 75.984375 \nL 18.109375 75.984375 \nz\n\" id=\"DejaVuSans-98\"/>\n      <path d=\"M 32.171875 -5.078125 \nQ 28.375 -14.84375 24.75 -17.8125 \nQ 21.140625 -20.796875 15.09375 -20.796875 \nL 7.90625 -20.796875 \nL 7.90625 -13.28125 \nL 13.1875 -13.28125 \nQ 16.890625 -13.28125 18.9375 -11.515625 \nQ 21 -9.765625 23.484375 -3.21875 \nL 25.09375 0.875 \nL 2.984375 54.6875 \nL 12.5 54.6875 \nL 29.59375 11.921875 \nL 46.6875 54.6875 \nL 56.203125 54.6875 \nz\n\" id=\"DejaVuSans-121\"/>\n     </defs>\n     <use xlink:href=\"#DejaVuSans-80\"/>\n     <use x=\"58.552734\" xlink:href=\"#DejaVuSans-114\"/>\n     <use x=\"97.416016\" xlink:href=\"#DejaVuSans-111\"/>\n     <use x=\"158.597656\" xlink:href=\"#DejaVuSans-98\"/>\n     <use x=\"222.074219\" xlink:href=\"#DejaVuSans-97\"/>\n     <use x=\"283.353516\" xlink:href=\"#DejaVuSans-98\"/>\n     <use x=\"346.830078\" xlink:href=\"#DejaVuSans-105\"/>\n     <use x=\"374.613281\" xlink:href=\"#DejaVuSans-108\"/>\n     <use x=\"402.396484\" xlink:href=\"#DejaVuSans-105\"/>\n     <use x=\"430.179688\" xlink:href=\"#DejaVuSans-116\"/>\n     <use x=\"469.388672\" xlink:href=\"#DejaVuSans-121\"/>\n     <use x=\"528.568359\" xlink:href=\"#DejaVuSans-32\"/>\n     <use x=\"560.355469\" xlink:href=\"#DejaVuSans-80\"/>\n     <use x=\"620.658203\" xlink:href=\"#DejaVuSans-108\"/>\n     <use x=\"648.441406\" xlink:href=\"#DejaVuSans-111\"/>\n     <use x=\"709.623047\" xlink:href=\"#DejaVuSans-116\"/>\n    </g>\n   </g>\n  </g>\n </g>\n <defs>\n  <clipPath id=\"pd21d1c8956\">\n   <rect height=\"217.44\" width=\"334.8\" x=\"52.160938\" y=\"22.318125\"/>\n  </clipPath>\n </defs>\n</svg>\n",
      "image/png": "[encoded data removed]"
     },
     "metadata": {
      "needs_background": "light"
     }
    }
   ],
   "source": [
    "# 残差的正态概率图\n",
    "osm, osr = stats.probplot(res, dist = 'norm', plot = plt)\n",
    "x = osm[0][0]\n",
    "y = osm[1][0]\n",
    "plt.text(x, y, '%.2f' % float(y), ha='center', va= 'bottom', fontsize=9)\n",
    "plt.grid()\n",
    "plt.show()"
   ]
  },
  {
   "cell_type": "code",
   "execution_count": 13,
   "metadata": {},
   "outputs": [
    {
     "output_type": "stream",
     "name": "stdout",
     "text": [
      "残差 -8.73 不是异常值.\n"
     ]
    }
   ],
   "source": [
    "# 异常值检验\n",
    "MSE = SSE / (n - p - 1)\n",
    "# MSE = model.mse_resid\n",
    "d = np.abs(y) / np.sqrt(MSE)\n",
    "if d < 3:\n",
    "    print('残差', round(y, 2), '不是异常值.')\n",
    "else:\n",
    "    print('残差', round(y, 2), '是异常值')\n"
   ]
  },
  {
   "cell_type": "markdown",
   "metadata": {},
   "source": []
  },
  {
   "cell_type": "markdown",
   "metadata": {},
   "source": [
    "**残差分析2: 残差与拟合值的关系图**   \n",
    "使用残差与拟合值图可验证“残差随机分布”和“具有常量方差”的假设。理想情况下，点应当在 0 的两端随机分布（模型的拟合点应该平均散布在被拟合值点附近），点中无可辨识的模式。  \n",
    "下表中的模式可能表示该模型不满足模型假设: "
   ]
  },
  {
   "cell_type": "markdown",
   "metadata": {},
   "source": [
    "| 模式 | 模式的含义 |\n",
    "| :----------: | :--------: |\n",
    "| 残差相对拟合值呈扇形或不均匀分散 | 异方差 |\n",
    "| 曲线 | 缺少高阶项 |\n",
    "| 远离 0 的点 | 异常值 |\n",
    "| 在 X 方向远离其他点的点 | 有影响的点|"
   ]
  },
  {
   "cell_type": "code",
   "execution_count": 14,
   "metadata": {
    "scrolled": true
   },
   "outputs": [
    {
     "output_type": "execute_result",
     "data": {
      "text/plain": [
       "Text(0, 0.5, 'e_i')"
      ]
     },
     "metadata": {},
     "execution_count": 14
    },
    {
     "output_type": "display_data",
     "data": {
      "text/plain": "<Figure size 432x288 with 1 Axes>",
      "image/svg+xml": "<?xml version=\"1.0\" encoding=\"utf-8\" standalone=\"no\"?>\n<!DOCTYPE svg PUBLIC \"-//W3C//DTD SVG 1.1//EN\"\n  \"http://www.w3.org/Graphics/SVG/1.1/DTD/svg11.dtd\">\n<!-- Created with matplotlib (https://matplotlib.org/) -->\n<svg height=\"277.5925pt\" version=\"1.1\" viewBox=\"0 0 384.898437 277.5925\" width=\"384.898437pt\" xmlns=\"http://www.w3.org/2000/svg\" xmlns:xlink=\"http://www.w3.org/1999/xlink\">\n <metadata>\n  <rdf:RDF xmlns:cc=\"http://creativecommons.org/ns#\" xmlns:dc=\"http://purl.org/dc/elements/1.1/\" xmlns:rdf=\"http://www.w3.org/1999/02/22-rdf-syntax-ns#\">\n   <cc:Work>\n    <dc:type rdf:resource=\"http://purl.org/dc/dcmitype/StillImage\"/>\n    <dc:date>2021-04-14T11:05:09.067432</dc:date>\n    <dc:format>image/svg+xml</dc:format>\n    <dc:creator>\n     <cc:Agent>\n      <dc:title>Matplotlib v3.3.2, https://matplotlib.org/</dc:title>\n     </cc:Agent>\n    </dc:creator>\n   </cc:Work>\n  </rdf:RDF>\n </metadata>\n <defs>\n  <style type=\"text/css\">*{stroke-linecap:butt;stroke-linejoin:round;}</style>\n </defs>\n <g id=\"figure_1\">\n  <g id=\"patch_1\">\n   <path d=\"M 0 277.5925 \nL 384.898437 277.5925 \nL 384.898437 0 \nL 0 0 \nz\n\" style=\"fill:none;\"/>\n  </g>\n  <g id=\"axes_1\">\n   <g id=\"patch_2\">\n    <path d=\"M 42.898438 239.758125 \nL 377.698438 239.758125 \nL 377.698438 22.318125 \nL 42.898438 22.318125 \nz\n\" style=\"fill:#ffffff;\"/>\n   </g>\n   <g id=\"PathCollection_1\">\n    <defs>\n     <path d=\"M 0 3 \nC 0.795609 3 1.55874 2.683901 2.12132 2.12132 \nC 2.683901 1.55874 3 0.795609 3 0 \nC 3 -0.795609 2.683901 -1.55874 2.12132 -2.12132 \nC 1.55874 -2.683901 0.795609 -3 0 -3 \nC -0.795609 -3 -1.55874 -2.683901 -2.12132 -2.12132 \nC -2.683901 -1.55874 -3 -0.795609 -3 0 \nC -3 0.795609 -2.683901 1.55874 -2.12132 2.12132 \nC -1.55874 2.683901 -0.795609 3 0 3 \nz\n\" id=\"m3a83b786ba\" style=\"stroke:#ff0000;\"/>\n    </defs>\n    <g clip-path=\"url(#pe48beee476)\">\n     <use style=\"fill:#ff0000;stroke:#ff0000;\" x=\"141.948021\" xlink:href=\"#m3a83b786ba\" y=\"176.401754\"/>\n     <use style=\"fill:#ff0000;stroke:#ff0000;\" x=\"142.538108\" xlink:href=\"#m3a83b786ba\" y=\"85.579997\"/>\n     <use style=\"fill:#ff0000;stroke:#ff0000;\" x=\"198.229014\" xlink:href=\"#m3a83b786ba\" y=\"32.201761\"/>\n     <use style=\"fill:#ff0000;stroke:#ff0000;\" x=\"342.386042\" xlink:href=\"#m3a83b786ba\" y=\"115.09063\"/>\n     <use style=\"fill:#ff0000;stroke:#ff0000;\" x=\"290.696785\" xlink:href=\"#m3a83b786ba\" y=\"147.856716\"/>\n     <use style=\"fill:#ff0000;stroke:#ff0000;\" x=\"317.110007\" xlink:href=\"#m3a83b786ba\" y=\"132.265351\"/>\n     <use style=\"fill:#ff0000;stroke:#ff0000;\" x=\"303.924889\" xlink:href=\"#m3a83b786ba\" y=\"166.274775\"/>\n     <use style=\"fill:#ff0000;stroke:#ff0000;\" x=\"89.121577\" xlink:href=\"#m3a83b786ba\" y=\"102.849217\"/>\n     <use style=\"fill:#ff0000;stroke:#ff0000;\" x=\"58.116619\" xlink:href=\"#m3a83b786ba\" y=\"229.874489\"/>\n     <use style=\"fill:#ff0000;stroke:#ff0000;\" x=\"81.665381\" xlink:href=\"#m3a83b786ba\" y=\"79.375726\"/>\n     <use style=\"fill:#ff0000;stroke:#ff0000;\" x=\"302.744716\" xlink:href=\"#m3a83b786ba\" y=\"99.172028\"/>\n     <use style=\"fill:#ff0000;stroke:#ff0000;\" x=\"159.177774\" xlink:href=\"#m3a83b786ba\" y=\"108.748121\"/>\n     <use style=\"fill:#ff0000;stroke:#ff0000;\" x=\"261.966202\" xlink:href=\"#m3a83b786ba\" y=\"173.31343\"/>\n     <use style=\"fill:#ff0000;stroke:#ff0000;\" x=\"362.480256\" xlink:href=\"#m3a83b786ba\" y=\"182.344395\"/>\n     <use style=\"fill:#ff0000;stroke:#ff0000;\" x=\"208.549671\" xlink:href=\"#m3a83b786ba\" y=\"112.0312\"/>\n     <use style=\"fill:#ff0000;stroke:#ff0000;\" x=\"346.977777\" xlink:href=\"#m3a83b786ba\" y=\"121.4839\"/>\n     <use style=\"fill:#ff0000;stroke:#ff0000;\" x=\"311.381085\" xlink:href=\"#m3a83b786ba\" y=\"71.921091\"/>\n     <use style=\"fill:#ff0000;stroke:#ff0000;\" x=\"321.701742\" xlink:href=\"#m3a83b786ba\" y=\"47.015262\"/>\n     <use style=\"fill:#ff0000;stroke:#ff0000;\" x=\"212.594305\" xlink:href=\"#m3a83b786ba\" y=\"130.754626\"/>\n     <use style=\"fill:#ff0000;stroke:#ff0000;\" x=\"214.321579\" xlink:href=\"#m3a83b786ba\" y=\"67.700042\"/>\n     <use style=\"fill:#ff0000;stroke:#ff0000;\" x=\"60.981081\" xlink:href=\"#m3a83b786ba\" y=\"102.943717\"/>\n     <use style=\"fill:#ff0000;stroke:#ff0000;\" x=\"197.091826\" xlink:href=\"#m3a83b786ba\" y=\"56.802223\"/>\n     <use style=\"fill:#ff0000;stroke:#ff0000;\" x=\"141.948021\" xlink:href=\"#m3a83b786ba\" y=\"176.401754\"/>\n     <use style=\"fill:#ff0000;stroke:#ff0000;\" x=\"142.538108\" xlink:href=\"#m3a83b786ba\" y=\"85.579997\"/>\n     <use style=\"fill:#ff0000;stroke:#ff0000;\" x=\"198.229014\" xlink:href=\"#m3a83b786ba\" y=\"32.201761\"/>\n     <use style=\"fill:#ff0000;stroke:#ff0000;\" x=\"342.386042\" xlink:href=\"#m3a83b786ba\" y=\"115.09063\"/>\n     <use style=\"fill:#ff0000;stroke:#ff0000;\" x=\"290.696785\" xlink:href=\"#m3a83b786ba\" y=\"147.856716\"/>\n     <use style=\"fill:#ff0000;stroke:#ff0000;\" x=\"317.110007\" xlink:href=\"#m3a83b786ba\" y=\"132.265351\"/>\n     <use style=\"fill:#ff0000;stroke:#ff0000;\" x=\"303.924889\" xlink:href=\"#m3a83b786ba\" y=\"166.274775\"/>\n     <use style=\"fill:#ff0000;stroke:#ff0000;\" x=\"89.121577\" xlink:href=\"#m3a83b786ba\" y=\"102.849217\"/>\n     <use style=\"fill:#ff0000;stroke:#ff0000;\" x=\"58.116619\" xlink:href=\"#m3a83b786ba\" y=\"229.874489\"/>\n     <use style=\"fill:#ff0000;stroke:#ff0000;\" x=\"81.665381\" xlink:href=\"#m3a83b786ba\" y=\"79.375726\"/>\n     <use style=\"fill:#ff0000;stroke:#ff0000;\" x=\"302.744716\" xlink:href=\"#m3a83b786ba\" y=\"99.172028\"/>\n     <use style=\"fill:#ff0000;stroke:#ff0000;\" x=\"159.177774\" xlink:href=\"#m3a83b786ba\" y=\"108.748121\"/>\n     <use style=\"fill:#ff0000;stroke:#ff0000;\" x=\"261.966202\" xlink:href=\"#m3a83b786ba\" y=\"173.31343\"/>\n     <use style=\"fill:#ff0000;stroke:#ff0000;\" x=\"362.480256\" xlink:href=\"#m3a83b786ba\" y=\"182.344395\"/>\n     <use style=\"fill:#ff0000;stroke:#ff0000;\" x=\"208.549671\" xlink:href=\"#m3a83b786ba\" y=\"112.0312\"/>\n     <use style=\"fill:#ff0000;stroke:#ff0000;\" x=\"346.977777\" xlink:href=\"#m3a83b786ba\" y=\"121.4839\"/>\n     <use style=\"fill:#ff0000;stroke:#ff0000;\" x=\"311.381085\" xlink:href=\"#m3a83b786ba\" y=\"71.921091\"/>\n     <use style=\"fill:#ff0000;stroke:#ff0000;\" x=\"321.701742\" xlink:href=\"#m3a83b786ba\" y=\"47.015262\"/>\n     <use style=\"fill:#ff0000;stroke:#ff0000;\" x=\"212.594305\" xlink:href=\"#m3a83b786ba\" y=\"130.754626\"/>\n     <use style=\"fill:#ff0000;stroke:#ff0000;\" x=\"214.321579\" xlink:href=\"#m3a83b786ba\" y=\"67.700042\"/>\n     <use style=\"fill:#ff0000;stroke:#ff0000;\" x=\"60.981081\" xlink:href=\"#m3a83b786ba\" y=\"102.943717\"/>\n     <use style=\"fill:#ff0000;stroke:#ff0000;\" x=\"197.091826\" xlink:href=\"#m3a83b786ba\" y=\"56.802223\"/>\n     <use style=\"fill:#ff0000;stroke:#ff0000;\" x=\"141.948021\" xlink:href=\"#m3a83b786ba\" y=\"176.401754\"/>\n     <use style=\"fill:#ff0000;stroke:#ff0000;\" x=\"142.538108\" xlink:href=\"#m3a83b786ba\" y=\"85.579997\"/>\n     <use style=\"fill:#ff0000;stroke:#ff0000;\" x=\"198.229014\" xlink:href=\"#m3a83b786ba\" y=\"32.201761\"/>\n     <use style=\"fill:#ff0000;stroke:#ff0000;\" x=\"342.386042\" xlink:href=\"#m3a83b786ba\" y=\"115.09063\"/>\n     <use style=\"fill:#ff0000;stroke:#ff0000;\" x=\"290.696785\" xlink:href=\"#m3a83b786ba\" y=\"147.856716\"/>\n     <use style=\"fill:#ff0000;stroke:#ff0000;\" x=\"317.110007\" xlink:href=\"#m3a83b786ba\" y=\"132.265351\"/>\n     <use style=\"fill:#ff0000;stroke:#ff0000;\" x=\"303.924889\" xlink:href=\"#m3a83b786ba\" y=\"166.274775\"/>\n     <use style=\"fill:#ff0000;stroke:#ff0000;\" x=\"89.121577\" xlink:href=\"#m3a83b786ba\" y=\"102.849217\"/>\n     <use style=\"fill:#ff0000;stroke:#ff0000;\" x=\"58.116619\" xlink:href=\"#m3a83b786ba\" y=\"229.874489\"/>\n     <use style=\"fill:#ff0000;stroke:#ff0000;\" x=\"81.665381\" xlink:href=\"#m3a83b786ba\" y=\"79.375726\"/>\n     <use style=\"fill:#ff0000;stroke:#ff0000;\" x=\"302.744716\" xlink:href=\"#m3a83b786ba\" y=\"99.172028\"/>\n     <use style=\"fill:#ff0000;stroke:#ff0000;\" x=\"159.177774\" xlink:href=\"#m3a83b786ba\" y=\"108.748121\"/>\n     <use style=\"fill:#ff0000;stroke:#ff0000;\" x=\"261.966202\" xlink:href=\"#m3a83b786ba\" y=\"173.31343\"/>\n     <use style=\"fill:#ff0000;stroke:#ff0000;\" x=\"362.480256\" xlink:href=\"#m3a83b786ba\" y=\"182.344395\"/>\n     <use style=\"fill:#ff0000;stroke:#ff0000;\" x=\"208.549671\" xlink:href=\"#m3a83b786ba\" y=\"112.0312\"/>\n     <use style=\"fill:#ff0000;stroke:#ff0000;\" x=\"346.977777\" xlink:href=\"#m3a83b786ba\" y=\"121.4839\"/>\n     <use style=\"fill:#ff0000;stroke:#ff0000;\" x=\"311.381085\" xlink:href=\"#m3a83b786ba\" y=\"71.921091\"/>\n     <use style=\"fill:#ff0000;stroke:#ff0000;\" x=\"321.701742\" xlink:href=\"#m3a83b786ba\" y=\"47.015262\"/>\n     <use style=\"fill:#ff0000;stroke:#ff0000;\" x=\"212.594305\" xlink:href=\"#m3a83b786ba\" y=\"130.754626\"/>\n     <use style=\"fill:#ff0000;stroke:#ff0000;\" x=\"214.321579\" xlink:href=\"#m3a83b786ba\" y=\"67.700042\"/>\n     <use style=\"fill:#ff0000;stroke:#ff0000;\" x=\"60.981081\" xlink:href=\"#m3a83b786ba\" y=\"102.943717\"/>\n     <use style=\"fill:#ff0000;stroke:#ff0000;\" x=\"197.091826\" xlink:href=\"#m3a83b786ba\" y=\"56.802223\"/>\n     <use style=\"fill:#ff0000;stroke:#ff0000;\" x=\"141.948021\" xlink:href=\"#m3a83b786ba\" y=\"176.401754\"/>\n     <use style=\"fill:#ff0000;stroke:#ff0000;\" x=\"142.538108\" xlink:href=\"#m3a83b786ba\" y=\"85.579997\"/>\n     <use style=\"fill:#ff0000;stroke:#ff0000;\" x=\"198.229014\" xlink:href=\"#m3a83b786ba\" y=\"32.201761\"/>\n     <use style=\"fill:#ff0000;stroke:#ff0000;\" x=\"342.386042\" xlink:href=\"#m3a83b786ba\" y=\"115.09063\"/>\n     <use style=\"fill:#ff0000;stroke:#ff0000;\" x=\"290.696785\" xlink:href=\"#m3a83b786ba\" y=\"147.856716\"/>\n     <use style=\"fill:#ff0000;stroke:#ff0000;\" x=\"317.110007\" xlink:href=\"#m3a83b786ba\" y=\"132.265351\"/>\n     <use style=\"fill:#ff0000;stroke:#ff0000;\" x=\"303.924889\" xlink:href=\"#m3a83b786ba\" y=\"166.274775\"/>\n     <use style=\"fill:#ff0000;stroke:#ff0000;\" x=\"89.121577\" xlink:href=\"#m3a83b786ba\" y=\"102.849217\"/>\n     <use style=\"fill:#ff0000;stroke:#ff0000;\" x=\"58.116619\" xlink:href=\"#m3a83b786ba\" y=\"229.874489\"/>\n     <use style=\"fill:#ff0000;stroke:#ff0000;\" x=\"81.665381\" xlink:href=\"#m3a83b786ba\" y=\"79.375726\"/>\n     <use style=\"fill:#ff0000;stroke:#ff0000;\" x=\"302.744716\" xlink:href=\"#m3a83b786ba\" y=\"99.172028\"/>\n     <use style=\"fill:#ff0000;stroke:#ff0000;\" x=\"159.177774\" xlink:href=\"#m3a83b786ba\" y=\"108.748121\"/>\n     <use style=\"fill:#ff0000;stroke:#ff0000;\" x=\"261.966202\" xlink:href=\"#m3a83b786ba\" y=\"173.31343\"/>\n     <use style=\"fill:#ff0000;stroke:#ff0000;\" x=\"362.480256\" xlink:href=\"#m3a83b786ba\" y=\"182.344395\"/>\n     <use style=\"fill:#ff0000;stroke:#ff0000;\" x=\"208.549671\" xlink:href=\"#m3a83b786ba\" y=\"112.0312\"/>\n     <use style=\"fill:#ff0000;stroke:#ff0000;\" x=\"346.977777\" xlink:href=\"#m3a83b786ba\" y=\"121.4839\"/>\n     <use style=\"fill:#ff0000;stroke:#ff0000;\" x=\"311.381085\" xlink:href=\"#m3a83b786ba\" y=\"71.921091\"/>\n     <use style=\"fill:#ff0000;stroke:#ff0000;\" x=\"321.701742\" xlink:href=\"#m3a83b786ba\" y=\"47.015262\"/>\n     <use style=\"fill:#ff0000;stroke:#ff0000;\" x=\"212.594305\" xlink:href=\"#m3a83b786ba\" y=\"130.754626\"/>\n     <use style=\"fill:#ff0000;stroke:#ff0000;\" x=\"214.321579\" xlink:href=\"#m3a83b786ba\" y=\"67.700042\"/>\n     <use style=\"fill:#ff0000;stroke:#ff0000;\" x=\"60.981081\" xlink:href=\"#m3a83b786ba\" y=\"102.943717\"/>\n     <use style=\"fill:#ff0000;stroke:#ff0000;\" x=\"197.091826\" xlink:href=\"#m3a83b786ba\" y=\"56.802223\"/>\n    </g>\n   </g>\n   <g id=\"matplotlib.axis_1\">\n    <g id=\"xtick_1\">\n     <g id=\"line2d_1\">\n      <defs>\n       <path d=\"M 0 0 \nL 0 3.5 \n\" id=\"mc04ad1393a\" style=\"stroke:#000000;stroke-width:0.8;\"/>\n      </defs>\n      <g>\n       <use style=\"stroke:#000000;stroke-width:0.8;\" x=\"70.031837\" xlink:href=\"#mc04ad1393a\" y=\"239.758125\"/>\n      </g>\n     </g>\n     <g id=\"text_1\">\n      <!-- 65 -->\n      <g transform=\"translate(63.669337 254.356563)scale(0.1 -0.1)\">\n       <defs>\n        <path d=\"M 33.015625 40.375 \nQ 26.375 40.375 22.484375 35.828125 \nQ 18.609375 31.296875 18.609375 23.390625 \nQ 18.609375 15.53125 22.484375 10.953125 \nQ 26.375 6.390625 33.015625 6.390625 \nQ 39.65625 6.390625 43.53125 10.953125 \nQ 47.40625 15.53125 47.40625 23.390625 \nQ 47.40625 31.296875 43.53125 35.828125 \nQ 39.65625 40.375 33.015625 40.375 \nz\nM 52.59375 71.296875 \nL 52.59375 62.3125 \nQ 48.875 64.0625 45.09375 64.984375 \nQ 41.3125 65.921875 37.59375 65.921875 \nQ 27.828125 65.921875 22.671875 59.328125 \nQ 17.53125 52.734375 16.796875 39.40625 \nQ 19.671875 43.65625 24.015625 45.921875 \nQ 28.375 48.1875 33.59375 48.1875 \nQ 44.578125 48.1875 50.953125 41.515625 \nQ 57.328125 34.859375 57.328125 23.390625 \nQ 57.328125 12.15625 50.6875 5.359375 \nQ 44.046875 -1.421875 33.015625 -1.421875 \nQ 20.359375 -1.421875 13.671875 8.265625 \nQ 6.984375 17.96875 6.984375 36.375 \nQ 6.984375 53.65625 15.1875 63.9375 \nQ 23.390625 74.21875 37.203125 74.21875 \nQ 40.921875 74.21875 44.703125 73.484375 \nQ 48.484375 72.75 52.59375 71.296875 \nz\n\" id=\"DejaVuSans-54\"/>\n        <path d=\"M 10.796875 72.90625 \nL 49.515625 72.90625 \nL 49.515625 64.59375 \nL 19.828125 64.59375 \nL 19.828125 46.734375 \nQ 21.96875 47.46875 24.109375 47.828125 \nQ 26.265625 48.1875 28.421875 48.1875 \nQ 40.625 48.1875 47.75 41.5 \nQ 54.890625 34.8125 54.890625 23.390625 \nQ 54.890625 11.625 47.5625 5.09375 \nQ 40.234375 -1.421875 26.90625 -1.421875 \nQ 22.3125 -1.421875 17.546875 -0.640625 \nQ 12.796875 0.140625 7.71875 1.703125 \nL 7.71875 11.625 \nQ 12.109375 9.234375 16.796875 8.0625 \nQ 21.484375 6.890625 26.703125 6.890625 \nQ 35.15625 6.890625 40.078125 11.328125 \nQ 45.015625 15.765625 45.015625 23.390625 \nQ 45.015625 31 40.078125 35.4375 \nQ 35.15625 39.890625 26.703125 39.890625 \nQ 22.75 39.890625 18.8125 39.015625 \nQ 14.890625 38.140625 10.796875 36.28125 \nz\n\" id=\"DejaVuSans-53\"/>\n       </defs>\n       <use xlink:href=\"#DejaVuSans-54\"/>\n       <use x=\"63.623047\" xlink:href=\"#DejaVuSans-53\"/>\n      </g>\n     </g>\n    </g>\n    <g id=\"xtick_2\">\n     <g id=\"line2d_2\">\n      <g>\n       <use style=\"stroke:#000000;stroke-width:0.8;\" x=\"117.045782\" xlink:href=\"#mc04ad1393a\" y=\"239.758125\"/>\n      </g>\n     </g>\n     <g id=\"text_2\">\n      <!-- 70 -->\n      <g transform=\"translate(110.683282 254.356563)scale(0.1 -0.1)\">\n       <defs>\n        <path d=\"M 8.203125 72.90625 \nL 55.078125 72.90625 \nL 55.078125 68.703125 \nL 28.609375 0 \nL 18.3125 0 \nL 43.21875 64.59375 \nL 8.203125 64.59375 \nz\n\" id=\"DejaVuSans-55\"/>\n        <path d=\"M 31.78125 66.40625 \nQ 24.171875 66.40625 20.328125 58.90625 \nQ 16.5 51.421875 16.5 36.375 \nQ 16.5 21.390625 20.328125 13.890625 \nQ 24.171875 6.390625 31.78125 6.390625 \nQ 39.453125 6.390625 43.28125 13.890625 \nQ 47.125 21.390625 47.125 36.375 \nQ 47.125 51.421875 43.28125 58.90625 \nQ 39.453125 66.40625 31.78125 66.40625 \nz\nM 31.78125 74.21875 \nQ 44.046875 74.21875 50.515625 64.515625 \nQ 56.984375 54.828125 56.984375 36.375 \nQ 56.984375 17.96875 50.515625 8.265625 \nQ 44.046875 -1.421875 31.78125 -1.421875 \nQ 19.53125 -1.421875 13.0625 8.265625 \nQ 6.59375 17.96875 6.59375 36.375 \nQ 6.59375 54.828125 13.0625 64.515625 \nQ 19.53125 74.21875 31.78125 74.21875 \nz\n\" id=\"DejaVuSans-48\"/>\n       </defs>\n       <use xlink:href=\"#DejaVuSans-55\"/>\n       <use x=\"63.623047\" xlink:href=\"#DejaVuSans-48\"/>\n      </g>\n     </g>\n    </g>\n    <g id=\"xtick_3\">\n     <g id=\"line2d_3\">\n      <g>\n       <use style=\"stroke:#000000;stroke-width:0.8;\" x=\"164.059727\" xlink:href=\"#mc04ad1393a\" y=\"239.758125\"/>\n      </g>\n     </g>\n     <g id=\"text_3\">\n      <!-- 75 -->\n      <g transform=\"translate(157.697227 254.356563)scale(0.1 -0.1)\">\n       <use xlink:href=\"#DejaVuSans-55\"/>\n       <use x=\"63.623047\" xlink:href=\"#DejaVuSans-53\"/>\n      </g>\n     </g>\n    </g>\n    <g id=\"xtick_4\">\n     <g id=\"line2d_4\">\n      <g>\n       <use style=\"stroke:#000000;stroke-width:0.8;\" x=\"211.073672\" xlink:href=\"#mc04ad1393a\" y=\"239.758125\"/>\n      </g>\n     </g>\n     <g id=\"text_4\">\n      <!-- 80 -->\n      <g transform=\"translate(204.711172 254.356563)scale(0.1 -0.1)\">\n       <defs>\n        <path d=\"M 31.78125 34.625 \nQ 24.75 34.625 20.71875 30.859375 \nQ 16.703125 27.09375 16.703125 20.515625 \nQ 16.703125 13.921875 20.71875 10.15625 \nQ 24.75 6.390625 31.78125 6.390625 \nQ 38.8125 6.390625 42.859375 10.171875 \nQ 46.921875 13.96875 46.921875 20.515625 \nQ 46.921875 27.09375 42.890625 30.859375 \nQ 38.875 34.625 31.78125 34.625 \nz\nM 21.921875 38.8125 \nQ 15.578125 40.375 12.03125 44.71875 \nQ 8.5 49.078125 8.5 55.328125 \nQ 8.5 64.0625 14.71875 69.140625 \nQ 20.953125 74.21875 31.78125 74.21875 \nQ 42.671875 74.21875 48.875 69.140625 \nQ 55.078125 64.0625 55.078125 55.328125 \nQ 55.078125 49.078125 51.53125 44.71875 \nQ 48 40.375 41.703125 38.8125 \nQ 48.828125 37.15625 52.796875 32.3125 \nQ 56.78125 27.484375 56.78125 20.515625 \nQ 56.78125 9.90625 50.3125 4.234375 \nQ 43.84375 -1.421875 31.78125 -1.421875 \nQ 19.734375 -1.421875 13.25 4.234375 \nQ 6.78125 9.90625 6.78125 20.515625 \nQ 6.78125 27.484375 10.78125 32.3125 \nQ 14.796875 37.15625 21.921875 38.8125 \nz\nM 18.3125 54.390625 \nQ 18.3125 48.734375 21.84375 45.5625 \nQ 25.390625 42.390625 31.78125 42.390625 \nQ 38.140625 42.390625 41.71875 45.5625 \nQ 45.3125 48.734375 45.3125 54.390625 \nQ 45.3125 60.0625 41.71875 63.234375 \nQ 38.140625 66.40625 31.78125 66.40625 \nQ 25.390625 66.40625 21.84375 63.234375 \nQ 18.3125 60.0625 18.3125 54.390625 \nz\n\" id=\"DejaVuSans-56\"/>\n       </defs>\n       <use xlink:href=\"#DejaVuSans-56\"/>\n       <use x=\"63.623047\" xlink:href=\"#DejaVuSans-48\"/>\n      </g>\n     </g>\n    </g>\n    <g id=\"xtick_5\">\n     <g id=\"line2d_5\">\n      <g>\n       <use style=\"stroke:#000000;stroke-width:0.8;\" x=\"258.087617\" xlink:href=\"#mc04ad1393a\" y=\"239.758125\"/>\n      </g>\n     </g>\n     <g id=\"text_5\">\n      <!-- 85 -->\n      <g transform=\"translate(251.725117 254.356563)scale(0.1 -0.1)\">\n       <use xlink:href=\"#DejaVuSans-56\"/>\n       <use x=\"63.623047\" xlink:href=\"#DejaVuSans-53\"/>\n      </g>\n     </g>\n    </g>\n    <g id=\"xtick_6\">\n     <g id=\"line2d_6\">\n      <g>\n       <use style=\"stroke:#000000;stroke-width:0.8;\" x=\"305.101562\" xlink:href=\"#mc04ad1393a\" y=\"239.758125\"/>\n      </g>\n     </g>\n     <g id=\"text_6\">\n      <!-- 90 -->\n      <g transform=\"translate(298.739062 254.356563)scale(0.1 -0.1)\">\n       <defs>\n        <path d=\"M 10.984375 1.515625 \nL 10.984375 10.5 \nQ 14.703125 8.734375 18.5 7.8125 \nQ 22.3125 6.890625 25.984375 6.890625 \nQ 35.75 6.890625 40.890625 13.453125 \nQ 46.046875 20.015625 46.78125 33.40625 \nQ 43.953125 29.203125 39.59375 26.953125 \nQ 35.25 24.703125 29.984375 24.703125 \nQ 19.046875 24.703125 12.671875 31.3125 \nQ 6.296875 37.9375 6.296875 49.421875 \nQ 6.296875 60.640625 12.9375 67.421875 \nQ 19.578125 74.21875 30.609375 74.21875 \nQ 43.265625 74.21875 49.921875 64.515625 \nQ 56.59375 54.828125 56.59375 36.375 \nQ 56.59375 19.140625 48.40625 8.859375 \nQ 40.234375 -1.421875 26.421875 -1.421875 \nQ 22.703125 -1.421875 18.890625 -0.6875 \nQ 15.09375 0.046875 10.984375 1.515625 \nz\nM 30.609375 32.421875 \nQ 37.25 32.421875 41.125 36.953125 \nQ 45.015625 41.5 45.015625 49.421875 \nQ 45.015625 57.28125 41.125 61.84375 \nQ 37.25 66.40625 30.609375 66.40625 \nQ 23.96875 66.40625 20.09375 61.84375 \nQ 16.21875 57.28125 16.21875 49.421875 \nQ 16.21875 41.5 20.09375 36.953125 \nQ 23.96875 32.421875 30.609375 32.421875 \nz\n\" id=\"DejaVuSans-57\"/>\n       </defs>\n       <use xlink:href=\"#DejaVuSans-57\"/>\n       <use x=\"63.623047\" xlink:href=\"#DejaVuSans-48\"/>\n      </g>\n     </g>\n    </g>\n    <g id=\"xtick_7\">\n     <g id=\"line2d_7\">\n      <g>\n       <use style=\"stroke:#000000;stroke-width:0.8;\" x=\"352.115507\" xlink:href=\"#mc04ad1393a\" y=\"239.758125\"/>\n      </g>\n     </g>\n     <g id=\"text_7\">\n      <!-- 95 -->\n      <g transform=\"translate(345.753007 254.356563)scale(0.1 -0.1)\">\n       <use xlink:href=\"#DejaVuSans-57\"/>\n       <use x=\"63.623047\" xlink:href=\"#DejaVuSans-53\"/>\n      </g>\n     </g>\n    </g>\n    <g id=\"text_8\">\n     <!-- y_i -->\n     <g transform=\"translate(203.45 268.034688)scale(0.1 -0.1)\">\n      <defs>\n       <path d=\"M 32.171875 -5.078125 \nQ 28.375 -14.84375 24.75 -17.8125 \nQ 21.140625 -20.796875 15.09375 -20.796875 \nL 7.90625 -20.796875 \nL 7.90625 -13.28125 \nL 13.1875 -13.28125 \nQ 16.890625 -13.28125 18.9375 -11.515625 \nQ 21 -9.765625 23.484375 -3.21875 \nL 25.09375 0.875 \nL 2.984375 54.6875 \nL 12.5 54.6875 \nL 29.59375 11.921875 \nL 46.6875 54.6875 \nL 56.203125 54.6875 \nz\n\" id=\"DejaVuSans-121\"/>\n       <path d=\"M 50.984375 -16.609375 \nL 50.984375 -23.578125 \nL -0.984375 -23.578125 \nL -0.984375 -16.609375 \nz\n\" id=\"DejaVuSans-95\"/>\n       <path d=\"M 9.421875 54.6875 \nL 18.40625 54.6875 \nL 18.40625 0 \nL 9.421875 0 \nz\nM 9.421875 75.984375 \nL 18.40625 75.984375 \nL 18.40625 64.59375 \nL 9.421875 64.59375 \nz\n\" id=\"DejaVuSans-105\"/>\n      </defs>\n      <use xlink:href=\"#DejaVuSans-121\"/>\n      <use x=\"59.179688\" xlink:href=\"#DejaVuSans-95\"/>\n      <use x=\"109.179688\" xlink:href=\"#DejaVuSans-105\"/>\n     </g>\n    </g>\n   </g>\n   <g id=\"matplotlib.axis_2\">\n    <g id=\"ytick_1\">\n     <g id=\"line2d_8\">\n      <defs>\n       <path d=\"M 0 0 \nL -3.5 0 \n\" id=\"maa8ddd2920\" style=\"stroke:#000000;stroke-width:0.8;\"/>\n      </defs>\n      <g>\n       <use style=\"stroke:#000000;stroke-width:0.8;\" x=\"42.898438\" xlink:href=\"#maa8ddd2920\" y=\"220.280743\"/>\n      </g>\n     </g>\n     <g id=\"text_9\">\n      <!-- −8 -->\n      <g transform=\"translate(21.15625 224.079961)scale(0.1 -0.1)\">\n       <defs>\n        <path d=\"M 10.59375 35.5 \nL 73.1875 35.5 \nL 73.1875 27.203125 \nL 10.59375 27.203125 \nz\n\" id=\"DejaVuSans-8722\"/>\n       </defs>\n       <use xlink:href=\"#DejaVuSans-8722\"/>\n       <use x=\"83.789062\" xlink:href=\"#DejaVuSans-56\"/>\n      </g>\n     </g>\n    </g>\n    <g id=\"ytick_2\">\n     <g id=\"line2d_9\">\n      <g>\n       <use style=\"stroke:#000000;stroke-width:0.8;\" x=\"42.898438\" xlink:href=\"#maa8ddd2920\" y=\"194.096926\"/>\n      </g>\n     </g>\n     <g id=\"text_10\">\n      <!-- −6 -->\n      <g transform=\"translate(21.15625 197.896145)scale(0.1 -0.1)\">\n       <use xlink:href=\"#DejaVuSans-8722\"/>\n       <use x=\"83.789062\" xlink:href=\"#DejaVuSans-54\"/>\n      </g>\n     </g>\n    </g>\n    <g id=\"ytick_3\">\n     <g id=\"line2d_10\">\n      <g>\n       <use style=\"stroke:#000000;stroke-width:0.8;\" x=\"42.898438\" xlink:href=\"#maa8ddd2920\" y=\"167.913109\"/>\n      </g>\n     </g>\n     <g id=\"text_11\">\n      <!-- −4 -->\n      <g transform=\"translate(21.15625 171.712328)scale(0.1 -0.1)\">\n       <defs>\n        <path d=\"M 37.796875 64.3125 \nL 12.890625 25.390625 \nL 37.796875 25.390625 \nz\nM 35.203125 72.90625 \nL 47.609375 72.90625 \nL 47.609375 25.390625 \nL 58.015625 25.390625 \nL 58.015625 17.1875 \nL 47.609375 17.1875 \nL 47.609375 0 \nL 37.796875 0 \nL 37.796875 17.1875 \nL 4.890625 17.1875 \nL 4.890625 26.703125 \nz\n\" id=\"DejaVuSans-52\"/>\n       </defs>\n       <use xlink:href=\"#DejaVuSans-8722\"/>\n       <use x=\"83.789062\" xlink:href=\"#DejaVuSans-52\"/>\n      </g>\n     </g>\n    </g>\n    <g id=\"ytick_4\">\n     <g id=\"line2d_11\">\n      <g>\n       <use style=\"stroke:#000000;stroke-width:0.8;\" x=\"42.898438\" xlink:href=\"#maa8ddd2920\" y=\"141.729292\"/>\n      </g>\n     </g>\n     <g id=\"text_12\">\n      <!-- −2 -->\n      <g transform=\"translate(21.15625 145.528511)scale(0.1 -0.1)\">\n       <defs>\n        <path d=\"M 19.1875 8.296875 \nL 53.609375 8.296875 \nL 53.609375 0 \nL 7.328125 0 \nL 7.328125 8.296875 \nQ 12.9375 14.109375 22.625 23.890625 \nQ 32.328125 33.6875 34.8125 36.53125 \nQ 39.546875 41.84375 41.421875 45.53125 \nQ 43.3125 49.21875 43.3125 52.78125 \nQ 43.3125 58.59375 39.234375 62.25 \nQ 35.15625 65.921875 28.609375 65.921875 \nQ 23.96875 65.921875 18.8125 64.3125 \nQ 13.671875 62.703125 7.8125 59.421875 \nL 7.8125 69.390625 \nQ 13.765625 71.78125 18.9375 73 \nQ 24.125 74.21875 28.421875 74.21875 \nQ 39.75 74.21875 46.484375 68.546875 \nQ 53.21875 62.890625 53.21875 53.421875 \nQ 53.21875 48.921875 51.53125 44.890625 \nQ 49.859375 40.875 45.40625 35.40625 \nQ 44.1875 33.984375 37.640625 27.21875 \nQ 31.109375 20.453125 19.1875 8.296875 \nz\n\" id=\"DejaVuSans-50\"/>\n       </defs>\n       <use xlink:href=\"#DejaVuSans-8722\"/>\n       <use x=\"83.789062\" xlink:href=\"#DejaVuSans-50\"/>\n      </g>\n     </g>\n    </g>\n    <g id=\"ytick_5\">\n     <g id=\"line2d_12\">\n      <g>\n       <use style=\"stroke:#000000;stroke-width:0.8;\" x=\"42.898438\" xlink:href=\"#maa8ddd2920\" y=\"115.545475\"/>\n      </g>\n     </g>\n     <g id=\"text_13\">\n      <!-- 0 -->\n      <g transform=\"translate(29.535937 119.344694)scale(0.1 -0.1)\">\n       <use xlink:href=\"#DejaVuSans-48\"/>\n      </g>\n     </g>\n    </g>\n    <g id=\"ytick_6\">\n     <g id=\"line2d_13\">\n      <g>\n       <use style=\"stroke:#000000;stroke-width:0.8;\" x=\"42.898438\" xlink:href=\"#maa8ddd2920\" y=\"89.361658\"/>\n      </g>\n     </g>\n     <g id=\"text_14\">\n      <!-- 2 -->\n      <g transform=\"translate(29.535937 93.160877)scale(0.1 -0.1)\">\n       <use xlink:href=\"#DejaVuSans-50\"/>\n      </g>\n     </g>\n    </g>\n    <g id=\"ytick_7\">\n     <g id=\"line2d_14\">\n      <g>\n       <use style=\"stroke:#000000;stroke-width:0.8;\" x=\"42.898438\" xlink:href=\"#maa8ddd2920\" y=\"63.177841\"/>\n      </g>\n     </g>\n     <g id=\"text_15\">\n      <!-- 4 -->\n      <g transform=\"translate(29.535937 66.97706)scale(0.1 -0.1)\">\n       <use xlink:href=\"#DejaVuSans-52\"/>\n      </g>\n     </g>\n    </g>\n    <g id=\"ytick_8\">\n     <g id=\"line2d_15\">\n      <g>\n       <use style=\"stroke:#000000;stroke-width:0.8;\" x=\"42.898438\" xlink:href=\"#maa8ddd2920\" y=\"36.994024\"/>\n      </g>\n     </g>\n     <g id=\"text_16\">\n      <!-- 6 -->\n      <g transform=\"translate(29.535937 40.793243)scale(0.1 -0.1)\">\n       <use xlink:href=\"#DejaVuSans-54\"/>\n      </g>\n     </g>\n    </g>\n    <g id=\"text_17\">\n     <!-- e_i -->\n     <g transform=\"translate(14.798438 138.00375)rotate(-90)scale(0.1 -0.1)\">\n      <defs>\n       <path d=\"M 56.203125 29.59375 \nL 56.203125 25.203125 \nL 14.890625 25.203125 \nQ 15.484375 15.921875 20.484375 11.0625 \nQ 25.484375 6.203125 34.421875 6.203125 \nQ 39.59375 6.203125 44.453125 7.46875 \nQ 49.3125 8.734375 54.109375 11.28125 \nL 54.109375 2.78125 \nQ 49.265625 0.734375 44.1875 -0.34375 \nQ 39.109375 -1.421875 33.890625 -1.421875 \nQ 20.796875 -1.421875 13.15625 6.1875 \nQ 5.515625 13.8125 5.515625 26.8125 \nQ 5.515625 40.234375 12.765625 48.109375 \nQ 20.015625 56 32.328125 56 \nQ 43.359375 56 49.78125 48.890625 \nQ 56.203125 41.796875 56.203125 29.59375 \nz\nM 47.21875 32.234375 \nQ 47.125 39.59375 43.09375 43.984375 \nQ 39.0625 48.390625 32.421875 48.390625 \nQ 24.90625 48.390625 20.390625 44.140625 \nQ 15.875 39.890625 15.1875 32.171875 \nz\n\" id=\"DejaVuSans-101\"/>\n      </defs>\n      <use xlink:href=\"#DejaVuSans-101\"/>\n      <use x=\"61.523438\" xlink:href=\"#DejaVuSans-95\"/>\n      <use x=\"111.523438\" xlink:href=\"#DejaVuSans-105\"/>\n     </g>\n    </g>\n   </g>\n   <g id=\"patch_3\">\n    <path d=\"M 42.898438 239.758125 \nL 42.898438 22.318125 \n\" style=\"fill:none;stroke:#000000;stroke-linecap:square;stroke-linejoin:miter;stroke-width:0.8;\"/>\n   </g>\n   <g id=\"patch_4\">\n    <path d=\"M 377.698438 239.758125 \nL 377.698438 22.318125 \n\" style=\"fill:none;stroke:#000000;stroke-linecap:square;stroke-linejoin:miter;stroke-width:0.8;\"/>\n   </g>\n   <g id=\"patch_5\">\n    <path d=\"M 42.898438 239.758125 \nL 377.698437 239.758125 \n\" style=\"fill:none;stroke:#000000;stroke-linecap:square;stroke-linejoin:miter;stroke-width:0.8;\"/>\n   </g>\n   <g id=\"patch_6\">\n    <path d=\"M 42.898438 22.318125 \nL 377.698437 22.318125 \n\" style=\"fill:none;stroke:#000000;stroke-linecap:square;stroke-linejoin:miter;stroke-width:0.8;\"/>\n   </g>\n   <g id=\"text_18\">\n    <!-- Plot of residuals versus y_i -->\n    <g transform=\"translate(130.700938 16.318125)scale(0.12 -0.12)\">\n     <defs>\n      <path d=\"M 19.671875 64.796875 \nL 19.671875 37.40625 \nL 32.078125 37.40625 \nQ 38.96875 37.40625 42.71875 40.96875 \nQ 46.484375 44.53125 46.484375 51.125 \nQ 46.484375 57.671875 42.71875 61.234375 \nQ 38.96875 64.796875 32.078125 64.796875 \nz\nM 9.8125 72.90625 \nL 32.078125 72.90625 \nQ 44.34375 72.90625 50.609375 67.359375 \nQ 56.890625 61.8125 56.890625 51.125 \nQ 56.890625 40.328125 50.609375 34.8125 \nQ 44.34375 29.296875 32.078125 29.296875 \nL 19.671875 29.296875 \nL 19.671875 0 \nL 9.8125 0 \nz\n\" id=\"DejaVuSans-80\"/>\n      <path d=\"M 9.421875 75.984375 \nL 18.40625 75.984375 \nL 18.40625 0 \nL 9.421875 0 \nz\n\" id=\"DejaVuSans-108\"/>\n      <path d=\"M 30.609375 48.390625 \nQ 23.390625 48.390625 19.1875 42.75 \nQ 14.984375 37.109375 14.984375 27.296875 \nQ 14.984375 17.484375 19.15625 11.84375 \nQ 23.34375 6.203125 30.609375 6.203125 \nQ 37.796875 6.203125 41.984375 11.859375 \nQ 46.1875 17.53125 46.1875 27.296875 \nQ 46.1875 37.015625 41.984375 42.703125 \nQ 37.796875 48.390625 30.609375 48.390625 \nz\nM 30.609375 56 \nQ 42.328125 56 49.015625 48.375 \nQ 55.71875 40.765625 55.71875 27.296875 \nQ 55.71875 13.875 49.015625 6.21875 \nQ 42.328125 -1.421875 30.609375 -1.421875 \nQ 18.84375 -1.421875 12.171875 6.21875 \nQ 5.515625 13.875 5.515625 27.296875 \nQ 5.515625 40.765625 12.171875 48.375 \nQ 18.84375 56 30.609375 56 \nz\n\" id=\"DejaVuSans-111\"/>\n      <path d=\"M 18.3125 70.21875 \nL 18.3125 54.6875 \nL 36.8125 54.6875 \nL 36.8125 47.703125 \nL 18.3125 47.703125 \nL 18.3125 18.015625 \nQ 18.3125 11.328125 20.140625 9.421875 \nQ 21.96875 7.515625 27.59375 7.515625 \nL 36.8125 7.515625 \nL 36.8125 0 \nL 27.59375 0 \nQ 17.1875 0 13.234375 3.875 \nQ 9.28125 7.765625 9.28125 18.015625 \nL 9.28125 47.703125 \nL 2.6875 47.703125 \nL 2.6875 54.6875 \nL 9.28125 54.6875 \nL 9.28125 70.21875 \nz\n\" id=\"DejaVuSans-116\"/>\n      <path id=\"DejaVuSans-32\"/>\n      <path d=\"M 37.109375 75.984375 \nL 37.109375 68.5 \nL 28.515625 68.5 \nQ 23.6875 68.5 21.796875 66.546875 \nQ 19.921875 64.59375 19.921875 59.515625 \nL 19.921875 54.6875 \nL 34.71875 54.6875 \nL 34.71875 47.703125 \nL 19.921875 47.703125 \nL 19.921875 0 \nL 10.890625 0 \nL 10.890625 47.703125 \nL 2.296875 47.703125 \nL 2.296875 54.6875 \nL 10.890625 54.6875 \nL 10.890625 58.5 \nQ 10.890625 67.625 15.140625 71.796875 \nQ 19.390625 75.984375 28.609375 75.984375 \nz\n\" id=\"DejaVuSans-102\"/>\n      <path d=\"M 41.109375 46.296875 \nQ 39.59375 47.171875 37.8125 47.578125 \nQ 36.03125 48 33.890625 48 \nQ 26.265625 48 22.1875 43.046875 \nQ 18.109375 38.09375 18.109375 28.8125 \nL 18.109375 0 \nL 9.078125 0 \nL 9.078125 54.6875 \nL 18.109375 54.6875 \nL 18.109375 46.1875 \nQ 20.953125 51.171875 25.484375 53.578125 \nQ 30.03125 56 36.53125 56 \nQ 37.453125 56 38.578125 55.875 \nQ 39.703125 55.765625 41.0625 55.515625 \nz\n\" id=\"DejaVuSans-114\"/>\n      <path d=\"M 44.28125 53.078125 \nL 44.28125 44.578125 \nQ 40.484375 46.53125 36.375 47.5 \nQ 32.28125 48.484375 27.875 48.484375 \nQ 21.1875 48.484375 17.84375 46.4375 \nQ 14.5 44.390625 14.5 40.28125 \nQ 14.5 37.15625 16.890625 35.375 \nQ 19.28125 33.59375 26.515625 31.984375 \nL 29.59375 31.296875 \nQ 39.15625 29.25 43.1875 25.515625 \nQ 47.21875 21.78125 47.21875 15.09375 \nQ 47.21875 7.46875 41.1875 3.015625 \nQ 35.15625 -1.421875 24.609375 -1.421875 \nQ 20.21875 -1.421875 15.453125 -0.5625 \nQ 10.6875 0.296875 5.421875 2 \nL 5.421875 11.28125 \nQ 10.40625 8.6875 15.234375 7.390625 \nQ 20.0625 6.109375 24.8125 6.109375 \nQ 31.15625 6.109375 34.5625 8.28125 \nQ 37.984375 10.453125 37.984375 14.40625 \nQ 37.984375 18.0625 35.515625 20.015625 \nQ 33.0625 21.96875 24.703125 23.78125 \nL 21.578125 24.515625 \nQ 13.234375 26.265625 9.515625 29.90625 \nQ 5.8125 33.546875 5.8125 39.890625 \nQ 5.8125 47.609375 11.28125 51.796875 \nQ 16.75 56 26.8125 56 \nQ 31.78125 56 36.171875 55.265625 \nQ 40.578125 54.546875 44.28125 53.078125 \nz\n\" id=\"DejaVuSans-115\"/>\n      <path d=\"M 45.40625 46.390625 \nL 45.40625 75.984375 \nL 54.390625 75.984375 \nL 54.390625 0 \nL 45.40625 0 \nL 45.40625 8.203125 \nQ 42.578125 3.328125 38.25 0.953125 \nQ 33.9375 -1.421875 27.875 -1.421875 \nQ 17.96875 -1.421875 11.734375 6.484375 \nQ 5.515625 14.40625 5.515625 27.296875 \nQ 5.515625 40.1875 11.734375 48.09375 \nQ 17.96875 56 27.875 56 \nQ 33.9375 56 38.25 53.625 \nQ 42.578125 51.265625 45.40625 46.390625 \nz\nM 14.796875 27.296875 \nQ 14.796875 17.390625 18.875 11.75 \nQ 22.953125 6.109375 30.078125 6.109375 \nQ 37.203125 6.109375 41.296875 11.75 \nQ 45.40625 17.390625 45.40625 27.296875 \nQ 45.40625 37.203125 41.296875 42.84375 \nQ 37.203125 48.484375 30.078125 48.484375 \nQ 22.953125 48.484375 18.875 42.84375 \nQ 14.796875 37.203125 14.796875 27.296875 \nz\n\" id=\"DejaVuSans-100\"/>\n      <path d=\"M 8.5 21.578125 \nL 8.5 54.6875 \nL 17.484375 54.6875 \nL 17.484375 21.921875 \nQ 17.484375 14.15625 20.5 10.265625 \nQ 23.53125 6.390625 29.59375 6.390625 \nQ 36.859375 6.390625 41.078125 11.03125 \nQ 45.3125 15.671875 45.3125 23.6875 \nL 45.3125 54.6875 \nL 54.296875 54.6875 \nL 54.296875 0 \nL 45.3125 0 \nL 45.3125 8.40625 \nQ 42.046875 3.421875 37.71875 1 \nQ 33.40625 -1.421875 27.6875 -1.421875 \nQ 18.265625 -1.421875 13.375 4.4375 \nQ 8.5 10.296875 8.5 21.578125 \nz\nM 31.109375 56 \nz\n\" id=\"DejaVuSans-117\"/>\n      <path d=\"M 34.28125 27.484375 \nQ 23.390625 27.484375 19.1875 25 \nQ 14.984375 22.515625 14.984375 16.5 \nQ 14.984375 11.71875 18.140625 8.90625 \nQ 21.296875 6.109375 26.703125 6.109375 \nQ 34.1875 6.109375 38.703125 11.40625 \nQ 43.21875 16.703125 43.21875 25.484375 \nL 43.21875 27.484375 \nz\nM 52.203125 31.203125 \nL 52.203125 0 \nL 43.21875 0 \nL 43.21875 8.296875 \nQ 40.140625 3.328125 35.546875 0.953125 \nQ 30.953125 -1.421875 24.3125 -1.421875 \nQ 15.921875 -1.421875 10.953125 3.296875 \nQ 6 8.015625 6 15.921875 \nQ 6 25.140625 12.171875 29.828125 \nQ 18.359375 34.515625 30.609375 34.515625 \nL 43.21875 34.515625 \nL 43.21875 35.40625 \nQ 43.21875 41.609375 39.140625 45 \nQ 35.0625 48.390625 27.6875 48.390625 \nQ 23 48.390625 18.546875 47.265625 \nQ 14.109375 46.140625 10.015625 43.890625 \nL 10.015625 52.203125 \nQ 14.9375 54.109375 19.578125 55.046875 \nQ 24.21875 56 28.609375 56 \nQ 40.484375 56 46.34375 49.84375 \nQ 52.203125 43.703125 52.203125 31.203125 \nz\n\" id=\"DejaVuSans-97\"/>\n      <path d=\"M 2.984375 54.6875 \nL 12.5 54.6875 \nL 29.59375 8.796875 \nL 46.6875 54.6875 \nL 56.203125 54.6875 \nL 35.6875 0 \nL 23.484375 0 \nz\n\" id=\"DejaVuSans-118\"/>\n     </defs>\n     <use xlink:href=\"#DejaVuSans-80\"/>\n     <use x=\"60.302734\" xlink:href=\"#DejaVuSans-108\"/>\n     <use x=\"88.085938\" xlink:href=\"#DejaVuSans-111\"/>\n     <use x=\"149.267578\" xlink:href=\"#DejaVuSans-116\"/>\n     <use x=\"188.476562\" xlink:href=\"#DejaVuSans-32\"/>\n     <use x=\"220.263672\" xlink:href=\"#DejaVuSans-111\"/>\n     <use x=\"281.445312\" xlink:href=\"#DejaVuSans-102\"/>\n     <use x=\"316.650391\" xlink:href=\"#DejaVuSans-32\"/>\n     <use x=\"348.4375\" xlink:href=\"#DejaVuSans-114\"/>\n     <use x=\"387.300781\" xlink:href=\"#DejaVuSans-101\"/>\n     <use x=\"448.824219\" xlink:href=\"#DejaVuSans-115\"/>\n     <use x=\"500.923828\" xlink:href=\"#DejaVuSans-105\"/>\n     <use x=\"528.707031\" xlink:href=\"#DejaVuSans-100\"/>\n     <use x=\"592.183594\" xlink:href=\"#DejaVuSans-117\"/>\n     <use x=\"655.5625\" xlink:href=\"#DejaVuSans-97\"/>\n     <use x=\"716.841797\" xlink:href=\"#DejaVuSans-108\"/>\n     <use x=\"744.625\" xlink:href=\"#DejaVuSans-115\"/>\n     <use x=\"796.724609\" xlink:href=\"#DejaVuSans-32\"/>\n     <use x=\"828.511719\" xlink:href=\"#DejaVuSans-118\"/>\n     <use x=\"887.691406\" xlink:href=\"#DejaVuSans-101\"/>\n     <use x=\"949.214844\" xlink:href=\"#DejaVuSans-114\"/>\n     <use x=\"990.328125\" xlink:href=\"#DejaVuSans-115\"/>\n     <use x=\"1042.427734\" xlink:href=\"#DejaVuSans-117\"/>\n     <use x=\"1105.806641\" xlink:href=\"#DejaVuSans-115\"/>\n     <use x=\"1157.90625\" xlink:href=\"#DejaVuSans-32\"/>\n     <use x=\"1189.693359\" xlink:href=\"#DejaVuSans-121\"/>\n     <use x=\"1248.873047\" xlink:href=\"#DejaVuSans-95\"/>\n     <use x=\"1298.873047\" xlink:href=\"#DejaVuSans-105\"/>\n    </g>\n   </g>\n  </g>\n </g>\n <defs>\n  <clipPath id=\"pe48beee476\">\n   <rect height=\"217.44\" width=\"334.8\" x=\"42.898438\" y=\"22.318125\"/>\n  </clipPath>\n </defs>\n</svg>\n",
      "image/png": "[encoded data removed]"
     },
     "metadata": {
      "needs_background": "light"
     }
    }
   ],
   "source": [
    "# 残差与拟合值的关系图 ，不应该是残差与观测值之间的关系\n",
    "plt.scatter(Y_hat, res, c = 'red')\n",
    "plt.title('Plot of residuals versus y_i')\n",
    "plt.xlabel('y_i')\n",
    "plt.ylabel('e_i')"
   ]
  },
  {
   "source": [
    "# 上面这个图形符合什么曲线？\n",
    "# 分布是散乱且没有规则就认为因变量的方差 方差齐性\n",
    "# 提出方差齐性的假设，看出杂乱无章，是我们不能推翻方差齐性的假设。"
   ],
   "cell_type": "code",
   "metadata": {},
   "execution_count": 15,
   "outputs": []
  },
  {
   "cell_type": "markdown",
   "metadata": {},
   "source": [
    "【补充】方差分析可以看成特殊情况下的回归分析，方差分析就是解释变量全为分组的dummy（哑变量）的回归分析。  \n",
    "参考网址：https://zhuanlan.zhihu.com/p/129043279  \n",
    "方差齐性检验的本质：样本以及总体的方差分布是常数，和自变量或因变量没关系。    \n",
    "线性回归里面我们一般用残差图来检验方差齐性，画散点图是为了弄清因变量和残差之间有没有关系。这里并不是说不同指标的方差不同，因为这里的自变量不像ANOVA中是可以人为控制的（分组-取值），这里的自变量是**观察**到的，如果我们没法取到每个 x 值所有对应的 y 值，就不能说对不同的指标方差不同，只是说观测值的方差不同（也只是一种探测）；我们这里只是用残差图去估计因变量的方差齐性（比较主观，看残差分布是否与拟合值没有明显的趋势关系）。  \n",
    "当然我们并不能通过残差的分布来证明因变量的方差齐性，我们只是提出了“方差齐性”的假设，然后画出残差图，它杂乱无章，不相关，看起来是独立的，所以我们不能推翻这个假设，就认为观测值的方差是齐性的。  \n",
    "参考网址：https://blog.csdn.net/weixin_33448555/article/details/112650361"
   ]
  },
  {
   "cell_type": "markdown",
   "metadata": {},
   "source": [
    "**Q3:**"
   ]
  },
  {
   "cell_type": "markdown",
   "metadata": {},
   "source": [
    "**关于 $E(y_0)$ 的估计:**"
   ]
  },
  {
   "cell_type": "code",
   "execution_count": 16,
   "metadata": {
    "scrolled": false
   },
   "outputs": [
    {
     "output_type": "error",
     "ename": "ValueError",
     "evalue": "invalid literal for int() with base 10: ''",
     "traceback": [
      "\u001b[0;31m---------------------------------------------------------------------------\u001b[0m",
      "\u001b[0;31mValueError\u001b[0m                                Traceback (most recent call last)",
      "\u001b[0;32m<ipython-input-16-4481c6e52828>\u001b[0m in \u001b[0;36m<module>\u001b[0;34m\u001b[0m\n\u001b[1;32m      9\u001b[0m \u001b[0mx0\u001b[0m \u001b[0;34m=\u001b[0m \u001b[0;34m[\u001b[0m\u001b[0;36m1\u001b[0m\u001b[0;34m]\u001b[0m\u001b[0;34m\u001b[0m\u001b[0;34m\u001b[0m\u001b[0m\n\u001b[1;32m     10\u001b[0m \u001b[0;32mfor\u001b[0m \u001b[0mi\u001b[0m \u001b[0;32min\u001b[0m \u001b[0mrange\u001b[0m\u001b[0;34m(\u001b[0m\u001b[0mp\u001b[0m\u001b[0;34m)\u001b[0m\u001b[0;34m:\u001b[0m\u001b[0;34m\u001b[0m\u001b[0;34m\u001b[0m\u001b[0m\n\u001b[0;32m---> 11\u001b[0;31m     \u001b[0mx0\u001b[0m\u001b[0;34m.\u001b[0m\u001b[0mappend\u001b[0m\u001b[0;34m(\u001b[0m\u001b[0mint\u001b[0m\u001b[0;34m(\u001b[0m\u001b[0minput\u001b[0m\u001b[0;34m(\u001b[0m\u001b[0;34m)\u001b[0m\u001b[0;34m)\u001b[0m\u001b[0;34m)\u001b[0m\u001b[0;34m\u001b[0m\u001b[0;34m\u001b[0m\u001b[0m\n\u001b[0m\u001b[1;32m     12\u001b[0m \u001b[0mprint\u001b[0m\u001b[0;34m(\u001b[0m\u001b[0;34m'给定 x = '\u001b[0m\u001b[0;34m,\u001b[0m \u001b[0mx0\u001b[0m\u001b[0;34m,\u001b[0m \u001b[0;34m', E(y_0) 的置信区间：'\u001b[0m\u001b[0;34m,\u001b[0m \u001b[0mnp\u001b[0m\u001b[0;34m.\u001b[0m\u001b[0mround\u001b[0m\u001b[0;34m(\u001b[0m\u001b[0mconfidence_interval\u001b[0m\u001b[0;34m(\u001b[0m\u001b[0mx0\u001b[0m\u001b[0;34m)\u001b[0m\u001b[0;34m,\u001b[0m \u001b[0;36m4\u001b[0m\u001b[0;34m)\u001b[0m\u001b[0;34m)\u001b[0m\u001b[0;34m\u001b[0m\u001b[0;34m\u001b[0m\u001b[0m\n",
      "\u001b[0;31mValueError\u001b[0m: invalid literal for int() with base 10: ''"
     ]
    }
   ],
   "source": [
    "# 给定 x_0，求 E(y_0) 的估计值\n",
    "def confidence_interval(x0):\n",
    "    x0 = np.array(x0)\n",
    "    Y0 = np.dot(x0.T, beta)\n",
    "    delta0 = tVal * sigma * np.sqrt(x0.T @ C @ x0)\n",
    "    Y0_int = [Y0 - delta0, Y0 + delta0]\n",
    "    return Y0_int\n",
    "\n",
    "x0 = [1]\n",
    "for i in range(p):\n",
    "    x0.append(int(input()))\n",
    "print('给定 x = ', x0, ', E(y_0) 的置信区间：', np.round(confidence_interval(x0), 4))"
   ]
  },
  {
   "cell_type": "markdown",
   "metadata": {},
   "source": [
    "**关于 $y_0$ 的预测:**"
   ]
  },
  {
   "cell_type": "code",
   "execution_count": 17,
   "metadata": {},
   "outputs": [
    {
     "output_type": "error",
     "ename": "KeyboardInterrupt",
     "evalue": "Interrupted by user",
     "traceback": [
      "\u001b[0;31m---------------------------------------------------------------------------\u001b[0m",
      "\u001b[0;31mKeyboardInterrupt\u001b[0m                         Traceback (most recent call last)",
      "\u001b[0;32m<ipython-input-17-49666cf065fc>\u001b[0m in \u001b[0;36m<module>\u001b[0;34m\u001b[0m\n\u001b[1;32m      9\u001b[0m \u001b[0mx0_\u001b[0m \u001b[0;34m=\u001b[0m \u001b[0;34m[\u001b[0m\u001b[0;36m1\u001b[0m\u001b[0;34m]\u001b[0m\u001b[0;34m\u001b[0m\u001b[0;34m\u001b[0m\u001b[0m\n\u001b[1;32m     10\u001b[0m \u001b[0;32mfor\u001b[0m \u001b[0mi\u001b[0m \u001b[0;32min\u001b[0m \u001b[0mrange\u001b[0m\u001b[0;34m(\u001b[0m\u001b[0mp\u001b[0m\u001b[0;34m)\u001b[0m\u001b[0;34m:\u001b[0m\u001b[0;34m\u001b[0m\u001b[0;34m\u001b[0m\u001b[0m\n\u001b[0;32m---> 11\u001b[0;31m     \u001b[0mx0_\u001b[0m\u001b[0;34m.\u001b[0m\u001b[0mappend\u001b[0m\u001b[0;34m(\u001b[0m\u001b[0mint\u001b[0m\u001b[0;34m(\u001b[0m\u001b[0minput\u001b[0m\u001b[0;34m(\u001b[0m\u001b[0;34m)\u001b[0m\u001b[0;34m)\u001b[0m\u001b[0;34m)\u001b[0m\u001b[0;34m\u001b[0m\u001b[0;34m\u001b[0m\u001b[0m\n\u001b[0m\u001b[1;32m     12\u001b[0m \u001b[0;31m#给两个初始成绩，再给一个期末成绩的预测。 预测区间要比置信区间宽一些。\u001b[0m\u001b[0;34m\u001b[0m\u001b[0;34m\u001b[0m\u001b[0;34m\u001b[0m\u001b[0m\n\u001b[1;32m     13\u001b[0m \u001b[0mprint\u001b[0m\u001b[0;34m(\u001b[0m\u001b[0;34m'给定 x = '\u001b[0m\u001b[0;34m,\u001b[0m \u001b[0mx0_\u001b[0m\u001b[0;34m,\u001b[0m \u001b[0;34m', y_0 的预测区间：'\u001b[0m\u001b[0;34m,\u001b[0m \u001b[0mnp\u001b[0m\u001b[0;34m.\u001b[0m\u001b[0mround\u001b[0m\u001b[0;34m(\u001b[0m\u001b[0mconfidence_interval\u001b[0m\u001b[0;34m(\u001b[0m\u001b[0mx0_\u001b[0m\u001b[0;34m)\u001b[0m\u001b[0;34m,\u001b[0m \u001b[0;36m4\u001b[0m\u001b[0;34m)\u001b[0m\u001b[0;34m)\u001b[0m\u001b[0;34m\u001b[0m\u001b[0;34m\u001b[0m\u001b[0m\n",
      "\u001b[0;32m~/Library/Python/3.8/lib/python/site-packages/ipykernel/kernelbase.py\u001b[0m in \u001b[0;36mraw_input\u001b[0;34m(self, prompt)\u001b[0m\n\u001b[1;32m    858\u001b[0m                 \u001b[0;34m\"raw_input was called, but this frontend does not support input requests.\"\u001b[0m\u001b[0;34m\u001b[0m\u001b[0;34m\u001b[0m\u001b[0m\n\u001b[1;32m    859\u001b[0m             )\n\u001b[0;32m--> 860\u001b[0;31m         return self._input_request(str(prompt),\n\u001b[0m\u001b[1;32m    861\u001b[0m             \u001b[0mself\u001b[0m\u001b[0;34m.\u001b[0m\u001b[0m_parent_ident\u001b[0m\u001b[0;34m,\u001b[0m\u001b[0;34m\u001b[0m\u001b[0;34m\u001b[0m\u001b[0m\n\u001b[1;32m    862\u001b[0m             \u001b[0mself\u001b[0m\u001b[0;34m.\u001b[0m\u001b[0m_parent_header\u001b[0m\u001b[0;34m,\u001b[0m\u001b[0;34m\u001b[0m\u001b[0;34m\u001b[0m\u001b[0m\n",
      "\u001b[0;32m~/Library/Python/3.8/lib/python/site-packages/ipykernel/kernelbase.py\u001b[0m in \u001b[0;36m_input_request\u001b[0;34m(self, prompt, ident, parent, password)\u001b[0m\n\u001b[1;32m    902\u001b[0m             \u001b[0;32mexcept\u001b[0m \u001b[0mKeyboardInterrupt\u001b[0m\u001b[0;34m:\u001b[0m\u001b[0;34m\u001b[0m\u001b[0;34m\u001b[0m\u001b[0m\n\u001b[1;32m    903\u001b[0m                 \u001b[0;31m# re-raise KeyboardInterrupt, to truncate traceback\u001b[0m\u001b[0;34m\u001b[0m\u001b[0;34m\u001b[0m\u001b[0;34m\u001b[0m\u001b[0m\n\u001b[0;32m--> 904\u001b[0;31m                 \u001b[0;32mraise\u001b[0m \u001b[0mKeyboardInterrupt\u001b[0m\u001b[0;34m(\u001b[0m\u001b[0;34m\"Interrupted by user\"\u001b[0m\u001b[0;34m)\u001b[0m \u001b[0;32mfrom\u001b[0m \u001b[0;32mNone\u001b[0m\u001b[0;34m\u001b[0m\u001b[0;34m\u001b[0m\u001b[0m\n\u001b[0m\u001b[1;32m    905\u001b[0m             \u001b[0;32mexcept\u001b[0m \u001b[0mException\u001b[0m \u001b[0;32mas\u001b[0m \u001b[0me\u001b[0m\u001b[0;34m:\u001b[0m\u001b[0;34m\u001b[0m\u001b[0;34m\u001b[0m\u001b[0m\n\u001b[1;32m    906\u001b[0m                 \u001b[0mself\u001b[0m\u001b[0;34m.\u001b[0m\u001b[0mlog\u001b[0m\u001b[0;34m.\u001b[0m\u001b[0mwarning\u001b[0m\u001b[0;34m(\u001b[0m\u001b[0;34m\"Invalid Message:\"\u001b[0m\u001b[0;34m,\u001b[0m \u001b[0mexc_info\u001b[0m\u001b[0;34m=\u001b[0m\u001b[0;32mTrue\u001b[0m\u001b[0;34m)\u001b[0m\u001b[0;34m\u001b[0m\u001b[0;34m\u001b[0m\u001b[0m\n",
      "\u001b[0;31mKeyboardInterrupt\u001b[0m: Interrupted by user"
     ]
    }
   ],
   "source": [
    "# # 给定 x_0，求 y_0 的预测区间\n",
    "# def confidence_interval(x0):\n",
    "#     x0 = np.array(x0)\n",
    "#     Y0 = np.dot(x0.T, beta)\n",
    "#     delta1 = tVal * sigma * np.sqrt(1 + x0.T @ C @ x0)\n",
    "#     Y0_int = [Y0 - delta1, Y0 + delta1]\n",
    "#     return Y0_int\n",
    "\n",
    "# x0_ = [1]\n",
    "# for i in range(p):\n",
    "#     x0_.append(5)\n",
    "# #给两个初始成绩，再给一个期末成绩的预测。 预测区间要比置信区间宽一些。\n",
    "# print('给定 x = ', x0_, ', y_0 的预测区间：', np.round(confidence_interval(x0_), 4))"
   ]
  },
  {
   "cell_type": "markdown",
   "metadata": {},
   "source": [
    "## 第五周练习题\n",
    "数据集：Project5.csv(内附文档)  \n",
    "统计方法：Multiple Linear Regression   \n",
    "软件：Jupyter Notebook  \n",
    "作业发到邮箱：51205903029@stu.ecnu.edu.cn  \n",
    "压缩包名字：学号-姓名  \n",
    "Deadline：下周一晚上10：00之前交  \n",
    "注：要有完整的解题过程，不能只有代码"
   ]
  },
  {
   "cell_type": "code",
   "execution_count": null,
   "metadata": {},
   "outputs": [],
   "source": []
  }
 ],
 "metadata": {
  "kernelspec": {
   "name": "python386jvsc74a57bd00adcc2737ebf6a4a119f135174df96668767fca1ef1112612db5ecadf2b6d608",
   "display_name": "Python 3.8.6 64-bit"
  },
  "language_info": {
   "codemirror_mode": {
    "name": "ipython",
    "version": 3
   },
   "file_extension": ".py",
   "mimetype": "text/x-python",
   "name": "python",
   "nbconvert_exporter": "python",
   "pygments_lexer": "ipython3",
   "version": "3.8.6-final"
  },
  "metadata": {
   "interpreter": {
    "hash": "0adcc2737ebf6a4a119f135174df96668767fca1ef1112612db5ecadf2b6d608"
   }
  }
 },
 "nbformat": 4,
 "nbformat_minor": 4
}