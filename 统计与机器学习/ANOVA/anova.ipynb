{
 "metadata": {
  "language_info": {
   "codemirror_mode": {
    "name": "ipython",
    "version": 3
   },
   "file_extension": ".py",
   "mimetype": "text/x-python",
   "name": "python",
   "nbconvert_exporter": "python",
   "pygments_lexer": "ipython3",
   "version": "3.8.6-final"
  },
  "orig_nbformat": 2,
  "kernelspec": {
   "name": "python3",
   "display_name": "Python 3.8.6 64-bit",
   "metadata": {
    "interpreter": {
     "hash": "0adcc2737ebf6a4a119f135174df96668767fca1ef1112612db5ecadf2b6d608"
    }
   }
  }
 },
 "nbformat": 4,
 "nbformat_minor": 2,
 "cells": [
  {
   "source": [],
   "cell_type": "markdown",
   "metadata": {}
  },
  {
   "source": [
    "# One-Way ANOVA：方差分析研究X(定类)对于Y(定量)的差异\n",
    "背景：为了调查吃巧克力对心血管健康的影响，实验由三种类型的巧克力组成：100g的黑巧克力，含有200mg全脂牛奶的100g黑巧克力和200g的牛奶巧克力。12个实验对象：7女5男。在不同的天数里，每个实验对象将吃一种类型的巧克力，一个小时后测量他们血浆的总抗氧能力。 \n",
    "这是一个因子水平数 𝑎 = 3 和重复次数 𝑛 = 12 的单因子实验。\n",
    "\n",
    "自变量：巧克力种类Chocolate\n",
    "因变量：血浆的总抗氧能力(Capacity)\n"
   ],
   "cell_type": "markdown",
   "metadata": {}
  },
  {
   "source": [
    "# 问题1 \n",
    "试判断食用的 3 种巧克力对心血管健康的影响是否有差异.\n",
    "检验假设 $H_0:\\mu_1=\\mu_2=\\mu_3$ v.s. $H_1:\\mu_1，\\mu_2，\\mu_3$不全相等"
   ],
   "cell_type": "markdown",
   "metadata": {}
  },
  {
   "cell_type": "code",
   "execution_count": 1,
   "metadata": {},
   "outputs": [],
   "source": [
    "import numpy as np\n",
    "import pandas as pd\n",
    "import scipy.stats as stats\n",
    "import matplotlib.pyplot as plt\n",
    "import math\n",
    "# Import additional packages\n",
    "from statsmodels.formula.api import ols\n",
    "from statsmodels.stats.anova import anova_lm\n",
    "from scipy.stats import f\n",
    "alpha = 0.05\n",
    "a = 3\n",
    "n = 12\n",
    "x=pd.read_csv('Project1.csv')"
   ]
  },
  {
   "cell_type": "code",
   "execution_count": 2,
   "metadata": {},
   "outputs": [
    {
     "output_type": "stream",
     "name": "stdout",
     "text": [
      "(36, 2)\n"
     ]
    }
   ],
   "source": [
    "data=x.values[:,1:3]  #将data读到多维度列表\n",
    "print(data.shape)"
   ]
  },
  {
   "cell_type": "code",
   "execution_count": 3,
   "metadata": {},
   "outputs": [
    {
     "output_type": "stream",
     "name": "stdout",
     "text": [
      "12\n"
     ]
    }
   ],
   "source": [
    "#分组\n",
    "#注意这里的python语法\n",
    "group1 = data[data[:,0] == 1,1]\n",
    "group2 = data[data[:,0] == 2,1]\n",
    "group3 = data[data[:,0] == 3,1]\n",
    "print(len(group1)) #每组都是12个"
   ]
  },
  {
   "cell_type": "code",
   "execution_count": 4,
   "metadata": {},
   "outputs": [
    {
     "output_type": "execute_result",
     "data": {
      "text/plain": [
       "<class 'statsmodels.iolib.summary.Summary'>\n",
       "\"\"\"\n",
       "                            OLS Regression Results                            \n",
       "==============================================================================\n",
       "Dep. Variable:               capacity   R-squared:                       0.850\n",
       "Model:                            OLS   Adj. R-squared:                  0.841\n",
       "Method:                 Least Squares   F-statistic:                     93.58\n",
       "Date:                Wed, 03 Mar 2021   Prob (F-statistic):           2.52e-14\n",
       "Time:                        10:54:00   Log-Likelihood:                -91.726\n",
       "No. Observations:                  36   AIC:                             189.5\n",
       "Df Residuals:                      33   BIC:                             194.2\n",
       "Df Model:                           2                                         \n",
       "Covariance Type:            nonrobust                                         \n",
       "=======================================================================================\n",
       "                          coef    std err          t      P>|t|      [0.025      0.975]\n",
       "---------------------------------------------------------------------------------------\n",
       "Intercept             116.0583      0.932    124.466      0.000     114.161     117.955\n",
       "C(chocolate)[T.2.0]   -15.3583      1.319    -11.647      0.000     -18.041     -12.675\n",
       "C(chocolate)[T.3.0]   -15.8750      1.319    -12.039      0.000     -18.558     -13.192\n",
       "==============================================================================\n",
       "Omnibus:                        2.959   Durbin-Watson:                   2.299\n",
       "Prob(Omnibus):                  0.228   Jarque-Bera (JB):                1.725\n",
       "Skew:                          -0.412   Prob(JB):                        0.422\n",
       "Kurtosis:                       3.686   Cond. No.                         3.73\n",
       "==============================================================================\n",
       "\n",
       "Notes:\n",
       "[1] Standard Errors assume that the covariance matrix of the errors is correctly specified.\n",
       "\"\"\""
      ],
      "text/html": "<table class=\"simpletable\">\n<caption>OLS Regression Results</caption>\n<tr>\n  <th>Dep. Variable:</th>        <td>capacity</td>     <th>  R-squared:         </th> <td>   0.850</td>\n</tr>\n<tr>\n  <th>Model:</th>                   <td>OLS</td>       <th>  Adj. R-squared:    </th> <td>   0.841</td>\n</tr>\n<tr>\n  <th>Method:</th>             <td>Least Squares</td>  <th>  F-statistic:       </th> <td>   93.58</td>\n</tr>\n<tr>\n  <th>Date:</th>             <td>Wed, 03 Mar 2021</td> <th>  Prob (F-statistic):</th> <td>2.52e-14</td>\n</tr>\n<tr>\n  <th>Time:</th>                 <td>10:54:00</td>     <th>  Log-Likelihood:    </th> <td> -91.726</td>\n</tr>\n<tr>\n  <th>No. Observations:</th>      <td>    36</td>      <th>  AIC:               </th> <td>   189.5</td>\n</tr>\n<tr>\n  <th>Df Residuals:</th>          <td>    33</td>      <th>  BIC:               </th> <td>   194.2</td>\n</tr>\n<tr>\n  <th>Df Model:</th>              <td>     2</td>      <th>                     </th>     <td> </td>   \n</tr>\n<tr>\n  <th>Covariance Type:</th>      <td>nonrobust</td>    <th>                     </th>     <td> </td>   \n</tr>\n</table>\n<table class=\"simpletable\">\n<tr>\n           <td></td>              <th>coef</th>     <th>std err</th>      <th>t</th>      <th>P>|t|</th>  <th>[0.025</th>    <th>0.975]</th>  \n</tr>\n<tr>\n  <th>Intercept</th>           <td>  116.0583</td> <td>    0.932</td> <td>  124.466</td> <td> 0.000</td> <td>  114.161</td> <td>  117.955</td>\n</tr>\n<tr>\n  <th>C(chocolate)[T.2.0]</th> <td>  -15.3583</td> <td>    1.319</td> <td>  -11.647</td> <td> 0.000</td> <td>  -18.041</td> <td>  -12.675</td>\n</tr>\n<tr>\n  <th>C(chocolate)[T.3.0]</th> <td>  -15.8750</td> <td>    1.319</td> <td>  -12.039</td> <td> 0.000</td> <td>  -18.558</td> <td>  -13.192</td>\n</tr>\n</table>\n<table class=\"simpletable\">\n<tr>\n  <th>Omnibus:</th>       <td> 2.959</td> <th>  Durbin-Watson:     </th> <td>   2.299</td>\n</tr>\n<tr>\n  <th>Prob(Omnibus):</th> <td> 0.228</td> <th>  Jarque-Bera (JB):  </th> <td>   1.725</td>\n</tr>\n<tr>\n  <th>Skew:</th>          <td>-0.412</td> <th>  Prob(JB):          </th> <td>   0.422</td>\n</tr>\n<tr>\n  <th>Kurtosis:</th>      <td> 3.686</td> <th>  Cond. No.          </th> <td>    3.73</td>\n</tr>\n</table><br/><br/>Notes:<br/>[1] Standard Errors assume that the covariance matrix of the errors is correctly specified."
     },
     "metadata": {},
     "execution_count": 4
    }
   ],
   "source": [
    "#关键代码\n",
    "df = pd.DataFrame(data, columns = ['chocolate', 'capacity'])   \n",
    "model = ols('capacity ~ C(chocolate)', df).fit()#!!!注意这个ols的名字方式，之前一直错在这里\n",
    "model.summary()"
   ]
  },
  {
   "source": [
    "## OLS回归\n",
    "OLS回归分析用于研究X(定量或定类)对Y(定量)的影响关系，是否有影响关系，影响方向及影响程度情况如何；\n"
   ],
   "cell_type": "markdown",
   "metadata": {}
  },
  {
   "cell_type": "code",
   "execution_count": 5,
   "metadata": {},
   "outputs": [
    {
     "output_type": "stream",
     "name": "stdout",
     "text": [
      "The ANOVA table: \n                 df   sum_sq  mean_sq      F  PR(>F)\nC(chocolate)   2.0  1952.64   976.32  93.58     0.0\nResidual      33.0   344.31    10.43    NaN     NaN\n"
     ]
    }
   ],
   "source": [
    "anovaResults = round(anova_lm(model), 2)#2是保留几位小数的意思\n",
    "print('The ANOVA table: \\n', anovaResults)  \n",
    "#? 为什么这里打出来自由度是1呢\n",
    "F0, pVal1 = stats.f_oneway(group1, group2, group3)"
   ]
  },
  {
   "source": [
    "注意这里自由度的公式定义:\n",
    "dfn=a-1\n",
    "dfd=a(n-1)"
   ],
   "cell_type": "markdown",
   "metadata": {}
  },
  {
   "cell_type": "code",
   "execution_count": 6,
   "metadata": {},
   "outputs": [
    {
     "output_type": "stream",
     "name": "stdout",
     "text": [
      "2.5152590041683006e-14\n\nSince p-value < 0.05, reject H0.\n93.57559776071176\nSince F0 > F(0.05,2,33) =  3.28 , reject H0.\n"
     ]
    }
   ],
   "source": [
    "# 法1：p值\n",
    "if pVal1 < alpha:\n",
    "    print(pVal1)\n",
    "    print('\\nSince p-value < 0.05, reject H0.')\n",
    "else:\n",
    "    print('\\nAccept H0.') \n",
    "    \n",
    "# 法2：拒绝域\n",
    "F = round(f.ppf(0.95,dfn = 2,dfd = 33), 2)\n",
    "\n",
    "if F0 > F:\n",
    "    print(F0)\n",
    "    print('Since F0 > F(0.05,2,33) = ', F, ', reject H0.')\n",
    "else:\n",
    "    print('Accept H0.') \n",
    "    "
   ]
  },
  {
   "source": [
    "法1告诉我们p<0.05,拒绝原假设；法1告诉我们F值大于3.28，与p值的结果一致，拒绝原假设。不同Chocolate样本对于Capacity全部均呈现出显著性(p<0.05)，即不同Chocolate样本对于Capacity均有着差异性。"
   ],
   "cell_type": "markdown",
   "metadata": {}
  },
  {
   "source": [
    "# 问题2\n",
    "试判断该实验用One-way ANOVA模型是否恰当.\n",
    "判断One-way ANOVA模型是否恰当，即是从3个角度判断模型假设的合理性(2.1-2.3)：\n",
    "\n",
    "## 2.0 均值模型和效率模型\n",
    "均值模型：\n",
    "$y_{ij}=\\mu_i+\\epsilon_{ij}$，其中，$\\epsilon_{ij}$是独立同分布，服从于正态分布，$N(0,\\sigma^2)$。这里确定的$\\mu$，一部分与$i$有关，一部分无关。$\\mu_i=\\mu+\\alpha_i$,添加一个约束:$\\mu=\\frac{1}{m}\\sum ^m\\mu_i$\n",
    "\n",
    "对于等式$\\mu_i=\\mu+\\alpha_i$左右两边同时对i求和，可得$\\sum\\alpha_i=0$,这个$\\sum\\alpha_i=0$就是约束，下面给出效率模型的定义：\n",
    "\n",
    "$y_{ij}=\\mu_i+\\epsilon_{ij}+\\alpha_i$\n",
    "\n",
    "- 2.1 独立性检验\n",
    "- 2.2 方差齐性检验\n",
    "- 2.3 正态性检验\n"
   ],
   "cell_type": "markdown",
   "metadata": {}
  },
  {
   "source": [
    "## 2.1 独立性检验\n",
    "通常来说，我们需要必要的随机化实验次序来防止未知干扰因子的影响，但是在本次探究吃巧克力对心血管健康的影响中，实验次序本身具有随机性，就无需再随机化了，所以在这里没有采用依照收集数据的时间顺序，而是采用DW独立性检验来检验分析中【残差】的一阶自相关性。\n",
    "观测到的叫**残差**$e_{ij}=y_{ij}-\\hat{y_{ij}}$\n",
    "\n",
    "这里，一阶自相关性即为线性表示的残差一阶相关性方程:$e_i = \\rho * e_{i-1} + v_i$\n",
    "\n",
    "DW 独立性检验的$H_0$和$H_1$分别为：\n",
    "$H_0:\\rho = 0 v.s. H_1\\rho \\neq 0$  \n",
    "\n",
    "检验统计量为：$d = \\frac{\\sum^T_{t=2}\\quad(e_i-e_{i-1})^2}{\\sum^T_{t=1}\\quad e_i^2}$  \n"
   ],
   "cell_type": "markdown",
   "metadata": {}
  },
  {
   "cell_type": "code",
   "execution_count": 7,
   "metadata": {},
   "outputs": [],
   "source": [
    "def durbin_watson(residuals):\n",
    "    nume = sum(np.diff(residuals.T) ** 2)\n",
    "    deno = sum(residuals ** 2)\n",
    "    return nume / deno"
   ]
  },
  {
   "cell_type": "code",
   "execution_count": 8,
   "metadata": {},
   "outputs": [
    {
     "output_type": "stream",
     "name": "stdout",
     "text": [
      "116.05833333333334\n100.7\n100.18333333333332\nDurbin-Watson检验的统计量为： 2.3\n"
     ]
    }
   ],
   "source": [
    "data_group=[group1,group2,group3]\n",
    "data_group_mean=[]#各组均值\n",
    "data_residual=[]\n",
    "data_residal_bygroup=[]#按组聚集的偏差\n",
    "for group in data_group:\n",
    "    group_mean=np.mean(group)\n",
    "    print(group_mean)\n",
    "    data_group_mean.append(group_mean)\n",
    "    group_residual_list=[]\n",
    "    for item in group:\n",
    "        residual=item-group_mean\n",
    "        group_residual_list.append(residual)\n",
    "        data_residual.append(residual)\n",
    "    data_residal_bygroup.append(group_residual_list)\n",
    "data_residual=np.array(data_residual)\n",
    "dw = durbin_watson(data_residual)\n",
    "print('Durbin-Watson检验的统计量为：', round(dw,2))"
   ]
  },
  {
   "source": [
    "由分析可知，Durbin-Watson检验的统计量为：2.3，在 1~3 之间且比较接近2，故没有违反独立性的假定。"
   ],
   "cell_type": "markdown",
   "metadata": {}
  },
  {
   "source": [
    "## 2.2 方差齐性检验(同质)\n",
    "方差齐性检验即是去每组的方差是一致的。使用方差齐性检验，去检验各个组别数据的波动情况(标准差)是否有明显的差异\n",
    "方差齐性检验的方法有如下两种：\n",
    "- Bartlett检验:正态性敏感\n",
    "- Levene检验:较为Robust\n",
    "### 2.2.1 Bartlett检验\n",
    "Bartlett检验的原假设$H_0$为各数据间具有方差齐性。\n",
    "Bartlett检验统计量为：$\\chi_0^2 = 2.3026\\frac{q}{c}$  \n",
    "其中，$q = (N - a)log_{10}S_p^2 - \\sum_{i=1}^a(n_i - 1)log_{10}S_i^2$  \n",
    "$c = 1 + \\frac{1}{3(a-1)}(\\sum_{i=1}^a(n_i-1)^{-1} - (N - a)^{-1})$  \n",
    "$S_p^2 = \\frac{\\sum_{i=1}^a\\quad(n_i-1)S_i^2}{N - a}$ 且$S_i^2$是第 $i$ 个总体的样本方差；当$\\chi_0^2 > \\chi_{\\alpha,a-1}^2$ 时，拒绝$H_0$，其中$\\chi_{\\alpha,a-1}^2$是自由度为$a-1$的卡方分布上的 $\\alpha$ 分位数。\n",
    "下面使用stats库中的bartlett包进行方差齐性检验"
   ],
   "cell_type": "markdown",
   "metadata": {}
  },
  {
   "cell_type": "code",
   "execution_count": 9,
   "metadata": {},
   "outputs": [
    {
     "output_type": "stream",
     "name": "stdout",
     "text": [
      "Bartlett检验的P值为： 0.81\nAccept H0\nBartlett检验统计量： 0.42\n𝜒_(𝛼,𝑎−1)^2:  5.99\nAccept H0\n"
     ]
    }
   ],
   "source": [
    "# 用Bartlett检验进行方差齐性检验\n",
    "bart, pVal2 = stats.bartlett(group1, group2, group3)\n",
    "bart_stat = stats.chi2.isf(alpha, a-1)\n",
    "\n",
    "# p值：\n",
    "print('Bartlett检验的P值为：', round(pVal2, 2))\n",
    "if pVal2 < alpha:\n",
    "    print('Since p-value < 0.05, reject H0.')\n",
    "else:\n",
    "    print('Accept H0')  \n",
    "\n",
    "# 检验统计量与拒绝域：\n",
    "print('Bartlett检验统计量：', round(bart, 2))\n",
    "print('𝜒_(𝛼,𝑎−1)^2: ', round(bart_stat, 2))\n",
    "if bart > bart_stat:\n",
    "    print('Since 𝜒_0^2 > 𝜒_(𝛼,𝑎−1)^2, reject H0.')\n",
    "else:\n",
    "    print('Accept H0')  "
   ]
  },
  {
   "source": [
    "由分析可知，Bartlett检验接受原假设，即残差具有方差齐性。"
   ],
   "cell_type": "markdown",
   "metadata": {}
  },
  {
   "source": [
    "### 2.2.2 Levene检验\n",
    "Levene检验的原假为设$H_0$为各数据间具有方差齐性。\n",
    "下面使用p值进行Levene方差齐性检验"
   ],
   "cell_type": "markdown",
   "metadata": {}
  },
  {
   "cell_type": "code",
   "execution_count": 10,
   "metadata": {},
   "outputs": [
    {
     "output_type": "stream",
     "name": "stdout",
     "text": [
      "Levene检验的P值为： 0.98\nAccept H0\n"
     ]
    }
   ],
   "source": [
    "# 用Levene检验进行方差齐性检验\n",
    "lene, pVal3 = stats.levene(group1, group2, group3)\n",
    "print('Levene检验的P值为：', round(pVal3, 2))\n",
    "if pVal3 < alpha:\n",
    "    print('Since p-value < 0.05, reject H0.')\n",
    "else:\n",
    "    print('Accept H0')  "
   ]
  },
  {
   "source": [
    "由分析可知，Levene检验检验的P值大于 0.05，故接受原假设，即残差具有方差齐性。符合使用one-way Anova的条件"
   ],
   "cell_type": "markdown",
   "metadata": {}
  },
  {
   "source": [
    "## 2.3 正态性检验\n",
    "### 2.3.1 画qq图\n",
    "利用qq图（The quantitle-quantile plot），来检验数据分布的相似性。\n",
    "\n",
    "原理：\n",
    "\n",
    "qq横坐标为某一样本的分位数，纵坐标为另一样本分位数，若两样本分布相同，则散点图中的点在y=x附近。"
   ],
   "cell_type": "markdown",
   "metadata": {}
  },
  {
   "cell_type": "code",
   "execution_count": 11,
   "metadata": {},
   "outputs": [
    {
     "output_type": "display_data",
     "data": {
      "text/plain": "<Figure size 432x288 with 1 Axes>",
      "image/svg+xml": "<?xml version=\"1.0\" encoding=\"utf-8\" standalone=\"no\"?>\n<!DOCTYPE svg PUBLIC \"-//W3C//DTD SVG 1.1//EN\"\n  \"http://www.w3.org/Graphics/SVG/1.1/DTD/svg11.dtd\">\n<!-- Created with matplotlib (https://matplotlib.org/) -->\n<svg height=\"277.314375pt\" version=\"1.1\" viewBox=\"0 0 384.620312 277.314375\" width=\"384.620312pt\" xmlns=\"http://www.w3.org/2000/svg\" xmlns:xlink=\"http://www.w3.org/1999/xlink\">\n <metadata>\n  <rdf:RDF xmlns:cc=\"http://creativecommons.org/ns#\" xmlns:dc=\"http://purl.org/dc/elements/1.1/\" xmlns:rdf=\"http://www.w3.org/1999/02/22-rdf-syntax-ns#\">\n   <cc:Work>\n    <dc:type rdf:resource=\"http://purl.org/dc/dcmitype/StillImage\"/>\n    <dc:date>2021-03-03T10:54:01.036260</dc:date>\n    <dc:format>image/svg+xml</dc:format>\n    <dc:creator>\n     <cc:Agent>\n      <dc:title>Matplotlib v3.3.2, https://matplotlib.org/</dc:title>\n     </cc:Agent>\n    </dc:creator>\n   </cc:Work>\n  </rdf:RDF>\n </metadata>\n <defs>\n  <style type=\"text/css\">*{stroke-linecap:butt;stroke-linejoin:round;}</style>\n </defs>\n <g id=\"figure_1\">\n  <g id=\"patch_1\">\n   <path d=\"M 0 277.314375 \nL 384.620312 277.314375 \nL 384.620312 0 \nL 0 0 \nz\n\" style=\"fill:none;\"/>\n  </g>\n  <g id=\"axes_1\">\n   <g id=\"patch_2\">\n    <path d=\"M 42.620313 239.758125 \nL 377.420313 239.758125 \nL 377.420313 22.318125 \nL 42.620313 22.318125 \nz\n\" style=\"fill:#ffffff;\"/>\n   </g>\n   <g id=\"matplotlib.axis_1\">\n    <g id=\"xtick_1\">\n     <g id=\"line2d_1\">\n      <defs>\n       <path d=\"M 0 0 \nL 0 3.5 \n\" id=\"m0ff4897e2d\" style=\"stroke:#000000;stroke-width:0.8;\"/>\n      </defs>\n      <g>\n       <use style=\"stroke:#000000;stroke-width:0.8;\" x=\"63.22223\" xlink:href=\"#m0ff4897e2d\" y=\"239.758125\"/>\n      </g>\n     </g>\n     <g id=\"text_1\">\n      <!-- −2 -->\n      <g transform=\"translate(55.851137 254.356562)scale(0.1 -0.1)\">\n       <defs>\n        <path d=\"M 10.59375 35.5 \nL 73.1875 35.5 \nL 73.1875 27.203125 \nL 10.59375 27.203125 \nz\n\" id=\"DejaVuSans-8722\"/>\n        <path d=\"M 19.1875 8.296875 \nL 53.609375 8.296875 \nL 53.609375 0 \nL 7.328125 0 \nL 7.328125 8.296875 \nQ 12.9375 14.109375 22.625 23.890625 \nQ 32.328125 33.6875 34.8125 36.53125 \nQ 39.546875 41.84375 41.421875 45.53125 \nQ 43.3125 49.21875 43.3125 52.78125 \nQ 43.3125 58.59375 39.234375 62.25 \nQ 35.15625 65.921875 28.609375 65.921875 \nQ 23.96875 65.921875 18.8125 64.3125 \nQ 13.671875 62.703125 7.8125 59.421875 \nL 7.8125 69.390625 \nQ 13.765625 71.78125 18.9375 73 \nQ 24.125 74.21875 28.421875 74.21875 \nQ 39.75 74.21875 46.484375 68.546875 \nQ 53.21875 62.890625 53.21875 53.421875 \nQ 53.21875 48.921875 51.53125 44.890625 \nQ 49.859375 40.875 45.40625 35.40625 \nQ 44.1875 33.984375 37.640625 27.21875 \nQ 31.109375 20.453125 19.1875 8.296875 \nz\n\" id=\"DejaVuSans-50\"/>\n       </defs>\n       <use xlink:href=\"#DejaVuSans-8722\"/>\n       <use x=\"83.789062\" xlink:href=\"#DejaVuSans-50\"/>\n      </g>\n     </g>\n    </g>\n    <g id=\"xtick_2\">\n     <g id=\"line2d_2\">\n      <g>\n       <use style=\"stroke:#000000;stroke-width:0.8;\" x=\"136.621271\" xlink:href=\"#m0ff4897e2d\" y=\"239.758125\"/>\n      </g>\n     </g>\n     <g id=\"text_2\">\n      <!-- −1 -->\n      <g transform=\"translate(129.250178 254.356562)scale(0.1 -0.1)\">\n       <defs>\n        <path d=\"M 12.40625 8.296875 \nL 28.515625 8.296875 \nL 28.515625 63.921875 \nL 10.984375 60.40625 \nL 10.984375 69.390625 \nL 28.421875 72.90625 \nL 38.28125 72.90625 \nL 38.28125 8.296875 \nL 54.390625 8.296875 \nL 54.390625 0 \nL 12.40625 0 \nz\n\" id=\"DejaVuSans-49\"/>\n       </defs>\n       <use xlink:href=\"#DejaVuSans-8722\"/>\n       <use x=\"83.789062\" xlink:href=\"#DejaVuSans-49\"/>\n      </g>\n     </g>\n    </g>\n    <g id=\"xtick_3\">\n     <g id=\"line2d_3\">\n      <g>\n       <use style=\"stroke:#000000;stroke-width:0.8;\" x=\"210.020313\" xlink:href=\"#m0ff4897e2d\" y=\"239.758125\"/>\n      </g>\n     </g>\n     <g id=\"text_3\">\n      <!-- 0 -->\n      <g transform=\"translate(206.839063 254.356562)scale(0.1 -0.1)\">\n       <defs>\n        <path d=\"M 31.78125 66.40625 \nQ 24.171875 66.40625 20.328125 58.90625 \nQ 16.5 51.421875 16.5 36.375 \nQ 16.5 21.390625 20.328125 13.890625 \nQ 24.171875 6.390625 31.78125 6.390625 \nQ 39.453125 6.390625 43.28125 13.890625 \nQ 47.125 21.390625 47.125 36.375 \nQ 47.125 51.421875 43.28125 58.90625 \nQ 39.453125 66.40625 31.78125 66.40625 \nz\nM 31.78125 74.21875 \nQ 44.046875 74.21875 50.515625 64.515625 \nQ 56.984375 54.828125 56.984375 36.375 \nQ 56.984375 17.96875 50.515625 8.265625 \nQ 44.046875 -1.421875 31.78125 -1.421875 \nQ 19.53125 -1.421875 13.0625 8.265625 \nQ 6.59375 17.96875 6.59375 36.375 \nQ 6.59375 54.828125 13.0625 64.515625 \nQ 19.53125 74.21875 31.78125 74.21875 \nz\n\" id=\"DejaVuSans-48\"/>\n       </defs>\n       <use xlink:href=\"#DejaVuSans-48\"/>\n      </g>\n     </g>\n    </g>\n    <g id=\"xtick_4\">\n     <g id=\"line2d_4\">\n      <g>\n       <use style=\"stroke:#000000;stroke-width:0.8;\" x=\"283.419354\" xlink:href=\"#m0ff4897e2d\" y=\"239.758125\"/>\n      </g>\n     </g>\n     <g id=\"text_4\">\n      <!-- 1 -->\n      <g transform=\"translate(280.238104 254.356562)scale(0.1 -0.1)\">\n       <use xlink:href=\"#DejaVuSans-49\"/>\n      </g>\n     </g>\n    </g>\n    <g id=\"xtick_5\">\n     <g id=\"line2d_5\">\n      <g>\n       <use style=\"stroke:#000000;stroke-width:0.8;\" x=\"356.818395\" xlink:href=\"#m0ff4897e2d\" y=\"239.758125\"/>\n      </g>\n     </g>\n     <g id=\"text_5\">\n      <!-- 2 -->\n      <g transform=\"translate(353.637145 254.356562)scale(0.1 -0.1)\">\n       <use xlink:href=\"#DejaVuSans-50\"/>\n      </g>\n     </g>\n    </g>\n    <g id=\"text_6\">\n     <!-- Theoretical quantiles -->\n     <g transform=\"translate(157.50625 268.034687)scale(0.1 -0.1)\">\n      <defs>\n       <path d=\"M -0.296875 72.90625 \nL 61.375 72.90625 \nL 61.375 64.59375 \nL 35.5 64.59375 \nL 35.5 0 \nL 25.59375 0 \nL 25.59375 64.59375 \nL -0.296875 64.59375 \nz\n\" id=\"DejaVuSans-84\"/>\n       <path d=\"M 54.890625 33.015625 \nL 54.890625 0 \nL 45.90625 0 \nL 45.90625 32.71875 \nQ 45.90625 40.484375 42.875 44.328125 \nQ 39.84375 48.1875 33.796875 48.1875 \nQ 26.515625 48.1875 22.3125 43.546875 \nQ 18.109375 38.921875 18.109375 30.90625 \nL 18.109375 0 \nL 9.078125 0 \nL 9.078125 75.984375 \nL 18.109375 75.984375 \nL 18.109375 46.1875 \nQ 21.34375 51.125 25.703125 53.5625 \nQ 30.078125 56 35.796875 56 \nQ 45.21875 56 50.046875 50.171875 \nQ 54.890625 44.34375 54.890625 33.015625 \nz\n\" id=\"DejaVuSans-104\"/>\n       <path d=\"M 56.203125 29.59375 \nL 56.203125 25.203125 \nL 14.890625 25.203125 \nQ 15.484375 15.921875 20.484375 11.0625 \nQ 25.484375 6.203125 34.421875 6.203125 \nQ 39.59375 6.203125 44.453125 7.46875 \nQ 49.3125 8.734375 54.109375 11.28125 \nL 54.109375 2.78125 \nQ 49.265625 0.734375 44.1875 -0.34375 \nQ 39.109375 -1.421875 33.890625 -1.421875 \nQ 20.796875 -1.421875 13.15625 6.1875 \nQ 5.515625 13.8125 5.515625 26.8125 \nQ 5.515625 40.234375 12.765625 48.109375 \nQ 20.015625 56 32.328125 56 \nQ 43.359375 56 49.78125 48.890625 \nQ 56.203125 41.796875 56.203125 29.59375 \nz\nM 47.21875 32.234375 \nQ 47.125 39.59375 43.09375 43.984375 \nQ 39.0625 48.390625 32.421875 48.390625 \nQ 24.90625 48.390625 20.390625 44.140625 \nQ 15.875 39.890625 15.1875 32.171875 \nz\n\" id=\"DejaVuSans-101\"/>\n       <path d=\"M 30.609375 48.390625 \nQ 23.390625 48.390625 19.1875 42.75 \nQ 14.984375 37.109375 14.984375 27.296875 \nQ 14.984375 17.484375 19.15625 11.84375 \nQ 23.34375 6.203125 30.609375 6.203125 \nQ 37.796875 6.203125 41.984375 11.859375 \nQ 46.1875 17.53125 46.1875 27.296875 \nQ 46.1875 37.015625 41.984375 42.703125 \nQ 37.796875 48.390625 30.609375 48.390625 \nz\nM 30.609375 56 \nQ 42.328125 56 49.015625 48.375 \nQ 55.71875 40.765625 55.71875 27.296875 \nQ 55.71875 13.875 49.015625 6.21875 \nQ 42.328125 -1.421875 30.609375 -1.421875 \nQ 18.84375 -1.421875 12.171875 6.21875 \nQ 5.515625 13.875 5.515625 27.296875 \nQ 5.515625 40.765625 12.171875 48.375 \nQ 18.84375 56 30.609375 56 \nz\n\" id=\"DejaVuSans-111\"/>\n       <path d=\"M 41.109375 46.296875 \nQ 39.59375 47.171875 37.8125 47.578125 \nQ 36.03125 48 33.890625 48 \nQ 26.265625 48 22.1875 43.046875 \nQ 18.109375 38.09375 18.109375 28.8125 \nL 18.109375 0 \nL 9.078125 0 \nL 9.078125 54.6875 \nL 18.109375 54.6875 \nL 18.109375 46.1875 \nQ 20.953125 51.171875 25.484375 53.578125 \nQ 30.03125 56 36.53125 56 \nQ 37.453125 56 38.578125 55.875 \nQ 39.703125 55.765625 41.0625 55.515625 \nz\n\" id=\"DejaVuSans-114\"/>\n       <path d=\"M 18.3125 70.21875 \nL 18.3125 54.6875 \nL 36.8125 54.6875 \nL 36.8125 47.703125 \nL 18.3125 47.703125 \nL 18.3125 18.015625 \nQ 18.3125 11.328125 20.140625 9.421875 \nQ 21.96875 7.515625 27.59375 7.515625 \nL 36.8125 7.515625 \nL 36.8125 0 \nL 27.59375 0 \nQ 17.1875 0 13.234375 3.875 \nQ 9.28125 7.765625 9.28125 18.015625 \nL 9.28125 47.703125 \nL 2.6875 47.703125 \nL 2.6875 54.6875 \nL 9.28125 54.6875 \nL 9.28125 70.21875 \nz\n\" id=\"DejaVuSans-116\"/>\n       <path d=\"M 9.421875 54.6875 \nL 18.40625 54.6875 \nL 18.40625 0 \nL 9.421875 0 \nz\nM 9.421875 75.984375 \nL 18.40625 75.984375 \nL 18.40625 64.59375 \nL 9.421875 64.59375 \nz\n\" id=\"DejaVuSans-105\"/>\n       <path d=\"M 48.78125 52.59375 \nL 48.78125 44.1875 \nQ 44.96875 46.296875 41.140625 47.34375 \nQ 37.3125 48.390625 33.40625 48.390625 \nQ 24.65625 48.390625 19.8125 42.84375 \nQ 14.984375 37.3125 14.984375 27.296875 \nQ 14.984375 17.28125 19.8125 11.734375 \nQ 24.65625 6.203125 33.40625 6.203125 \nQ 37.3125 6.203125 41.140625 7.25 \nQ 44.96875 8.296875 48.78125 10.40625 \nL 48.78125 2.09375 \nQ 45.015625 0.34375 40.984375 -0.53125 \nQ 36.96875 -1.421875 32.421875 -1.421875 \nQ 20.0625 -1.421875 12.78125 6.34375 \nQ 5.515625 14.109375 5.515625 27.296875 \nQ 5.515625 40.671875 12.859375 48.328125 \nQ 20.21875 56 33.015625 56 \nQ 37.15625 56 41.109375 55.140625 \nQ 45.0625 54.296875 48.78125 52.59375 \nz\n\" id=\"DejaVuSans-99\"/>\n       <path d=\"M 34.28125 27.484375 \nQ 23.390625 27.484375 19.1875 25 \nQ 14.984375 22.515625 14.984375 16.5 \nQ 14.984375 11.71875 18.140625 8.90625 \nQ 21.296875 6.109375 26.703125 6.109375 \nQ 34.1875 6.109375 38.703125 11.40625 \nQ 43.21875 16.703125 43.21875 25.484375 \nL 43.21875 27.484375 \nz\nM 52.203125 31.203125 \nL 52.203125 0 \nL 43.21875 0 \nL 43.21875 8.296875 \nQ 40.140625 3.328125 35.546875 0.953125 \nQ 30.953125 -1.421875 24.3125 -1.421875 \nQ 15.921875 -1.421875 10.953125 3.296875 \nQ 6 8.015625 6 15.921875 \nQ 6 25.140625 12.171875 29.828125 \nQ 18.359375 34.515625 30.609375 34.515625 \nL 43.21875 34.515625 \nL 43.21875 35.40625 \nQ 43.21875 41.609375 39.140625 45 \nQ 35.0625 48.390625 27.6875 48.390625 \nQ 23 48.390625 18.546875 47.265625 \nQ 14.109375 46.140625 10.015625 43.890625 \nL 10.015625 52.203125 \nQ 14.9375 54.109375 19.578125 55.046875 \nQ 24.21875 56 28.609375 56 \nQ 40.484375 56 46.34375 49.84375 \nQ 52.203125 43.703125 52.203125 31.203125 \nz\n\" id=\"DejaVuSans-97\"/>\n       <path d=\"M 9.421875 75.984375 \nL 18.40625 75.984375 \nL 18.40625 0 \nL 9.421875 0 \nz\n\" id=\"DejaVuSans-108\"/>\n       <path id=\"DejaVuSans-32\"/>\n       <path d=\"M 14.796875 27.296875 \nQ 14.796875 17.390625 18.875 11.75 \nQ 22.953125 6.109375 30.078125 6.109375 \nQ 37.203125 6.109375 41.296875 11.75 \nQ 45.40625 17.390625 45.40625 27.296875 \nQ 45.40625 37.203125 41.296875 42.84375 \nQ 37.203125 48.484375 30.078125 48.484375 \nQ 22.953125 48.484375 18.875 42.84375 \nQ 14.796875 37.203125 14.796875 27.296875 \nz\nM 45.40625 8.203125 \nQ 42.578125 3.328125 38.25 0.953125 \nQ 33.9375 -1.421875 27.875 -1.421875 \nQ 17.96875 -1.421875 11.734375 6.484375 \nQ 5.515625 14.40625 5.515625 27.296875 \nQ 5.515625 40.1875 11.734375 48.09375 \nQ 17.96875 56 27.875 56 \nQ 33.9375 56 38.25 53.625 \nQ 42.578125 51.265625 45.40625 46.390625 \nL 45.40625 54.6875 \nL 54.390625 54.6875 \nL 54.390625 -20.796875 \nL 45.40625 -20.796875 \nz\n\" id=\"DejaVuSans-113\"/>\n       <path d=\"M 8.5 21.578125 \nL 8.5 54.6875 \nL 17.484375 54.6875 \nL 17.484375 21.921875 \nQ 17.484375 14.15625 20.5 10.265625 \nQ 23.53125 6.390625 29.59375 6.390625 \nQ 36.859375 6.390625 41.078125 11.03125 \nQ 45.3125 15.671875 45.3125 23.6875 \nL 45.3125 54.6875 \nL 54.296875 54.6875 \nL 54.296875 0 \nL 45.3125 0 \nL 45.3125 8.40625 \nQ 42.046875 3.421875 37.71875 1 \nQ 33.40625 -1.421875 27.6875 -1.421875 \nQ 18.265625 -1.421875 13.375 4.4375 \nQ 8.5 10.296875 8.5 21.578125 \nz\nM 31.109375 56 \nz\n\" id=\"DejaVuSans-117\"/>\n       <path d=\"M 54.890625 33.015625 \nL 54.890625 0 \nL 45.90625 0 \nL 45.90625 32.71875 \nQ 45.90625 40.484375 42.875 44.328125 \nQ 39.84375 48.1875 33.796875 48.1875 \nQ 26.515625 48.1875 22.3125 43.546875 \nQ 18.109375 38.921875 18.109375 30.90625 \nL 18.109375 0 \nL 9.078125 0 \nL 9.078125 54.6875 \nL 18.109375 54.6875 \nL 18.109375 46.1875 \nQ 21.34375 51.125 25.703125 53.5625 \nQ 30.078125 56 35.796875 56 \nQ 45.21875 56 50.046875 50.171875 \nQ 54.890625 44.34375 54.890625 33.015625 \nz\n\" id=\"DejaVuSans-110\"/>\n       <path d=\"M 44.28125 53.078125 \nL 44.28125 44.578125 \nQ 40.484375 46.53125 36.375 47.5 \nQ 32.28125 48.484375 27.875 48.484375 \nQ 21.1875 48.484375 17.84375 46.4375 \nQ 14.5 44.390625 14.5 40.28125 \nQ 14.5 37.15625 16.890625 35.375 \nQ 19.28125 33.59375 26.515625 31.984375 \nL 29.59375 31.296875 \nQ 39.15625 29.25 43.1875 25.515625 \nQ 47.21875 21.78125 47.21875 15.09375 \nQ 47.21875 7.46875 41.1875 3.015625 \nQ 35.15625 -1.421875 24.609375 -1.421875 \nQ 20.21875 -1.421875 15.453125 -0.5625 \nQ 10.6875 0.296875 5.421875 2 \nL 5.421875 11.28125 \nQ 10.40625 8.6875 15.234375 7.390625 \nQ 20.0625 6.109375 24.8125 6.109375 \nQ 31.15625 6.109375 34.5625 8.28125 \nQ 37.984375 10.453125 37.984375 14.40625 \nQ 37.984375 18.0625 35.515625 20.015625 \nQ 33.0625 21.96875 24.703125 23.78125 \nL 21.578125 24.515625 \nQ 13.234375 26.265625 9.515625 29.90625 \nQ 5.8125 33.546875 5.8125 39.890625 \nQ 5.8125 47.609375 11.28125 51.796875 \nQ 16.75 56 26.8125 56 \nQ 31.78125 56 36.171875 55.265625 \nQ 40.578125 54.546875 44.28125 53.078125 \nz\n\" id=\"DejaVuSans-115\"/>\n      </defs>\n      <use xlink:href=\"#DejaVuSans-84\"/>\n      <use x=\"61.083984\" xlink:href=\"#DejaVuSans-104\"/>\n      <use x=\"124.462891\" xlink:href=\"#DejaVuSans-101\"/>\n      <use x=\"185.986328\" xlink:href=\"#DejaVuSans-111\"/>\n      <use x=\"247.167969\" xlink:href=\"#DejaVuSans-114\"/>\n      <use x=\"286.03125\" xlink:href=\"#DejaVuSans-101\"/>\n      <use x=\"347.554688\" xlink:href=\"#DejaVuSans-116\"/>\n      <use x=\"386.763672\" xlink:href=\"#DejaVuSans-105\"/>\n      <use x=\"414.546875\" xlink:href=\"#DejaVuSans-99\"/>\n      <use x=\"469.527344\" xlink:href=\"#DejaVuSans-97\"/>\n      <use x=\"530.806641\" xlink:href=\"#DejaVuSans-108\"/>\n      <use x=\"558.589844\" xlink:href=\"#DejaVuSans-32\"/>\n      <use x=\"590.376953\" xlink:href=\"#DejaVuSans-113\"/>\n      <use x=\"653.853516\" xlink:href=\"#DejaVuSans-117\"/>\n      <use x=\"717.232422\" xlink:href=\"#DejaVuSans-97\"/>\n      <use x=\"778.511719\" xlink:href=\"#DejaVuSans-110\"/>\n      <use x=\"841.890625\" xlink:href=\"#DejaVuSans-116\"/>\n      <use x=\"881.099609\" xlink:href=\"#DejaVuSans-105\"/>\n      <use x=\"908.882812\" xlink:href=\"#DejaVuSans-108\"/>\n      <use x=\"936.666016\" xlink:href=\"#DejaVuSans-101\"/>\n      <use x=\"998.189453\" xlink:href=\"#DejaVuSans-115\"/>\n     </g>\n    </g>\n   </g>\n   <g id=\"matplotlib.axis_2\">\n    <g id=\"ytick_1\">\n     <g id=\"line2d_6\">\n      <defs>\n       <path d=\"M 0 0 \nL -3.5 0 \n\" id=\"m6138ea5841\" style=\"stroke:#000000;stroke-width:0.8;\"/>\n      </defs>\n      <g>\n       <use style=\"stroke:#000000;stroke-width:0.8;\" x=\"42.620313\" xlink:href=\"#m6138ea5841\" y=\"227.750625\"/>\n      </g>\n     </g>\n     <g id=\"text_7\">\n      <!-- −8 -->\n      <g transform=\"translate(20.878125 231.549844)scale(0.1 -0.1)\">\n       <defs>\n        <path d=\"M 31.78125 34.625 \nQ 24.75 34.625 20.71875 30.859375 \nQ 16.703125 27.09375 16.703125 20.515625 \nQ 16.703125 13.921875 20.71875 10.15625 \nQ 24.75 6.390625 31.78125 6.390625 \nQ 38.8125 6.390625 42.859375 10.171875 \nQ 46.921875 13.96875 46.921875 20.515625 \nQ 46.921875 27.09375 42.890625 30.859375 \nQ 38.875 34.625 31.78125 34.625 \nz\nM 21.921875 38.8125 \nQ 15.578125 40.375 12.03125 44.71875 \nQ 8.5 49.078125 8.5 55.328125 \nQ 8.5 64.0625 14.71875 69.140625 \nQ 20.953125 74.21875 31.78125 74.21875 \nQ 42.671875 74.21875 48.875 69.140625 \nQ 55.078125 64.0625 55.078125 55.328125 \nQ 55.078125 49.078125 51.53125 44.71875 \nQ 48 40.375 41.703125 38.8125 \nQ 48.828125 37.15625 52.796875 32.3125 \nQ 56.78125 27.484375 56.78125 20.515625 \nQ 56.78125 9.90625 50.3125 4.234375 \nQ 43.84375 -1.421875 31.78125 -1.421875 \nQ 19.734375 -1.421875 13.25 4.234375 \nQ 6.78125 9.90625 6.78125 20.515625 \nQ 6.78125 27.484375 10.78125 32.3125 \nQ 14.796875 37.15625 21.921875 38.8125 \nz\nM 18.3125 54.390625 \nQ 18.3125 48.734375 21.84375 45.5625 \nQ 25.390625 42.390625 31.78125 42.390625 \nQ 38.140625 42.390625 41.71875 45.5625 \nQ 45.3125 48.734375 45.3125 54.390625 \nQ 45.3125 60.0625 41.71875 63.234375 \nQ 38.140625 66.40625 31.78125 66.40625 \nQ 25.390625 66.40625 21.84375 63.234375 \nQ 18.3125 60.0625 18.3125 54.390625 \nz\n\" id=\"DejaVuSans-56\"/>\n       </defs>\n       <use xlink:href=\"#DejaVuSans-8722\"/>\n       <use x=\"83.789062\" xlink:href=\"#DejaVuSans-56\"/>\n      </g>\n     </g>\n    </g>\n    <g id=\"ytick_2\">\n     <g id=\"line2d_7\">\n      <g>\n       <use style=\"stroke:#000000;stroke-width:0.8;\" x=\"42.620313\" xlink:href=\"#m6138ea5841\" y=\"200.922872\"/>\n      </g>\n     </g>\n     <g id=\"text_8\">\n      <!-- −6 -->\n      <g transform=\"translate(20.878125 204.722091)scale(0.1 -0.1)\">\n       <defs>\n        <path d=\"M 33.015625 40.375 \nQ 26.375 40.375 22.484375 35.828125 \nQ 18.609375 31.296875 18.609375 23.390625 \nQ 18.609375 15.53125 22.484375 10.953125 \nQ 26.375 6.390625 33.015625 6.390625 \nQ 39.65625 6.390625 43.53125 10.953125 \nQ 47.40625 15.53125 47.40625 23.390625 \nQ 47.40625 31.296875 43.53125 35.828125 \nQ 39.65625 40.375 33.015625 40.375 \nz\nM 52.59375 71.296875 \nL 52.59375 62.3125 \nQ 48.875 64.0625 45.09375 64.984375 \nQ 41.3125 65.921875 37.59375 65.921875 \nQ 27.828125 65.921875 22.671875 59.328125 \nQ 17.53125 52.734375 16.796875 39.40625 \nQ 19.671875 43.65625 24.015625 45.921875 \nQ 28.375 48.1875 33.59375 48.1875 \nQ 44.578125 48.1875 50.953125 41.515625 \nQ 57.328125 34.859375 57.328125 23.390625 \nQ 57.328125 12.15625 50.6875 5.359375 \nQ 44.046875 -1.421875 33.015625 -1.421875 \nQ 20.359375 -1.421875 13.671875 8.265625 \nQ 6.984375 17.96875 6.984375 36.375 \nQ 6.984375 53.65625 15.1875 63.9375 \nQ 23.390625 74.21875 37.203125 74.21875 \nQ 40.921875 74.21875 44.703125 73.484375 \nQ 48.484375 72.75 52.59375 71.296875 \nz\n\" id=\"DejaVuSans-54\"/>\n       </defs>\n       <use xlink:href=\"#DejaVuSans-8722\"/>\n       <use x=\"83.789062\" xlink:href=\"#DejaVuSans-54\"/>\n      </g>\n     </g>\n    </g>\n    <g id=\"ytick_3\">\n     <g id=\"line2d_8\">\n      <g>\n       <use style=\"stroke:#000000;stroke-width:0.8;\" x=\"42.620313\" xlink:href=\"#m6138ea5841\" y=\"174.095119\"/>\n      </g>\n     </g>\n     <g id=\"text_9\">\n      <!-- −4 -->\n      <g transform=\"translate(20.878125 177.894338)scale(0.1 -0.1)\">\n       <defs>\n        <path d=\"M 37.796875 64.3125 \nL 12.890625 25.390625 \nL 37.796875 25.390625 \nz\nM 35.203125 72.90625 \nL 47.609375 72.90625 \nL 47.609375 25.390625 \nL 58.015625 25.390625 \nL 58.015625 17.1875 \nL 47.609375 17.1875 \nL 47.609375 0 \nL 37.796875 0 \nL 37.796875 17.1875 \nL 4.890625 17.1875 \nL 4.890625 26.703125 \nz\n\" id=\"DejaVuSans-52\"/>\n       </defs>\n       <use xlink:href=\"#DejaVuSans-8722\"/>\n       <use x=\"83.789062\" xlink:href=\"#DejaVuSans-52\"/>\n      </g>\n     </g>\n    </g>\n    <g id=\"ytick_4\">\n     <g id=\"line2d_9\">\n      <g>\n       <use style=\"stroke:#000000;stroke-width:0.8;\" x=\"42.620313\" xlink:href=\"#m6138ea5841\" y=\"147.267366\"/>\n      </g>\n     </g>\n     <g id=\"text_10\">\n      <!-- −2 -->\n      <g transform=\"translate(20.878125 151.066585)scale(0.1 -0.1)\">\n       <use xlink:href=\"#DejaVuSans-8722\"/>\n       <use x=\"83.789062\" xlink:href=\"#DejaVuSans-50\"/>\n      </g>\n     </g>\n    </g>\n    <g id=\"ytick_5\">\n     <g id=\"line2d_10\">\n      <g>\n       <use style=\"stroke:#000000;stroke-width:0.8;\" x=\"42.620313\" xlink:href=\"#m6138ea5841\" y=\"120.439614\"/>\n      </g>\n     </g>\n     <g id=\"text_11\">\n      <!-- 0 -->\n      <g transform=\"translate(29.257813 124.238832)scale(0.1 -0.1)\">\n       <use xlink:href=\"#DejaVuSans-48\"/>\n      </g>\n     </g>\n    </g>\n    <g id=\"ytick_6\">\n     <g id=\"line2d_11\">\n      <g>\n       <use style=\"stroke:#000000;stroke-width:0.8;\" x=\"42.620313\" xlink:href=\"#m6138ea5841\" y=\"93.611861\"/>\n      </g>\n     </g>\n     <g id=\"text_12\">\n      <!-- 2 -->\n      <g transform=\"translate(29.257813 97.411079)scale(0.1 -0.1)\">\n       <use xlink:href=\"#DejaVuSans-50\"/>\n      </g>\n     </g>\n    </g>\n    <g id=\"ytick_7\">\n     <g id=\"line2d_12\">\n      <g>\n       <use style=\"stroke:#000000;stroke-width:0.8;\" x=\"42.620313\" xlink:href=\"#m6138ea5841\" y=\"66.784108\"/>\n      </g>\n     </g>\n     <g id=\"text_13\">\n      <!-- 4 -->\n      <g transform=\"translate(29.257813 70.583327)scale(0.1 -0.1)\">\n       <use xlink:href=\"#DejaVuSans-52\"/>\n      </g>\n     </g>\n    </g>\n    <g id=\"ytick_8\">\n     <g id=\"line2d_13\">\n      <g>\n       <use style=\"stroke:#000000;stroke-width:0.8;\" x=\"42.620313\" xlink:href=\"#m6138ea5841\" y=\"39.956355\"/>\n      </g>\n     </g>\n     <g id=\"text_14\">\n      <!-- 6 -->\n      <g transform=\"translate(29.257813 43.755574)scale(0.1 -0.1)\">\n       <use xlink:href=\"#DejaVuSans-54\"/>\n      </g>\n     </g>\n    </g>\n    <g id=\"text_15\">\n     <!-- Ordered Values -->\n     <g transform=\"translate(14.798438 169.311562)rotate(-90)scale(0.1 -0.1)\">\n      <defs>\n       <path d=\"M 39.40625 66.21875 \nQ 28.65625 66.21875 22.328125 58.203125 \nQ 16.015625 50.203125 16.015625 36.375 \nQ 16.015625 22.609375 22.328125 14.59375 \nQ 28.65625 6.59375 39.40625 6.59375 \nQ 50.140625 6.59375 56.421875 14.59375 \nQ 62.703125 22.609375 62.703125 36.375 \nQ 62.703125 50.203125 56.421875 58.203125 \nQ 50.140625 66.21875 39.40625 66.21875 \nz\nM 39.40625 74.21875 \nQ 54.734375 74.21875 63.90625 63.9375 \nQ 73.09375 53.65625 73.09375 36.375 \nQ 73.09375 19.140625 63.90625 8.859375 \nQ 54.734375 -1.421875 39.40625 -1.421875 \nQ 24.03125 -1.421875 14.8125 8.828125 \nQ 5.609375 19.09375 5.609375 36.375 \nQ 5.609375 53.65625 14.8125 63.9375 \nQ 24.03125 74.21875 39.40625 74.21875 \nz\n\" id=\"DejaVuSans-79\"/>\n       <path d=\"M 45.40625 46.390625 \nL 45.40625 75.984375 \nL 54.390625 75.984375 \nL 54.390625 0 \nL 45.40625 0 \nL 45.40625 8.203125 \nQ 42.578125 3.328125 38.25 0.953125 \nQ 33.9375 -1.421875 27.875 -1.421875 \nQ 17.96875 -1.421875 11.734375 6.484375 \nQ 5.515625 14.40625 5.515625 27.296875 \nQ 5.515625 40.1875 11.734375 48.09375 \nQ 17.96875 56 27.875 56 \nQ 33.9375 56 38.25 53.625 \nQ 42.578125 51.265625 45.40625 46.390625 \nz\nM 14.796875 27.296875 \nQ 14.796875 17.390625 18.875 11.75 \nQ 22.953125 6.109375 30.078125 6.109375 \nQ 37.203125 6.109375 41.296875 11.75 \nQ 45.40625 17.390625 45.40625 27.296875 \nQ 45.40625 37.203125 41.296875 42.84375 \nQ 37.203125 48.484375 30.078125 48.484375 \nQ 22.953125 48.484375 18.875 42.84375 \nQ 14.796875 37.203125 14.796875 27.296875 \nz\n\" id=\"DejaVuSans-100\"/>\n       <path d=\"M 28.609375 0 \nL 0.78125 72.90625 \nL 11.078125 72.90625 \nL 34.1875 11.53125 \nL 57.328125 72.90625 \nL 67.578125 72.90625 \nL 39.796875 0 \nz\n\" id=\"DejaVuSans-86\"/>\n      </defs>\n      <use xlink:href=\"#DejaVuSans-79\"/>\n      <use x=\"78.710938\" xlink:href=\"#DejaVuSans-114\"/>\n      <use x=\"118.074219\" xlink:href=\"#DejaVuSans-100\"/>\n      <use x=\"181.550781\" xlink:href=\"#DejaVuSans-101\"/>\n      <use x=\"243.074219\" xlink:href=\"#DejaVuSans-114\"/>\n      <use x=\"281.9375\" xlink:href=\"#DejaVuSans-101\"/>\n      <use x=\"343.460938\" xlink:href=\"#DejaVuSans-100\"/>\n      <use x=\"406.9375\" xlink:href=\"#DejaVuSans-32\"/>\n      <use x=\"438.724609\" xlink:href=\"#DejaVuSans-86\"/>\n      <use x=\"499.382812\" xlink:href=\"#DejaVuSans-97\"/>\n      <use x=\"560.662109\" xlink:href=\"#DejaVuSans-108\"/>\n      <use x=\"588.445312\" xlink:href=\"#DejaVuSans-117\"/>\n      <use x=\"651.824219\" xlink:href=\"#DejaVuSans-101\"/>\n      <use x=\"713.347656\" xlink:href=\"#DejaVuSans-115\"/>\n     </g>\n    </g>\n   </g>\n   <g id=\"line2d_14\">\n    <defs>\n     <path d=\"M 0 3 \nC 0.795609 3 1.55874 2.683901 2.12132 2.12132 \nC 2.683901 1.55874 3 0.795609 3 0 \nC 3 -0.795609 2.683901 -1.55874 2.12132 -2.12132 \nC 1.55874 -2.683901 0.795609 -3 0 -3 \nC -0.795609 -3 -1.55874 -2.683901 -2.12132 -2.12132 \nC -2.683901 -1.55874 -3 -0.795609 -3 0 \nC -3 0.795609 -2.683901 1.55874 -2.12132 2.12132 \nC -1.55874 2.683901 -0.795609 3 0 3 \nz\n\" id=\"m7b29b8cbd1\" style=\"stroke:#0000ff;\"/>\n    </defs>\n    <g clip-path=\"url(#p4fce9dd027)\">\n     <use style=\"fill:#0000ff;stroke:#0000ff;\" x=\"57.838494\" xlink:href=\"#m7b29b8cbd1\" y=\"229.874489\"/>\n     <use style=\"fill:#0000ff;stroke:#0000ff;\" x=\"86.549947\" xlink:href=\"#m7b29b8cbd1\" y=\"217.019524\"/>\n     <use style=\"fill:#0000ff;stroke:#0000ff;\" x=\"103.716166\" xlink:href=\"#m7b29b8cbd1\" y=\"193.992369\"/>\n     <use style=\"fill:#0000ff;stroke:#0000ff;\" x=\"116.482276\" xlink:href=\"#m7b29b8cbd1\" y=\"168.729569\"/>\n     <use style=\"fill:#0000ff;stroke:#0000ff;\" x=\"126.913986\" xlink:href=\"#m7b29b8cbd1\" y=\"153.415393\"/>\n     <use style=\"fill:#0000ff;stroke:#0000ff;\" x=\"135.891952\" xlink:href=\"#m7b29b8cbd1\" y=\"152.409352\"/>\n     <use style=\"fill:#0000ff;stroke:#0000ff;\" x=\"143.878858\" xlink:href=\"#m7b29b8cbd1\" y=\"144.584591\"/>\n     <use style=\"fill:#0000ff;stroke:#0000ff;\" x=\"151.150309\" xlink:href=\"#m7b29b8cbd1\" y=\"141.678251\"/>\n     <use style=\"fill:#0000ff;stroke:#0000ff;\" x=\"157.885148\" xlink:href=\"#m7b29b8cbd1\" y=\"140.336864\"/>\n     <use style=\"fill:#0000ff;stroke:#0000ff;\" x=\"164.20701\" xlink:href=\"#m7b29b8cbd1\" y=\"138.995476\"/>\n     <use style=\"fill:#0000ff;stroke:#0000ff;\" x=\"170.205741\" xlink:href=\"#m7b29b8cbd1\" y=\"133.294578\"/>\n     <use style=\"fill:#0000ff;stroke:#0000ff;\" x=\"175.949394\" xlink:href=\"#m7b29b8cbd1\" y=\"132.512102\"/>\n     <use style=\"fill:#0000ff;stroke:#0000ff;\" x=\"181.491421\" xlink:href=\"#m7b29b8cbd1\" y=\"129.829327\"/>\n     <use style=\"fill:#0000ff;stroke:#0000ff;\" x=\"186.875216\" xlink:href=\"#m7b29b8cbd1\" y=\"129.270416\"/>\n     <use style=\"fill:#0000ff;stroke:#0000ff;\" x=\"192.13714\" xlink:href=\"#m7b29b8cbd1\" y=\"128.264375\"/>\n     <use style=\"fill:#0000ff;stroke:#0000ff;\" x=\"197.308619\" xlink:href=\"#m7b29b8cbd1\" y=\"126.922987\"/>\n     <use style=\"fill:#0000ff;stroke:#0000ff;\" x=\"202.41768\" xlink:href=\"#m7b29b8cbd1\" y=\"126.58764\"/>\n     <use style=\"fill:#0000ff;stroke:#0000ff;\" x=\"207.490125\" xlink:href=\"#m7b29b8cbd1\" y=\"126.58764\"/>\n     <use style=\"fill:#0000ff;stroke:#0000ff;\" x=\"212.5505\" xlink:href=\"#m7b29b8cbd1\" y=\"123.904865\"/>\n     <use style=\"fill:#0000ff;stroke:#0000ff;\" x=\"217.622945\" xlink:href=\"#m7b29b8cbd1\" y=\"122.563477\"/>\n     <use style=\"fill:#0000ff;stroke:#0000ff;\" x=\"222.732006\" xlink:href=\"#m7b29b8cbd1\" y=\"117.756838\"/>\n     <use style=\"fill:#0000ff;stroke:#0000ff;\" x=\"227.903485\" xlink:href=\"#m7b29b8cbd1\" y=\"115.074063\"/>\n     <use style=\"fill:#0000ff;stroke:#0000ff;\" x=\"233.165409\" xlink:href=\"#m7b29b8cbd1\" y=\"110.826335\"/>\n     <use style=\"fill:#0000ff;stroke:#0000ff;\" x=\"238.549204\" xlink:href=\"#m7b29b8cbd1\" y=\"109.149601\"/>\n     <use style=\"fill:#0000ff;stroke:#0000ff;\" x=\"244.091231\" xlink:href=\"#m7b29b8cbd1\" y=\"104.342962\"/>\n     <use style=\"fill:#0000ff;stroke:#0000ff;\" x=\"249.834884\" xlink:href=\"#m7b29b8cbd1\" y=\"94.953248\"/>\n     <use style=\"fill:#0000ff;stroke:#0000ff;\" x=\"255.833615\" xlink:href=\"#m7b29b8cbd1\" y=\"94.729684\"/>\n     <use style=\"fill:#0000ff;stroke:#0000ff;\" x=\"262.155477\" xlink:href=\"#m7b29b8cbd1\" y=\"93.611861\"/>\n     <use style=\"fill:#0000ff;stroke:#0000ff;\" x=\"268.890316\" xlink:href=\"#m7b29b8cbd1\" y=\"86.681358\"/>\n     <use style=\"fill:#0000ff;stroke:#0000ff;\" x=\"276.161767\" xlink:href=\"#m7b29b8cbd1\" y=\"85.33997\"/>\n     <use style=\"fill:#0000ff;stroke:#0000ff;\" x=\"284.148673\" xlink:href=\"#m7b29b8cbd1\" y=\"83.663236\"/>\n     <use style=\"fill:#0000ff;stroke:#0000ff;\" x=\"293.126639\" xlink:href=\"#m7b29b8cbd1\" y=\"74.273522\"/>\n     <use style=\"fill:#0000ff;stroke:#0000ff;\" x=\"303.558349\" xlink:href=\"#m7b29b8cbd1\" y=\"69.466883\"/>\n     <use style=\"fill:#0000ff;stroke:#0000ff;\" x=\"316.324459\" xlink:href=\"#m7b29b8cbd1\" y=\"57.394394\"/>\n     <use style=\"fill:#0000ff;stroke:#0000ff;\" x=\"333.490678\" xlink:href=\"#m7b29b8cbd1\" y=\"45.098341\"/>\n     <use style=\"fill:#0000ff;stroke:#0000ff;\" x=\"362.202131\" xlink:href=\"#m7b29b8cbd1\" y=\"32.690505\"/>\n    </g>\n   </g>\n   <g id=\"line2d_15\">\n    <path clip-path=\"url(#p4fce9dd027)\" d=\"M 57.838494 208.677466 \nL 86.549947 192.030031 \nL 103.716166 182.076737 \nL 116.482276 174.674709 \nL 126.913986 168.626209 \nL 135.891952 163.420617 \nL 143.878858 158.789661 \nL 151.150309 154.573538 \nL 157.885148 150.668553 \nL 164.20701 147.003019 \nL 170.205741 143.524844 \nL 175.949394 140.194567 \nL 181.491421 136.981196 \nL 186.875216 133.859571 \nL 192.13714 130.80861 \nL 197.308619 127.81009 \nL 202.41768 124.847761 \nL 207.490125 121.906663 \nL 212.5505 118.972564 \nL 217.622945 116.031466 \nL 222.732006 113.069137 \nL 227.903485 110.070617 \nL 233.165409 107.019656 \nL 238.549204 103.898031 \nL 244.091231 100.684661 \nL 249.834884 97.354383 \nL 255.833615 93.876208 \nL 262.155477 90.210674 \nL 268.890316 86.305689 \nL 276.161767 82.089566 \nL 284.148673 77.45861 \nL 293.126639 72.253018 \nL 303.558349 66.204518 \nL 316.324459 58.80249 \nL 333.490678 48.849196 \nL 362.202131 32.201761 \n\" style=\"fill:none;stroke:#ff0000;stroke-linecap:square;stroke-width:1.5;\"/>\n   </g>\n   <g id=\"patch_3\">\n    <path d=\"M 42.620313 239.758125 \nL 42.620313 22.318125 \n\" style=\"fill:none;stroke:#000000;stroke-linecap:square;stroke-linejoin:miter;stroke-width:0.8;\"/>\n   </g>\n   <g id=\"patch_4\">\n    <path d=\"M 377.420313 239.758125 \nL 377.420313 22.318125 \n\" style=\"fill:none;stroke:#000000;stroke-linecap:square;stroke-linejoin:miter;stroke-width:0.8;\"/>\n   </g>\n   <g id=\"patch_5\">\n    <path d=\"M 42.620313 239.758125 \nL 377.420313 239.758125 \n\" style=\"fill:none;stroke:#000000;stroke-linecap:square;stroke-linejoin:miter;stroke-width:0.8;\"/>\n   </g>\n   <g id=\"patch_6\">\n    <path d=\"M 42.620313 22.318125 \nL 377.420313 22.318125 \n\" style=\"fill:none;stroke:#000000;stroke-linecap:square;stroke-linejoin:miter;stroke-width:0.8;\"/>\n   </g>\n   <g id=\"text_16\">\n    <!-- Probability Plot -->\n    <g transform=\"translate(165.090625 16.318125)scale(0.12 -0.12)\">\n     <defs>\n      <path d=\"M 19.671875 64.796875 \nL 19.671875 37.40625 \nL 32.078125 37.40625 \nQ 38.96875 37.40625 42.71875 40.96875 \nQ 46.484375 44.53125 46.484375 51.125 \nQ 46.484375 57.671875 42.71875 61.234375 \nQ 38.96875 64.796875 32.078125 64.796875 \nz\nM 9.8125 72.90625 \nL 32.078125 72.90625 \nQ 44.34375 72.90625 50.609375 67.359375 \nQ 56.890625 61.8125 56.890625 51.125 \nQ 56.890625 40.328125 50.609375 34.8125 \nQ 44.34375 29.296875 32.078125 29.296875 \nL 19.671875 29.296875 \nL 19.671875 0 \nL 9.8125 0 \nz\n\" id=\"DejaVuSans-80\"/>\n      <path d=\"M 48.6875 27.296875 \nQ 48.6875 37.203125 44.609375 42.84375 \nQ 40.53125 48.484375 33.40625 48.484375 \nQ 26.265625 48.484375 22.1875 42.84375 \nQ 18.109375 37.203125 18.109375 27.296875 \nQ 18.109375 17.390625 22.1875 11.75 \nQ 26.265625 6.109375 33.40625 6.109375 \nQ 40.53125 6.109375 44.609375 11.75 \nQ 48.6875 17.390625 48.6875 27.296875 \nz\nM 18.109375 46.390625 \nQ 20.953125 51.265625 25.265625 53.625 \nQ 29.59375 56 35.59375 56 \nQ 45.5625 56 51.78125 48.09375 \nQ 58.015625 40.1875 58.015625 27.296875 \nQ 58.015625 14.40625 51.78125 6.484375 \nQ 45.5625 -1.421875 35.59375 -1.421875 \nQ 29.59375 -1.421875 25.265625 0.953125 \nQ 20.953125 3.328125 18.109375 8.203125 \nL 18.109375 0 \nL 9.078125 0 \nL 9.078125 75.984375 \nL 18.109375 75.984375 \nz\n\" id=\"DejaVuSans-98\"/>\n      <path d=\"M 32.171875 -5.078125 \nQ 28.375 -14.84375 24.75 -17.8125 \nQ 21.140625 -20.796875 15.09375 -20.796875 \nL 7.90625 -20.796875 \nL 7.90625 -13.28125 \nL 13.1875 -13.28125 \nQ 16.890625 -13.28125 18.9375 -11.515625 \nQ 21 -9.765625 23.484375 -3.21875 \nL 25.09375 0.875 \nL 2.984375 54.6875 \nL 12.5 54.6875 \nL 29.59375 11.921875 \nL 46.6875 54.6875 \nL 56.203125 54.6875 \nz\n\" id=\"DejaVuSans-121\"/>\n     </defs>\n     <use xlink:href=\"#DejaVuSans-80\"/>\n     <use x=\"58.552734\" xlink:href=\"#DejaVuSans-114\"/>\n     <use x=\"97.416016\" xlink:href=\"#DejaVuSans-111\"/>\n     <use x=\"158.597656\" xlink:href=\"#DejaVuSans-98\"/>\n     <use x=\"222.074219\" xlink:href=\"#DejaVuSans-97\"/>\n     <use x=\"283.353516\" xlink:href=\"#DejaVuSans-98\"/>\n     <use x=\"346.830078\" xlink:href=\"#DejaVuSans-105\"/>\n     <use x=\"374.613281\" xlink:href=\"#DejaVuSans-108\"/>\n     <use x=\"402.396484\" xlink:href=\"#DejaVuSans-105\"/>\n     <use x=\"430.179688\" xlink:href=\"#DejaVuSans-116\"/>\n     <use x=\"469.388672\" xlink:href=\"#DejaVuSans-121\"/>\n     <use x=\"528.568359\" xlink:href=\"#DejaVuSans-32\"/>\n     <use x=\"560.355469\" xlink:href=\"#DejaVuSans-80\"/>\n     <use x=\"620.658203\" xlink:href=\"#DejaVuSans-108\"/>\n     <use x=\"648.441406\" xlink:href=\"#DejaVuSans-111\"/>\n     <use x=\"709.623047\" xlink:href=\"#DejaVuSans-116\"/>\n    </g>\n   </g>\n  </g>\n </g>\n <defs>\n  <clipPath id=\"p4fce9dd027\">\n   <rect height=\"217.44\" width=\"334.8\" x=\"42.620313\" y=\"22.318125\"/>\n  </clipPath>\n </defs>\n</svg>\n",
      "image/png": "[encoded data removed]"
     },
     "metadata": {
      "needs_background": "light"
     }
    }
   ],
   "source": [
    "fig = plt.figure()\n",
    "res = stats.probplot(data_residual, plot=plt)\n",
    "plt.show()"
   ]
  },
  {
   "source": [
    "qq图的分析：\n",
    "总体上可以看出，residual散点近似呈一条直线，误差分布是近似正态的。"
   ],
   "cell_type": "markdown",
   "metadata": {}
  },
  {
   "source": [
    "### 2.3.2 定量正态性检验：S-W/K-S\n",
    "小样本(小于50)时建议使用S-W(Shapiro-Wilk)检验，大样本(大于50)时,则使用K-S检验；\n",
    "S-W(Shapiro-Wilk)检验的原假设为，认为样本来自于正态分布的总体"
   ],
   "cell_type": "markdown",
   "metadata": {}
  },
  {
   "cell_type": "code",
   "execution_count": 12,
   "metadata": {},
   "outputs": [
    {
     "output_type": "stream",
     "name": "stdout",
     "text": [
      "0.96\n0.26\n\nAccept the null hypothesis.\n"
     ]
    }
   ],
   "source": [
    "# 用Shapiro-Wilk检验进行正态性检验\n",
    "SW, pVal4 = stats.shapiro(data_residual)\n",
    "print(round(SW, 2))\n",
    "print(round(pVal4, 2))\n",
    "\n",
    "if pVal4 > alpha:\n",
    "    print('\\nAccept the null hypothesis.')\n",
    "else:\n",
    "    print('\\nSince p-value > 0.05, reject the null null hypothesis')"
   ]
  },
  {
   "source": [
    "# 问题3 估计食用这 3 种巧克力 1h 后血浆的总抗氧能力均值和误差的方差.\n"
   ],
   "cell_type": "markdown",
   "metadata": {}
  },
  {
   "source": [
    "$\\sum_{i=1}^{a}\\sum_{j=1}^m(y_{ij}-\\bar{y_{..}})^2$为总偏差平方和$SS_T$\n",
    "如果$H_0$不成立，所有样本不是同分布的，属于不同总体。我们去看各组数据的方差分别是什么，并将方差加起来得到$SS_T$。"
   ],
   "cell_type": "markdown",
   "metadata": {}
  },
  {
   "source": [
    "## 总抗氧能力均值为:"
   ],
   "cell_type": "markdown",
   "metadata": {}
  },
  {
   "cell_type": "code",
   "execution_count": 13,
   "metadata": {},
   "outputs": [
    {
     "output_type": "execute_result",
     "data": {
      "text/plain": [
       "[116.05833333333334, 100.7, 100.18333333333332]"
      ]
     },
     "metadata": {},
     "execution_count": 13
    }
   ],
   "source": [
    "data_group_mean"
   ]
  },
  {
   "source": [
    "$\\sum_{i=1}^{a}\\sum_{j=1}^m(y_{ij}-\\bar{y_{i.}})^2$则为误差平方和$SS_E$"
   ],
   "cell_type": "markdown",
   "metadata": {}
  },
  {
   "cell_type": "code",
   "execution_count": 14,
   "metadata": {},
   "outputs": [
    {
     "output_type": "stream",
     "name": "stdout",
     "text": [
      "\n sse1为 344.30583333333317\n\n sse2为 344.30583333333317\n误差的方差为：10.43\n"
     ]
    }
   ],
   "source": [
    "# 计算sse法1\n",
    "sse1=0\n",
    "for group,mean in zip(data_group,data_group_mean):\n",
    "    for item in group:\n",
    "        sse1=sse1+(item-mean)**2\n",
    "print(\"\\n sse1为\",sse1)\n",
    "# 计算sse法2\n",
    "sse2=0\n",
    "for group in data_residal_bygroup:\n",
    "    for item_resi in group:\n",
    "        sse2=sse2+item_resi**2\n",
    "print(\"\\n sse2为\",sse2)\n",
    "# 计算误差的方差\n",
    "var = round(sse2 / (a * (n - 1)),2) \n",
    "print('误差的方差为：{0}'.format(var))\n"
   ]
  },
  {
   "source": [
    "由上述分析可知，3 种不同巧克力下的capacity均值的估计值分别为：116.05833333333334, 100.7, 100.18333333333332\n",
    "其方差的估计值为：10.43"
   ],
   "cell_type": "markdown",
   "metadata": {}
  },
  {
   "source": [
    "# 问题4 若Q1判断存在差异，请进行多重比较(LSD方法).\n",
    "方差分析存在显著性差异(Q1的结果)，是进行事后多重比较的前提。\n",
    "由Q1的分析可知，3 种不同巧克力下的capacity存在显著性(alpha=0.05)差异，\n",
    "即单因素方差分析的结果如果呈现出显著性，说明不同组别之间确实存在显著差异，但为了进一步确定具体有哪些组是有差异的，我们需要进行多重比较。\n",
    "\n",
    "这里采用Fisher最小显著性差异（LSD）方法，要进行$C_a^2$种比较;\n",
    "## 4.1 LSD v.s. Bonferrnoi校正\n",
    "将LSD 类比 Bonferrnoi校正方法,Bonferrnoi校正方法过于保守没有用足alpha=0.05 的这一条件。所以这里应用LSD进行多重比较。\n",
    "## LSD 多重比较：\n",
    "$ H_0: \\mu_i = \\mu_j$ v.s. $H_1: \\mu_i \\neq \\mu_j$  \n"
   ],
   "cell_type": "markdown",
   "metadata": {}
  },
  {
   "source": [
    "#LSD(least significant difference)最小显著差异\n",
    "mu_1 = np.mean(group1)\n",
    "mu_2 = np.mean(group2)\n",
    "mu_3 = np.mean(group3)\n",
    "mu = [mu_1, mu_2, mu_3]\n",
    "\n",
    "def LSD():   \n",
    "    df = a * (n-1)#自由度\n",
    "    t_value = stats.t(df).isf(alpha / 2)    \n",
    "    mse = var\n",
    "    lsd = t_value * math.sqrt(2.0 * mse / n)\n",
    "    # print(lsd)\n",
    "    return lsd\n",
    "\n",
    "for i in range(a):\n",
    "    for j in range(i + 1,a):\n",
    "        dist = round(abs(mu[i] - mu[j]), 1)\n",
    "        print('The difference between group', i + 1, 'and group', j + 1, ': ', dist)\n",
    "print('Value of LSD: ', round(LSD(),2))\n",
    "        \n",
    "cmp = 0\n",
    "for s in range(a):\n",
    "    for t in range(i + 1, a):\n",
    "        lsd = LSD()\n",
    "        dist = round(abs(mu[s] - mu[t]), 1)\n",
    "        if(dist < lsd):\n",
    "            print('No difference between group', s + 1, 'and group', t + 1, ': ')\n",
    "            cmp += 1\n",
    "if(cmp == 0):\n",
    "    print('Reject H0, and there is significant difference in the mean value of any two treatments')"
   ],
   "cell_type": "code",
   "metadata": {},
   "execution_count": 15,
   "outputs": [
    {
     "output_type": "stream",
     "name": "stdout",
     "text": [
      "The difference between group 1 and group 2 :  15.4\nThe difference between group 1 and group 3 :  15.9\nThe difference between group 2 and group 3 :  0.5\nValue of LSD:  2.68\nReject H0, and there is significant difference in the mean value of any two treatments\n"
     ]
    }
   ]
  },
  {
   "source": [
    "由LSD的临界值为2.68可以看出，巧克力种类1和巧克力种类2之间对比和巧克力种类1和巧克力种类3之间对比均大于该临界值，而巧克力种类2和巧克力种类3没有大于该临界值，所以巧克力种类1和巧克力种类2，巧克力种类1和巧克力种类3之间存在显著性差异。"
   ],
   "cell_type": "markdown",
   "metadata": {}
  }
 ]
}