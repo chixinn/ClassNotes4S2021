{
 "metadata": {
  "language_info": {
   "codemirror_mode": {
    "name": "ipython",
    "version": 3
   },
   "file_extension": ".py",
   "mimetype": "text/x-python",
   "name": "python",
   "nbconvert_exporter": "python",
   "pygments_lexer": "ipython3",
   "version": "3.8.6-final"
  },
  "orig_nbformat": 2,
  "kernelspec": {
   "name": "python386jvsc74a57bd00adcc2737ebf6a4a119f135174df96668767fca1ef1112612db5ecadf2b6d608",
   "display_name": "Python 3.8.6 64-bit"
  },
  "metadata": {
   "interpreter": {
    "hash": "0adcc2737ebf6a4a119f135174df96668767fca1ef1112612db5ecadf2b6d608"
   }
  }
 },
 "nbformat": 4,
 "nbformat_minor": 2,
 "cells": [
  {
   "cell_type": "code",
   "execution_count": 1,
   "metadata": {},
   "outputs": [],
   "source": [
    "import numpy as np\n",
    "from numpy import *\n",
    "n=300\n",
    "sample_size=n\n",
    "p=20\n",
    "p1=10\n",
    "k=10 # 这里k是变化的\n",
    "M=5000\n",
    "sigma_x=0.2\n",
    "sigma_y=3\n",
    "# 给定x0\n",
    "Ex_0=np.array([1,0.05,0.05,0.05,0.05,0.05,0.05,0.05,0.05,0.05,0.05,0.05,0.05,0.05,0.05,0.05,0.05,0.05,0.05,0.05,0.05])"
   ]
  },
  {
   "cell_type": "code",
   "execution_count": 2,
   "metadata": {},
   "outputs": [],
   "source": [
    "import numpy as np\n",
    "from numpy import *\n",
    "def get_X(p,sample_size):\n",
    "    X=[]\n",
    "    for i in range(sample_size):\n",
    "        x=np.random.randn(p)\n",
    "        x=np.random.normal(0,0.2,p) # sigma_x = 0.2\n",
    "        x=list(x)\n",
    "        x.append(1)\n",
    "        X.append(x)\n",
    "    return np.array(X)\n"
   ]
  },
  {
   "cell_type": "code",
   "execution_count": 3,
   "metadata": {},
   "outputs": [
    {
     "output_type": "stream",
     "name": "stdout",
     "text": [
      "(300, 21)\n"
     ]
    }
   ],
   "source": [
    "X_train = []\n",
    "#     X_train.append(np.ones(N))\n",
    "for i in range(n):\n",
    "    x_train=[]\n",
    "    x_train.append(1)\n",
    "    w = np.random.normal(0, sigma_x, p)\n",
    "    for j in range(p):\n",
    "        x_train.append(w[j])\n",
    "    X_train.append(x_train)\n",
    "X_train = np.array(X_train)\n",
    "#     X_train = X_train.T\n",
    "print(X_train.shape)"
   ]
  },
  {
   "cell_type": "code",
   "execution_count": 4,
   "metadata": {},
   "outputs": [
    {
     "output_type": "stream",
     "name": "stdout",
     "text": [
      "(21,)\n"
     ]
    }
   ],
   "source": [
    "def get_beta(p,p1):\n",
    "    beta=[]\n",
    "    for i in range(p+1):\n",
    "        if i<p1+1:\n",
    "            beta.append(1)\n",
    "        else:\n",
    "            beta.append(0)\n",
    "    return np.transpose(beta)\n",
    "beta=get_beta(p,p1)\n",
    "print(beta.shape)"
   ]
  },
  {
   "cell_type": "code",
   "execution_count": null,
   "metadata": {},
   "outputs": [],
   "source": [
    "def get_Y()"
   ]
  },
  {
   "cell_type": "code",
   "execution_count": 5,
   "metadata": {},
   "outputs": [
    {
     "output_type": "execute_result",
     "data": {
      "text/plain": [
       "(21,)"
      ]
     },
     "metadata": {},
     "execution_count": 5
    }
   ],
   "source": [
    "beta = np.concatenate((np.ones(1+p1),np.zeros(p-p1)))\n",
    "beta.shape"
   ]
  },
  {
   "cell_type": "code",
   "execution_count": 6,
   "metadata": {},
   "outputs": [
    {
     "output_type": "error",
     "ename": "NameError",
     "evalue": "name 'Y_train' is not defined",
     "traceback": [
      "\u001b[0;31m---------------------------------------------------------------------------\u001b[0m",
      "\u001b[0;31mNameError\u001b[0m                                 Traceback (most recent call last)",
      "\u001b[0;32m<ipython-input-6-065d99b1baac>\u001b[0m in \u001b[0;36m<module>\u001b[0;34m\u001b[0m\n\u001b[1;32m      7\u001b[0m     \u001b[0mbeta_hat\u001b[0m \u001b[0;34m=\u001b[0m \u001b[0mnp\u001b[0m\u001b[0;34m.\u001b[0m\u001b[0marray\u001b[0m\u001b[0;34m(\u001b[0m\u001b[0mbeta_hat\u001b[0m\u001b[0;34m)\u001b[0m\u001b[0;34m\u001b[0m\u001b[0;34m\u001b[0m\u001b[0m\n\u001b[1;32m      8\u001b[0m     \u001b[0;32mreturn\u001b[0m \u001b[0mbeta_hat\u001b[0m\u001b[0;34m\u001b[0m\u001b[0;34m\u001b[0m\u001b[0m\n\u001b[0;32m----> 9\u001b[0;31m \u001b[0mbeta_hat\u001b[0m\u001b[0;34m=\u001b[0m\u001b[0mget_beta_hat\u001b[0m\u001b[0;34m(\u001b[0m\u001b[0mn\u001b[0m\u001b[0;34m,\u001b[0m\u001b[0mX_train\u001b[0m\u001b[0;34m,\u001b[0m\u001b[0mY_train\u001b[0m\u001b[0;34m)\u001b[0m\u001b[0;34m\u001b[0m\u001b[0;34m\u001b[0m\u001b[0m\n\u001b[0m\u001b[1;32m     10\u001b[0m \u001b[0mbeta_hat\u001b[0m\u001b[0;34m.\u001b[0m\u001b[0mshape\u001b[0m\u001b[0;34m\u001b[0m\u001b[0;34m\u001b[0m\u001b[0m\n",
      "\u001b[0;31mNameError\u001b[0m: name 'Y_train' is not defined"
     ]
    }
   ],
   "source": [
    "def get_beta_hat(n,X_train,Y_train):\n",
    "    ipson = np.random.normal(0, 3, n)\n",
    "    Xt_X = np.dot(X_train.T,X_train)\n",
    "    H = np.dot(mat(Xt_X).I,X_train.T)\n",
    "    Y_train = np.dot(X_train,beta)+ipson\n",
    "    beta_hat = np.dot(H, Y_train)\n",
    "    beta_hat = np.array(beta_hat)\n",
    "    return beta_hat\n",
    "beta_hat=get_beta_hat(n,X_train,Y_train)\n",
    "beta_hat.shape"
   ]
  },
  {
   "cell_type": "code",
   "execution_count": 10,
   "metadata": {},
   "outputs": [],
   "source": [
    "def get_y0_hat(beta_hat):\n",
    "    y0_hat_k = []\n",
    "    for k in range(1,22):\n",
    "        beta_k = []\n",
    "        Ex_p1=[]\n",
    "        for i in range(k):\n",
    "            Ex_p1.append(Ex_0[i])\n",
    "            beta_k.append(beta_hat[0][i])\n",
    "        for j in range(21-len(beta_k)):\n",
    "            beta_k.append(0)\n",
    "            Ex_p1.append(0)\n",
    "        Ex_p1=np.array(Ex_p1)\n",
    "#        print(Ex_p1)\n",
    "#        beta_k = np.array(beta_k)\n",
    "        y0_hat = np.dot(Ex_p1.T,beta_k)\n",
    "        print(y0_hat)\n",
    "        y0_hat_k.append(y0_hat)"
   ]
  },
  {
   "cell_type": "code",
   "execution_count": null,
   "metadata": {},
   "outputs": [],
   "source": []
  }
 ]
}