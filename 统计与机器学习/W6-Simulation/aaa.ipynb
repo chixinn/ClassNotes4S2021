{
 "metadata": {
  "language_info": {
   "codemirror_mode": {
    "name": "ipython",
    "version": 3
   },
   "file_extension": ".py",
   "mimetype": "text/x-python",
   "name": "python",
   "nbconvert_exporter": "python",
   "pygments_lexer": "ipython3",
   "version": "3.8.6-final"
  },
  "orig_nbformat": 2,
  "kernelspec": {
   "name": "python386jvsc74a57bd00adcc2737ebf6a4a119f135174df96668767fca1ef1112612db5ecadf2b6d608",
   "display_name": "Python 3.8.6 64-bit"
  },
  "metadata": {
   "interpreter": {
    "hash": "0adcc2737ebf6a4a119f135174df96668767fca1ef1112612db5ecadf2b6d608"
   }
  }
 },
 "nbformat": 4,
 "nbformat_minor": 2,
 "cells": [
  {
   "cell_type": "code",
   "execution_count": 1,
   "metadata": {},
   "outputs": [],
   "source": [
    "import numpy as np\n",
    "n=300\n",
    "sample_size=n\n",
    "p=20\n",
    "p1=10\n",
    "k=10 # 这里k是变化的\n",
    "M=5000\n",
    "# 给定x0\n",
    "x0=np.array([1,0.05,0.05,0.05,0.05,0.05,0.05,0.05,0.05,0.05,0.05,0.05,0.05,0.05,0.05,0.05,0.05,0.05,0.05,0.05,0.05])\n",
    "sigma_x=0.2"
   ]
  },
  {
   "cell_type": "code",
   "execution_count": 2,
   "metadata": {},
   "outputs": [],
   "source": [
    "# 构造 n*(p+1)维自变量矩阵\n",
    "import numpy as np\n",
    "def get_X(p,sample_size):\n",
    "    X_train = []\n",
    "    for i in range(sample_size):\n",
    "        x_train=[]\n",
    "        x_train.append(1)\n",
    "        w = np.random.normal(0, sigma_x, p)\n",
    "        for j in range(p):\n",
    "            x_train.append(w[j])\n",
    "        X_train.append(x_train)\n",
    "    X_train = np.array(X_train)\n",
    "    return X_train"
   ]
  },
  {
   "cell_type": "code",
   "execution_count": 3,
   "metadata": {},
   "outputs": [
    {
     "output_type": "execute_result",
     "data": {
      "text/plain": [
       "(300, 21)"
      ]
     },
     "metadata": {},
     "execution_count": 3
    }
   ],
   "source": [
    "X=get_X(p,sample_size)\n",
    "X.shape"
   ]
  },
  {
   "cell_type": "code",
   "execution_count": 4,
   "metadata": {},
   "outputs": [],
   "source": [
    "def get_beta(p,p1):\n",
    "    beta=[]\n",
    "    for i in range(p+1):\n",
    "        if i<p1+1:\n",
    "            beta.append(1)\n",
    "        else:\n",
    "            beta.append(0)\n",
    "    return np.transpose(beta)"
   ]
  },
  {
   "cell_type": "code",
   "execution_count": 5,
   "metadata": {},
   "outputs": [],
   "source": [
    "# sigma_y=3\n",
    "def get_y_vector(X,beta,sample_size):\n",
    "    y_vector=np.dot(X,beta)+np.random.normal(0,3,sample_size)\n",
    "    return y_vector\n",
    "# y_vector=get_y_vector(X,beta,sample_size)\n",
    "# print(y_vector.shape) #n维的向量"
   ]
  },
  {
   "cell_type": "code",
   "execution_count": 6,
   "metadata": {},
   "outputs": [],
   "source": [
    "#求最小二乘估计\n",
    "def get_beta_hat_k(k,y_vector,X,p):\n",
    "    X_k=X[:,:k]\n",
    "    X_k_trans=np.transpose(X_k)\n",
    "    tmpdot=np.dot(X_k_trans,X_k)\n",
    "    tmpinverse=np.linalg.inv(tmpdot)\n",
    "    tmpdot_=np.dot(tmpinverse,X_k_trans)\n",
    "    beta_hat_k=np.dot(tmpdot_,y_vector)\n",
    "    beta_hat_k_vector=[]\n",
    "    for i in range(p+1):\n",
    "        if i < len(beta_hat_k):\n",
    "            beta_hat_k_vector.append(beta_hat_k[i])\n",
    "        else:\n",
    "            beta_hat_k_vector.append(0)\n",
    "    return np.array(beta_hat_k_vector)"
   ]
  },
  {
   "cell_type": "code",
   "execution_count": 7,
   "metadata": {},
   "outputs": [],
   "source": [
    "def get_expect_y0(x0,beta):\n",
    "    y0=np.dot(x0,beta)\n",
    "    return y0\n",
    "def get_y0_hat_k(k,beta_hat_k,x0):\n",
    "    y0_hat=np.dot(x0,beta_hat_k)\n",
    "    return y0_hat"
   ]
  },
  {
   "cell_type": "code",
   "execution_count": 8,
   "metadata": {},
   "outputs": [],
   "source": [
    "def one_iter(p,sample_size,k,x0):\n",
    "    #第一步得到训练集X\n",
    "    X=get_X(p,sample_size)\n",
    "    #得到天眼：beta\n",
    "    beta=get_beta(p,p1)\n",
    "    beta=np.array(beta)\n",
    "    # 由天眼构造y\n",
    "    y_vector=get_y_vector(X,beta,sample_size)\n",
    "    # 给定x0求y0的期望\n",
    "    y0=get_expect_y0(x0,beta)\n",
    "    # 求最小二乘估计\n",
    "    beta_hat_k=get_beta_hat_k(k,y_vector,X,p)\n",
    "    # 得到x0的预测值\n",
    "    y0_hat=get_y0_hat_k(k,beta_hat_k,x0)\n",
    "    return y0_hat,y0\n"
   ]
  },
  {
   "cell_type": "code",
   "execution_count": 9,
   "metadata": {},
   "outputs": [],
   "source": [
    "def M_iter(p,sample_size,k,x0):\n",
    "    y0_hat_list=[]\n",
    "    for i in range(M):\n",
    "        y0_hat,y0=one_iter(p,sample_size,k,x0)\n",
    "        y0_hat_list.append(y0_hat)\n",
    "    return y0_hat_list,y0"
   ]
  },
  {
   "cell_type": "code",
   "execution_count": 10,
   "metadata": {},
   "outputs": [],
   "source": [
    "def get_bias(y0_hat_list,y0):\n",
    "    y0_hat_list_mean=np.mean(y0_hat_list)\n",
    "    bias=(y0_hat_list_mean-y0)**2\n",
    "    return bias"
   ]
  },
  {
   "cell_type": "code",
   "execution_count": 11,
   "metadata": {},
   "outputs": [],
   "source": [
    "def get_var(y0_hat_list):\n",
    "    var=0\n",
    "    y0_hat_list_mean=np.mean(y0_hat_list)\n",
    "    for y in y0_hat_list:\n",
    "        var=var+(y0_hat_list_mean)**2\n",
    "    return var/len(y0_hat_list)"
   ]
  },
  {
   "cell_type": "code",
   "execution_count": 12,
   "metadata": {},
   "outputs": [],
   "source": [
    "def get_mse(y0_hat_list,y0):\n",
    "    mse=0\n",
    "    for i in y0_hat_list:\n",
    "        mse=mse+(i-y0)**2\n",
    "    mse=mse/len(y0_hat_list)\n",
    "    return mse"
   ]
  },
  {
   "cell_type": "code",
   "execution_count": 13,
   "metadata": {},
   "outputs": [],
   "source": [
    "y0_hat_list,y0=M_iter(p,sample_size,p1,x0)"
   ]
  },
  {
   "cell_type": "code",
   "execution_count": 14,
   "metadata": {},
   "outputs": [
    {
     "output_type": "stream",
     "name": "stdout",
     "text": [
      "5000\n1.5000000000000002\n"
     ]
    }
   ],
   "source": [
    "print(len(y0_hat_list))\n",
    "print(y0)"
   ]
  },
  {
   "cell_type": "code",
   "execution_count": 15,
   "metadata": {},
   "outputs": [],
   "source": [
    "bias=get_bias(y0_hat_list,y0)\n",
    "var=get_var(y0_hat_list)\n",
    "mse=get_mse(y0_hat_list,y0)"
   ]
  },
  {
   "cell_type": "code",
   "execution_count": 16,
   "metadata": {},
   "outputs": [
    {
     "output_type": "stream",
     "name": "stdout",
     "text": [
      "0.0023884000971169436\n2.105774618773254\n0.05117232615139224\n"
     ]
    }
   ],
   "source": [
    "print(bias)\n",
    "print(var)\n",
    "print(mse)"
   ]
  },
  {
   "cell_type": "code",
   "execution_count": 17,
   "metadata": {},
   "outputs": [
    {
     "output_type": "stream",
     "name": "stdout",
     "text": [
      "k =  1\n",
      "k =  2\n",
      "k =  3\n",
      "k =  4\n",
      "k =  5\n",
      "k =  6\n",
      "k =  7\n",
      "k =  8\n",
      "k =  9\n",
      "k =  10\n",
      "k =  11\n",
      "k =  12\n",
      "k =  13\n",
      "k =  14\n",
      "k =  15\n",
      "k =  16\n",
      "k =  17\n",
      "k =  18\n",
      "k =  19\n",
      "k =  20\n"
     ]
    }
   ],
   "source": [
    "bias_list=[]\n",
    "var_list=[]\n",
    "mse_list=[]\n",
    "for k in range(1,21):\n",
    "    print(\"k = \",k)\n",
    "    y0_hat_list,y0=M_iter(p,sample_size,k,x0)\n",
    "    bias=get_bias(y0_hat_list,y0)\n",
    "    var=get_var(y0_hat_list)\n",
    "    mse=get_mse(y0_hat_list,y0)\n",
    "    bias_list.append(bias)\n",
    "    var_list.append(var)\n",
    "    mse_list.append(mse)"
   ]
  },
  {
   "cell_type": "code",
   "execution_count": 18,
   "metadata": {},
   "outputs": [
    {
     "output_type": "execute_result",
     "data": {
      "text/plain": [
       "[0.2535135651042905,\n",
       " 0.2018710093289993,\n",
       " 0.15878020569964385,\n",
       " 0.12102432654737015,\n",
       " 0.09283014006975308,\n",
       " 0.06328591637140406,\n",
       " 0.037992991861702005,\n",
       " 0.022771908108022428,\n",
       " 0.010405703775212523,\n",
       " 0.0024133937093870324,\n",
       " 7.756453483111648e-06,\n",
       " 0.00011807050821370757,\n",
       " 6.610937360255978e-06,\n",
       " 9.099350630131256e-07,\n",
       " 1.1231303433160939e-07,\n",
       " 2.787392584768224e-06,\n",
       " 8.07737785862764e-06,\n",
       " 3.2449697988565762e-06,\n",
       " 1.9747428552726528e-08,\n",
       " 5.198003158558041e-06]"
      ]
     },
     "metadata": {},
     "execution_count": 18
    }
   ],
   "source": [
    "bias_list"
   ]
  },
  {
   "cell_type": "code",
   "execution_count": 19,
   "metadata": {},
   "outputs": [
    {
     "output_type": "execute_result",
     "data": {
      "text/plain": [
       "[0.9930096472216986,\n",
       " 1.1039692755365718,\n",
       " 1.2133631858706062,\n",
       " 1.3273678031037146,\n",
       " 1.428788969975308,\n",
       " 1.558585149615103,\n",
       " 1.7032392601459811,\n",
       " 1.8200609926528284,\n",
       " 1.9543806492831226,\n",
       " 2.1050344827874063,\n",
       " 2.2583628795134087,\n",
       " 2.2175199942776502,\n",
       " 2.257720133883845,\n",
       " 2.2471391944413375,\n",
       " 2.251005506419429,\n",
       " 2.2449941415414854,\n",
       " 2.258534295808338,\n",
       " 2.244599105057703,\n",
       " 2.250421596379932,\n",
       " 2.256844936918493]"
      ]
     },
     "metadata": {},
     "execution_count": 19
    }
   ],
   "source": [
    "var_list"
   ]
  },
  {
   "cell_type": "code",
   "execution_count": 20,
   "metadata": {},
   "outputs": [
    {
     "output_type": "execute_result",
     "data": {
      "text/plain": [
       "array([ 1.,  2.,  3.,  4.,  5.,  6.,  7.,  8.,  9., 10., 11., 12., 13.,\n",
       "       14., 15., 16., 17., 18., 19., 20.])"
      ]
     },
     "metadata": {},
     "execution_count": 20
    }
   ],
   "source": [
    "p=np.linspace(1,20,20)\n",
    "p"
   ]
  },
  {
   "cell_type": "code",
   "execution_count": null,
   "metadata": {},
   "outputs": [],
   "source": []
  },
  {
   "cell_type": "code",
   "execution_count": 21,
   "metadata": {},
   "outputs": [
    {
     "output_type": "execute_result",
     "data": {
      "text/plain": [
       "Text(10, 0.05069649409256863, '[10,0.0507]')"
      ]
     },
     "metadata": {},
     "execution_count": 21
    },
    {
     "output_type": "display_data",
     "data": {
      "text/plain": "<Figure size 432x288 with 1 Axes>",
      "image/svg+xml": "<?xml version=\"1.0\" encoding=\"utf-8\" standalone=\"no\"?>\n<!DOCTYPE svg PUBLIC \"-//W3C//DTD SVG 1.1//EN\"\n  \"http://www.w3.org/Graphics/SVG/1.1/DTD/svg11.dtd\">\n<!-- Created with matplotlib (https://matplotlib.org/) -->\n<svg height=\"248.518125pt\" version=\"1.1\" viewBox=\"0 0 372.103125 248.518125\" width=\"372.103125pt\" xmlns=\"http://www.w3.org/2000/svg\" xmlns:xlink=\"http://www.w3.org/1999/xlink\">\n <metadata>\n  <rdf:RDF xmlns:cc=\"http://creativecommons.org/ns#\" xmlns:dc=\"http://purl.org/dc/elements/1.1/\" xmlns:rdf=\"http://www.w3.org/1999/02/22-rdf-syntax-ns#\">\n   <cc:Work>\n    <dc:type rdf:resource=\"http://purl.org/dc/dcmitype/StillImage\"/>\n    <dc:date>2021-04-08T22:49:03.277212</dc:date>\n    <dc:format>image/svg+xml</dc:format>\n    <dc:creator>\n     <cc:Agent>\n      <dc:title>Matplotlib v3.3.2, https://matplotlib.org/</dc:title>\n     </cc:Agent>\n    </dc:creator>\n   </cc:Work>\n  </rdf:RDF>\n </metadata>\n <defs>\n  <style type=\"text/css\">*{stroke-linecap:butt;stroke-linejoin:round;}</style>\n </defs>\n <g id=\"figure_1\">\n  <g id=\"patch_1\">\n   <path d=\"M 0 248.518125 \nL 372.103125 248.518125 \nL 372.103125 0 \nL 0 0 \nz\n\" style=\"fill:none;\"/>\n  </g>\n  <g id=\"axes_1\">\n   <g id=\"patch_2\">\n    <path d=\"M 30.103125 224.64 \nL 364.903125 224.64 \nL 364.903125 7.2 \nL 30.103125 7.2 \nz\n\" style=\"fill:#ffffff;\"/>\n   </g>\n   <g id=\"matplotlib.axis_1\">\n    <g id=\"xtick_1\">\n     <g id=\"line2d_1\">\n      <defs>\n       <path d=\"M 0 0 \nL 0 3.5 \n\" id=\"m1054f97119\" style=\"stroke:#000000;stroke-width:0.8;\"/>\n      </defs>\n      <g>\n       <use style=\"stroke:#000000;stroke-width:0.8;\" x=\"69.350015\" xlink:href=\"#m1054f97119\" y=\"224.64\"/>\n      </g>\n     </g>\n     <g id=\"text_1\">\n      <!-- 2.5 -->\n      <g transform=\"translate(61.398452 239.238437)scale(0.1 -0.1)\">\n       <defs>\n        <path d=\"M 19.1875 8.296875 \nL 53.609375 8.296875 \nL 53.609375 0 \nL 7.328125 0 \nL 7.328125 8.296875 \nQ 12.9375 14.109375 22.625 23.890625 \nQ 32.328125 33.6875 34.8125 36.53125 \nQ 39.546875 41.84375 41.421875 45.53125 \nQ 43.3125 49.21875 43.3125 52.78125 \nQ 43.3125 58.59375 39.234375 62.25 \nQ 35.15625 65.921875 28.609375 65.921875 \nQ 23.96875 65.921875 18.8125 64.3125 \nQ 13.671875 62.703125 7.8125 59.421875 \nL 7.8125 69.390625 \nQ 13.765625 71.78125 18.9375 73 \nQ 24.125 74.21875 28.421875 74.21875 \nQ 39.75 74.21875 46.484375 68.546875 \nQ 53.21875 62.890625 53.21875 53.421875 \nQ 53.21875 48.921875 51.53125 44.890625 \nQ 49.859375 40.875 45.40625 35.40625 \nQ 44.1875 33.984375 37.640625 27.21875 \nQ 31.109375 20.453125 19.1875 8.296875 \nz\n\" id=\"DejaVuSans-50\"/>\n        <path d=\"M 10.6875 12.40625 \nL 21 12.40625 \nL 21 0 \nL 10.6875 0 \nz\n\" id=\"DejaVuSans-46\"/>\n        <path d=\"M 10.796875 72.90625 \nL 49.515625 72.90625 \nL 49.515625 64.59375 \nL 19.828125 64.59375 \nL 19.828125 46.734375 \nQ 21.96875 47.46875 24.109375 47.828125 \nQ 26.265625 48.1875 28.421875 48.1875 \nQ 40.625 48.1875 47.75 41.5 \nQ 54.890625 34.8125 54.890625 23.390625 \nQ 54.890625 11.625 47.5625 5.09375 \nQ 40.234375 -1.421875 26.90625 -1.421875 \nQ 22.3125 -1.421875 17.546875 -0.640625 \nQ 12.796875 0.140625 7.71875 1.703125 \nL 7.71875 11.625 \nQ 12.109375 9.234375 16.796875 8.0625 \nQ 21.484375 6.890625 26.703125 6.890625 \nQ 35.15625 6.890625 40.078125 11.328125 \nQ 45.015625 15.765625 45.015625 23.390625 \nQ 45.015625 31 40.078125 35.4375 \nQ 35.15625 39.890625 26.703125 39.890625 \nQ 22.75 39.890625 18.8125 39.015625 \nQ 14.890625 38.140625 10.796875 36.28125 \nz\n\" id=\"DejaVuSans-53\"/>\n       </defs>\n       <use xlink:href=\"#DejaVuSans-50\"/>\n       <use x=\"63.623047\" xlink:href=\"#DejaVuSans-46\"/>\n       <use x=\"95.410156\" xlink:href=\"#DejaVuSans-53\"/>\n      </g>\n     </g>\n    </g>\n    <g id=\"xtick_2\">\n     <g id=\"line2d_2\">\n      <g>\n       <use style=\"stroke:#000000;stroke-width:0.8;\" x=\"109.397862\" xlink:href=\"#m1054f97119\" y=\"224.64\"/>\n      </g>\n     </g>\n     <g id=\"text_2\">\n      <!-- 5.0 -->\n      <g transform=\"translate(101.446299 239.238437)scale(0.1 -0.1)\">\n       <defs>\n        <path d=\"M 31.78125 66.40625 \nQ 24.171875 66.40625 20.328125 58.90625 \nQ 16.5 51.421875 16.5 36.375 \nQ 16.5 21.390625 20.328125 13.890625 \nQ 24.171875 6.390625 31.78125 6.390625 \nQ 39.453125 6.390625 43.28125 13.890625 \nQ 47.125 21.390625 47.125 36.375 \nQ 47.125 51.421875 43.28125 58.90625 \nQ 39.453125 66.40625 31.78125 66.40625 \nz\nM 31.78125 74.21875 \nQ 44.046875 74.21875 50.515625 64.515625 \nQ 56.984375 54.828125 56.984375 36.375 \nQ 56.984375 17.96875 50.515625 8.265625 \nQ 44.046875 -1.421875 31.78125 -1.421875 \nQ 19.53125 -1.421875 13.0625 8.265625 \nQ 6.59375 17.96875 6.59375 36.375 \nQ 6.59375 54.828125 13.0625 64.515625 \nQ 19.53125 74.21875 31.78125 74.21875 \nz\n\" id=\"DejaVuSans-48\"/>\n       </defs>\n       <use xlink:href=\"#DejaVuSans-53\"/>\n       <use x=\"63.623047\" xlink:href=\"#DejaVuSans-46\"/>\n       <use x=\"95.410156\" xlink:href=\"#DejaVuSans-48\"/>\n      </g>\n     </g>\n    </g>\n    <g id=\"xtick_3\">\n     <g id=\"line2d_3\">\n      <g>\n       <use style=\"stroke:#000000;stroke-width:0.8;\" x=\"149.445709\" xlink:href=\"#m1054f97119\" y=\"224.64\"/>\n      </g>\n     </g>\n     <g id=\"text_3\">\n      <!-- 7.5 -->\n      <g transform=\"translate(141.494146 239.238437)scale(0.1 -0.1)\">\n       <defs>\n        <path d=\"M 8.203125 72.90625 \nL 55.078125 72.90625 \nL 55.078125 68.703125 \nL 28.609375 0 \nL 18.3125 0 \nL 43.21875 64.59375 \nL 8.203125 64.59375 \nz\n\" id=\"DejaVuSans-55\"/>\n       </defs>\n       <use xlink:href=\"#DejaVuSans-55\"/>\n       <use x=\"63.623047\" xlink:href=\"#DejaVuSans-46\"/>\n       <use x=\"95.410156\" xlink:href=\"#DejaVuSans-53\"/>\n      </g>\n     </g>\n    </g>\n    <g id=\"xtick_4\">\n     <g id=\"line2d_4\">\n      <g>\n       <use style=\"stroke:#000000;stroke-width:0.8;\" x=\"189.493556\" xlink:href=\"#m1054f97119\" y=\"224.64\"/>\n      </g>\n     </g>\n     <g id=\"text_4\">\n      <!-- 10.0 -->\n      <g transform=\"translate(178.360743 239.238437)scale(0.1 -0.1)\">\n       <defs>\n        <path d=\"M 12.40625 8.296875 \nL 28.515625 8.296875 \nL 28.515625 63.921875 \nL 10.984375 60.40625 \nL 10.984375 69.390625 \nL 28.421875 72.90625 \nL 38.28125 72.90625 \nL 38.28125 8.296875 \nL 54.390625 8.296875 \nL 54.390625 0 \nL 12.40625 0 \nz\n\" id=\"DejaVuSans-49\"/>\n       </defs>\n       <use xlink:href=\"#DejaVuSans-49\"/>\n       <use x=\"63.623047\" xlink:href=\"#DejaVuSans-48\"/>\n       <use x=\"127.246094\" xlink:href=\"#DejaVuSans-46\"/>\n       <use x=\"159.033203\" xlink:href=\"#DejaVuSans-48\"/>\n      </g>\n     </g>\n    </g>\n    <g id=\"xtick_5\">\n     <g id=\"line2d_5\">\n      <g>\n       <use style=\"stroke:#000000;stroke-width:0.8;\" x=\"229.541403\" xlink:href=\"#m1054f97119\" y=\"224.64\"/>\n      </g>\n     </g>\n     <g id=\"text_5\">\n      <!-- 12.5 -->\n      <g transform=\"translate(218.40859 239.238437)scale(0.1 -0.1)\">\n       <use xlink:href=\"#DejaVuSans-49\"/>\n       <use x=\"63.623047\" xlink:href=\"#DejaVuSans-50\"/>\n       <use x=\"127.246094\" xlink:href=\"#DejaVuSans-46\"/>\n       <use x=\"159.033203\" xlink:href=\"#DejaVuSans-53\"/>\n      </g>\n     </g>\n    </g>\n    <g id=\"xtick_6\">\n     <g id=\"line2d_6\">\n      <g>\n       <use style=\"stroke:#000000;stroke-width:0.8;\" x=\"269.589249\" xlink:href=\"#m1054f97119\" y=\"224.64\"/>\n      </g>\n     </g>\n     <g id=\"text_6\">\n      <!-- 15.0 -->\n      <g transform=\"translate(258.456437 239.238437)scale(0.1 -0.1)\">\n       <use xlink:href=\"#DejaVuSans-49\"/>\n       <use x=\"63.623047\" xlink:href=\"#DejaVuSans-53\"/>\n       <use x=\"127.246094\" xlink:href=\"#DejaVuSans-46\"/>\n       <use x=\"159.033203\" xlink:href=\"#DejaVuSans-48\"/>\n      </g>\n     </g>\n    </g>\n    <g id=\"xtick_7\">\n     <g id=\"line2d_7\">\n      <g>\n       <use style=\"stroke:#000000;stroke-width:0.8;\" x=\"309.637096\" xlink:href=\"#m1054f97119\" y=\"224.64\"/>\n      </g>\n     </g>\n     <g id=\"text_7\">\n      <!-- 17.5 -->\n      <g transform=\"translate(298.504284 239.238437)scale(0.1 -0.1)\">\n       <use xlink:href=\"#DejaVuSans-49\"/>\n       <use x=\"63.623047\" xlink:href=\"#DejaVuSans-55\"/>\n       <use x=\"127.246094\" xlink:href=\"#DejaVuSans-46\"/>\n       <use x=\"159.033203\" xlink:href=\"#DejaVuSans-53\"/>\n      </g>\n     </g>\n    </g>\n    <g id=\"xtick_8\">\n     <g id=\"line2d_8\">\n      <g>\n       <use style=\"stroke:#000000;stroke-width:0.8;\" x=\"349.684943\" xlink:href=\"#m1054f97119\" y=\"224.64\"/>\n      </g>\n     </g>\n     <g id=\"text_8\">\n      <!-- 20.0 -->\n      <g transform=\"translate(338.552131 239.238437)scale(0.1 -0.1)\">\n       <use xlink:href=\"#DejaVuSans-50\"/>\n       <use x=\"63.623047\" xlink:href=\"#DejaVuSans-48\"/>\n       <use x=\"127.246094\" xlink:href=\"#DejaVuSans-46\"/>\n       <use x=\"159.033203\" xlink:href=\"#DejaVuSans-48\"/>\n      </g>\n     </g>\n    </g>\n   </g>\n   <g id=\"matplotlib.axis_2\">\n    <g id=\"ytick_1\">\n     <g id=\"line2d_9\">\n      <defs>\n       <path d=\"M 0 0 \nL -3.5 0 \n\" id=\"m4730ac9512\" style=\"stroke:#000000;stroke-width:0.8;\"/>\n      </defs>\n      <g>\n       <use style=\"stroke:#000000;stroke-width:0.8;\" x=\"30.103125\" xlink:href=\"#m4730ac9512\" y=\"214.756365\"/>\n      </g>\n     </g>\n     <g id=\"text_9\">\n      <!-- 0.0 -->\n      <g transform=\"translate(7.2 218.555584)scale(0.1 -0.1)\">\n       <use xlink:href=\"#DejaVuSans-48\"/>\n       <use x=\"63.623047\" xlink:href=\"#DejaVuSans-46\"/>\n       <use x=\"95.410156\" xlink:href=\"#DejaVuSans-48\"/>\n      </g>\n     </g>\n    </g>\n    <g id=\"ytick_2\">\n     <g id=\"line2d_10\">\n      <g>\n       <use style=\"stroke:#000000;stroke-width:0.8;\" x=\"30.103125\" xlink:href=\"#m4730ac9512\" y=\"170.99508\"/>\n      </g>\n     </g>\n     <g id=\"text_10\">\n      <!-- 0.5 -->\n      <g transform=\"translate(7.2 174.794298)scale(0.1 -0.1)\">\n       <use xlink:href=\"#DejaVuSans-48\"/>\n       <use x=\"63.623047\" xlink:href=\"#DejaVuSans-46\"/>\n       <use x=\"95.410156\" xlink:href=\"#DejaVuSans-53\"/>\n      </g>\n     </g>\n    </g>\n    <g id=\"ytick_3\">\n     <g id=\"line2d_11\">\n      <g>\n       <use style=\"stroke:#000000;stroke-width:0.8;\" x=\"30.103125\" xlink:href=\"#m4730ac9512\" y=\"127.233794\"/>\n      </g>\n     </g>\n     <g id=\"text_11\">\n      <!-- 1.0 -->\n      <g transform=\"translate(7.2 131.033013)scale(0.1 -0.1)\">\n       <use xlink:href=\"#DejaVuSans-49\"/>\n       <use x=\"63.623047\" xlink:href=\"#DejaVuSans-46\"/>\n       <use x=\"95.410156\" xlink:href=\"#DejaVuSans-48\"/>\n      </g>\n     </g>\n    </g>\n    <g id=\"ytick_4\">\n     <g id=\"line2d_12\">\n      <g>\n       <use style=\"stroke:#000000;stroke-width:0.8;\" x=\"30.103125\" xlink:href=\"#m4730ac9512\" y=\"83.472508\"/>\n      </g>\n     </g>\n     <g id=\"text_12\">\n      <!-- 1.5 -->\n      <g transform=\"translate(7.2 87.271727)scale(0.1 -0.1)\">\n       <use xlink:href=\"#DejaVuSans-49\"/>\n       <use x=\"63.623047\" xlink:href=\"#DejaVuSans-46\"/>\n       <use x=\"95.410156\" xlink:href=\"#DejaVuSans-53\"/>\n      </g>\n     </g>\n    </g>\n    <g id=\"ytick_5\">\n     <g id=\"line2d_13\">\n      <g>\n       <use style=\"stroke:#000000;stroke-width:0.8;\" x=\"30.103125\" xlink:href=\"#m4730ac9512\" y=\"39.711223\"/>\n      </g>\n     </g>\n     <g id=\"text_13\">\n      <!-- 2.0 -->\n      <g transform=\"translate(7.2 43.510441)scale(0.1 -0.1)\">\n       <use xlink:href=\"#DejaVuSans-50\"/>\n       <use x=\"63.623047\" xlink:href=\"#DejaVuSans-46\"/>\n       <use x=\"95.410156\" xlink:href=\"#DejaVuSans-48\"/>\n      </g>\n     </g>\n    </g>\n   </g>\n   <g id=\"line2d_14\">\n    <path clip-path=\"url(#p95d92aa2ff)\" d=\"M 45.321307 192.568206 \nL 61.340446 197.088096 \nL 77.359584 200.859513 \nL 93.378723 204.164005 \nL 109.397862 206.631633 \nL 125.417001 209.217419 \nL 141.436139 211.431121 \nL 157.455278 212.763309 \nL 173.474417 213.845631 \nL 189.493556 214.545139 \nL 205.512694 214.755686 \nL 221.531833 214.746032 \nL 237.550972 214.755787 \nL 253.570111 214.756286 \nL 269.589249 214.756356 \nL 285.608388 214.756121 \nL 301.627527 214.755658 \nL 317.646666 214.756081 \nL 333.665804 214.756364 \nL 349.684943 214.75591 \n\" style=\"fill:none;stroke:#0000ff;stroke-linecap:square;stroke-opacity:0.8;\"/>\n    <defs>\n     <path d=\"M 0 3 \nC 0.795609 3 1.55874 2.683901 2.12132 2.12132 \nC 2.683901 1.55874 3 0.795609 3 0 \nC 3 -0.795609 2.683901 -1.55874 2.12132 -2.12132 \nC 1.55874 -2.683901 0.795609 -3 0 -3 \nC -0.795609 -3 -1.55874 -2.683901 -2.12132 -2.12132 \nC -2.683901 -1.55874 -3 -0.795609 -3 0 \nC -3 0.795609 -2.683901 1.55874 -2.12132 2.12132 \nC -1.55874 2.683901 -0.795609 3 0 3 \nz\n\" id=\"m615278d3aa\" style=\"stroke:#0000ff;stroke-opacity:0.8;\"/>\n    </defs>\n    <g clip-path=\"url(#p95d92aa2ff)\">\n     <use style=\"fill:#0000ff;fill-opacity:0.8;stroke:#0000ff;stroke-opacity:0.8;\" x=\"45.321307\" xlink:href=\"#m615278d3aa\" y=\"192.568206\"/>\n     <use style=\"fill:#0000ff;fill-opacity:0.8;stroke:#0000ff;stroke-opacity:0.8;\" x=\"61.340446\" xlink:href=\"#m615278d3aa\" y=\"197.088096\"/>\n     <use style=\"fill:#0000ff;fill-opacity:0.8;stroke:#0000ff;stroke-opacity:0.8;\" x=\"77.359584\" xlink:href=\"#m615278d3aa\" y=\"200.859513\"/>\n     <use style=\"fill:#0000ff;fill-opacity:0.8;stroke:#0000ff;stroke-opacity:0.8;\" x=\"93.378723\" xlink:href=\"#m615278d3aa\" y=\"204.164005\"/>\n     <use style=\"fill:#0000ff;fill-opacity:0.8;stroke:#0000ff;stroke-opacity:0.8;\" x=\"109.397862\" xlink:href=\"#m615278d3aa\" y=\"206.631633\"/>\n     <use style=\"fill:#0000ff;fill-opacity:0.8;stroke:#0000ff;stroke-opacity:0.8;\" x=\"125.417001\" xlink:href=\"#m615278d3aa\" y=\"209.217419\"/>\n     <use style=\"fill:#0000ff;fill-opacity:0.8;stroke:#0000ff;stroke-opacity:0.8;\" x=\"141.436139\" xlink:href=\"#m615278d3aa\" y=\"211.431121\"/>\n     <use style=\"fill:#0000ff;fill-opacity:0.8;stroke:#0000ff;stroke-opacity:0.8;\" x=\"157.455278\" xlink:href=\"#m615278d3aa\" y=\"212.763309\"/>\n     <use style=\"fill:#0000ff;fill-opacity:0.8;stroke:#0000ff;stroke-opacity:0.8;\" x=\"173.474417\" xlink:href=\"#m615278d3aa\" y=\"213.845631\"/>\n     <use style=\"fill:#0000ff;fill-opacity:0.8;stroke:#0000ff;stroke-opacity:0.8;\" x=\"189.493556\" xlink:href=\"#m615278d3aa\" y=\"214.545139\"/>\n     <use style=\"fill:#0000ff;fill-opacity:0.8;stroke:#0000ff;stroke-opacity:0.8;\" x=\"205.512694\" xlink:href=\"#m615278d3aa\" y=\"214.755686\"/>\n     <use style=\"fill:#0000ff;fill-opacity:0.8;stroke:#0000ff;stroke-opacity:0.8;\" x=\"221.531833\" xlink:href=\"#m615278d3aa\" y=\"214.746032\"/>\n     <use style=\"fill:#0000ff;fill-opacity:0.8;stroke:#0000ff;stroke-opacity:0.8;\" x=\"237.550972\" xlink:href=\"#m615278d3aa\" y=\"214.755787\"/>\n     <use style=\"fill:#0000ff;fill-opacity:0.8;stroke:#0000ff;stroke-opacity:0.8;\" x=\"253.570111\" xlink:href=\"#m615278d3aa\" y=\"214.756286\"/>\n     <use style=\"fill:#0000ff;fill-opacity:0.8;stroke:#0000ff;stroke-opacity:0.8;\" x=\"269.589249\" xlink:href=\"#m615278d3aa\" y=\"214.756356\"/>\n     <use style=\"fill:#0000ff;fill-opacity:0.8;stroke:#0000ff;stroke-opacity:0.8;\" x=\"285.608388\" xlink:href=\"#m615278d3aa\" y=\"214.756121\"/>\n     <use style=\"fill:#0000ff;fill-opacity:0.8;stroke:#0000ff;stroke-opacity:0.8;\" x=\"301.627527\" xlink:href=\"#m615278d3aa\" y=\"214.755658\"/>\n     <use style=\"fill:#0000ff;fill-opacity:0.8;stroke:#0000ff;stroke-opacity:0.8;\" x=\"317.646666\" xlink:href=\"#m615278d3aa\" y=\"214.756081\"/>\n     <use style=\"fill:#0000ff;fill-opacity:0.8;stroke:#0000ff;stroke-opacity:0.8;\" x=\"333.665804\" xlink:href=\"#m615278d3aa\" y=\"214.756364\"/>\n     <use style=\"fill:#0000ff;fill-opacity:0.8;stroke:#0000ff;stroke-opacity:0.8;\" x=\"349.684943\" xlink:href=\"#m615278d3aa\" y=\"214.75591\"/>\n    </g>\n   </g>\n   <g id=\"line2d_15\">\n    <path clip-path=\"url(#p95d92aa2ff)\" d=\"M 45.321307 127.845608 \nL 61.340446 118.134136 \nL 77.359584 108.559699 \nL 93.378723 98.581722 \nL 109.397862 89.705081 \nL 125.417001 78.344985 \nL 141.436139 65.684486 \nL 157.455278 55.459947 \nL 173.474417 43.703946 \nL 189.493556 30.518335 \nL 205.512694 17.098639 \nL 221.531833 20.673313 \nL 237.550972 17.154894 \nL 253.570111 18.080965 \nL 269.589249 17.742575 \nL 285.608388 18.268705 \nL 301.627527 17.083636 \nL 317.646666 18.30328 \nL 333.665804 17.793681 \nL 349.684943 17.231493 \n\" style=\"fill:none;stroke:#ff0000;stroke-linecap:square;stroke-opacity:0.8;\"/>\n    <defs>\n     <path d=\"M 0 3 \nC 0.795609 3 1.55874 2.683901 2.12132 2.12132 \nC 2.683901 1.55874 3 0.795609 3 0 \nC 3 -0.795609 2.683901 -1.55874 2.12132 -2.12132 \nC 1.55874 -2.683901 0.795609 -3 0 -3 \nC -0.795609 -3 -1.55874 -2.683901 -2.12132 -2.12132 \nC -2.683901 -1.55874 -3 -0.795609 -3 0 \nC -3 0.795609 -2.683901 1.55874 -2.12132 2.12132 \nC -1.55874 2.683901 -0.795609 3 0 3 \nz\n\" id=\"md5a3fbaf4d\" style=\"stroke:#ff0000;stroke-opacity:0.8;\"/>\n    </defs>\n    <g clip-path=\"url(#p95d92aa2ff)\">\n     <use style=\"fill:#ff0000;fill-opacity:0.8;stroke:#ff0000;stroke-opacity:0.8;\" x=\"45.321307\" xlink:href=\"#md5a3fbaf4d\" y=\"127.845608\"/>\n     <use style=\"fill:#ff0000;fill-opacity:0.8;stroke:#ff0000;stroke-opacity:0.8;\" x=\"61.340446\" xlink:href=\"#md5a3fbaf4d\" y=\"118.134136\"/>\n     <use style=\"fill:#ff0000;fill-opacity:0.8;stroke:#ff0000;stroke-opacity:0.8;\" x=\"77.359584\" xlink:href=\"#md5a3fbaf4d\" y=\"108.559699\"/>\n     <use style=\"fill:#ff0000;fill-opacity:0.8;stroke:#ff0000;stroke-opacity:0.8;\" x=\"93.378723\" xlink:href=\"#md5a3fbaf4d\" y=\"98.581722\"/>\n     <use style=\"fill:#ff0000;fill-opacity:0.8;stroke:#ff0000;stroke-opacity:0.8;\" x=\"109.397862\" xlink:href=\"#md5a3fbaf4d\" y=\"89.705081\"/>\n     <use style=\"fill:#ff0000;fill-opacity:0.8;stroke:#ff0000;stroke-opacity:0.8;\" x=\"125.417001\" xlink:href=\"#md5a3fbaf4d\" y=\"78.344985\"/>\n     <use style=\"fill:#ff0000;fill-opacity:0.8;stroke:#ff0000;stroke-opacity:0.8;\" x=\"141.436139\" xlink:href=\"#md5a3fbaf4d\" y=\"65.684486\"/>\n     <use style=\"fill:#ff0000;fill-opacity:0.8;stroke:#ff0000;stroke-opacity:0.8;\" x=\"157.455278\" xlink:href=\"#md5a3fbaf4d\" y=\"55.459947\"/>\n     <use style=\"fill:#ff0000;fill-opacity:0.8;stroke:#ff0000;stroke-opacity:0.8;\" x=\"173.474417\" xlink:href=\"#md5a3fbaf4d\" y=\"43.703946\"/>\n     <use style=\"fill:#ff0000;fill-opacity:0.8;stroke:#ff0000;stroke-opacity:0.8;\" x=\"189.493556\" xlink:href=\"#md5a3fbaf4d\" y=\"30.518335\"/>\n     <use style=\"fill:#ff0000;fill-opacity:0.8;stroke:#ff0000;stroke-opacity:0.8;\" x=\"205.512694\" xlink:href=\"#md5a3fbaf4d\" y=\"17.098639\"/>\n     <use style=\"fill:#ff0000;fill-opacity:0.8;stroke:#ff0000;stroke-opacity:0.8;\" x=\"221.531833\" xlink:href=\"#md5a3fbaf4d\" y=\"20.673313\"/>\n     <use style=\"fill:#ff0000;fill-opacity:0.8;stroke:#ff0000;stroke-opacity:0.8;\" x=\"237.550972\" xlink:href=\"#md5a3fbaf4d\" y=\"17.154894\"/>\n     <use style=\"fill:#ff0000;fill-opacity:0.8;stroke:#ff0000;stroke-opacity:0.8;\" x=\"253.570111\" xlink:href=\"#md5a3fbaf4d\" y=\"18.080965\"/>\n     <use style=\"fill:#ff0000;fill-opacity:0.8;stroke:#ff0000;stroke-opacity:0.8;\" x=\"269.589249\" xlink:href=\"#md5a3fbaf4d\" y=\"17.742575\"/>\n     <use style=\"fill:#ff0000;fill-opacity:0.8;stroke:#ff0000;stroke-opacity:0.8;\" x=\"285.608388\" xlink:href=\"#md5a3fbaf4d\" y=\"18.268705\"/>\n     <use style=\"fill:#ff0000;fill-opacity:0.8;stroke:#ff0000;stroke-opacity:0.8;\" x=\"301.627527\" xlink:href=\"#md5a3fbaf4d\" y=\"17.083636\"/>\n     <use style=\"fill:#ff0000;fill-opacity:0.8;stroke:#ff0000;stroke-opacity:0.8;\" x=\"317.646666\" xlink:href=\"#md5a3fbaf4d\" y=\"18.30328\"/>\n     <use style=\"fill:#ff0000;fill-opacity:0.8;stroke:#ff0000;stroke-opacity:0.8;\" x=\"333.665804\" xlink:href=\"#md5a3fbaf4d\" y=\"17.793681\"/>\n     <use style=\"fill:#ff0000;fill-opacity:0.8;stroke:#ff0000;stroke-opacity:0.8;\" x=\"349.684943\" xlink:href=\"#md5a3fbaf4d\" y=\"17.231493\"/>\n    </g>\n   </g>\n   <g id=\"line2d_16\">\n    <path clip-path=\"url(#p95d92aa2ff)\" d=\"M 45.321307 189.833902 \nL 61.340446 194.20713 \nL 77.359584 197.890124 \nL 93.378723 200.905517 \nL 109.397862 203.144417 \nL 125.417001 205.650079 \nL 141.436139 207.693133 \nL 157.455278 208.957963 \nL 173.474417 209.705982 \nL 189.493556 210.187461 \nL 205.512694 210.319278 \nL 221.531833 209.964565 \nL 237.550972 209.88172 \nL 253.570111 209.802356 \nL 269.589249 209.480858 \nL 285.608388 209.411991 \nL 301.627527 209.332586 \nL 317.646666 208.858135 \nL 333.665804 208.718025 \nL 349.684943 208.549164 \n\" style=\"fill:none;stroke:#ffff00;stroke-linecap:square;stroke-opacity:0.8;\"/>\n    <defs>\n     <path d=\"M 0 3 \nC 0.795609 3 1.55874 2.683901 2.12132 2.12132 \nC 2.683901 1.55874 3 0.795609 3 0 \nC 3 -0.795609 2.683901 -1.55874 2.12132 -2.12132 \nC 1.55874 -2.683901 0.795609 -3 0 -3 \nC -0.795609 -3 -1.55874 -2.683901 -2.12132 -2.12132 \nC -2.683901 -1.55874 -3 -0.795609 -3 0 \nC -3 0.795609 -2.683901 1.55874 -2.12132 2.12132 \nC -1.55874 2.683901 -0.795609 3 0 3 \nz\n\" id=\"m67fc585648\" style=\"stroke:#ffff00;stroke-opacity:0.8;\"/>\n    </defs>\n    <g clip-path=\"url(#p95d92aa2ff)\">\n     <use style=\"fill:#ffff00;fill-opacity:0.8;stroke:#ffff00;stroke-opacity:0.8;\" x=\"45.321307\" xlink:href=\"#m67fc585648\" y=\"189.833902\"/>\n     <use style=\"fill:#ffff00;fill-opacity:0.8;stroke:#ffff00;stroke-opacity:0.8;\" x=\"61.340446\" xlink:href=\"#m67fc585648\" y=\"194.20713\"/>\n     <use style=\"fill:#ffff00;fill-opacity:0.8;stroke:#ffff00;stroke-opacity:0.8;\" x=\"77.359584\" xlink:href=\"#m67fc585648\" y=\"197.890124\"/>\n     <use style=\"fill:#ffff00;fill-opacity:0.8;stroke:#ffff00;stroke-opacity:0.8;\" x=\"93.378723\" xlink:href=\"#m67fc585648\" y=\"200.905517\"/>\n     <use style=\"fill:#ffff00;fill-opacity:0.8;stroke:#ffff00;stroke-opacity:0.8;\" x=\"109.397862\" xlink:href=\"#m67fc585648\" y=\"203.144417\"/>\n     <use style=\"fill:#ffff00;fill-opacity:0.8;stroke:#ffff00;stroke-opacity:0.8;\" x=\"125.417001\" xlink:href=\"#m67fc585648\" y=\"205.650079\"/>\n     <use style=\"fill:#ffff00;fill-opacity:0.8;stroke:#ffff00;stroke-opacity:0.8;\" x=\"141.436139\" xlink:href=\"#m67fc585648\" y=\"207.693133\"/>\n     <use style=\"fill:#ffff00;fill-opacity:0.8;stroke:#ffff00;stroke-opacity:0.8;\" x=\"157.455278\" xlink:href=\"#m67fc585648\" y=\"208.957963\"/>\n     <use style=\"fill:#ffff00;fill-opacity:0.8;stroke:#ffff00;stroke-opacity:0.8;\" x=\"173.474417\" xlink:href=\"#m67fc585648\" y=\"209.705982\"/>\n     <use style=\"fill:#ffff00;fill-opacity:0.8;stroke:#ffff00;stroke-opacity:0.8;\" x=\"189.493556\" xlink:href=\"#m67fc585648\" y=\"210.187461\"/>\n     <use style=\"fill:#ffff00;fill-opacity:0.8;stroke:#ffff00;stroke-opacity:0.8;\" x=\"205.512694\" xlink:href=\"#m67fc585648\" y=\"210.319278\"/>\n     <use style=\"fill:#ffff00;fill-opacity:0.8;stroke:#ffff00;stroke-opacity:0.8;\" x=\"221.531833\" xlink:href=\"#m67fc585648\" y=\"209.964565\"/>\n     <use style=\"fill:#ffff00;fill-opacity:0.8;stroke:#ffff00;stroke-opacity:0.8;\" x=\"237.550972\" xlink:href=\"#m67fc585648\" y=\"209.88172\"/>\n     <use style=\"fill:#ffff00;fill-opacity:0.8;stroke:#ffff00;stroke-opacity:0.8;\" x=\"253.570111\" xlink:href=\"#m67fc585648\" y=\"209.802356\"/>\n     <use style=\"fill:#ffff00;fill-opacity:0.8;stroke:#ffff00;stroke-opacity:0.8;\" x=\"269.589249\" xlink:href=\"#m67fc585648\" y=\"209.480858\"/>\n     <use style=\"fill:#ffff00;fill-opacity:0.8;stroke:#ffff00;stroke-opacity:0.8;\" x=\"285.608388\" xlink:href=\"#m67fc585648\" y=\"209.411991\"/>\n     <use style=\"fill:#ffff00;fill-opacity:0.8;stroke:#ffff00;stroke-opacity:0.8;\" x=\"301.627527\" xlink:href=\"#m67fc585648\" y=\"209.332586\"/>\n     <use style=\"fill:#ffff00;fill-opacity:0.8;stroke:#ffff00;stroke-opacity:0.8;\" x=\"317.646666\" xlink:href=\"#m67fc585648\" y=\"208.858135\"/>\n     <use style=\"fill:#ffff00;fill-opacity:0.8;stroke:#ffff00;stroke-opacity:0.8;\" x=\"333.665804\" xlink:href=\"#m67fc585648\" y=\"208.718025\"/>\n     <use style=\"fill:#ffff00;fill-opacity:0.8;stroke:#ffff00;stroke-opacity:0.8;\" x=\"349.684943\" xlink:href=\"#m67fc585648\" y=\"208.549164\"/>\n    </g>\n   </g>\n   <g id=\"line2d_17\">\n    <defs>\n     <path d=\"M 0 3 \nC 0.795609 3 1.55874 2.683901 2.12132 2.12132 \nC 2.683901 1.55874 3 0.795609 3 0 \nC 3 -0.795609 2.683901 -1.55874 2.12132 -2.12132 \nC 1.55874 -2.683901 0.795609 -3 0 -3 \nC -0.795609 -3 -1.55874 -2.683901 -2.12132 -2.12132 \nC -2.683901 -1.55874 -3 -0.795609 -3 0 \nC -3 0.795609 -2.683901 1.55874 -2.12132 2.12132 \nC -1.55874 2.683901 -0.795609 3 0 3 \nz\n\" id=\"mbdfb5e110a\" style=\"stroke:#000000;\"/>\n    </defs>\n    <g clip-path=\"url(#p95d92aa2ff)\">\n     <use style=\"stroke:#000000;\" x=\"189.493556\" xlink:href=\"#mbdfb5e110a\" y=\"210.319278\"/>\n    </g>\n   </g>\n   <g id=\"patch_3\">\n    <path d=\"M 30.103125 224.64 \nL 30.103125 7.2 \n\" style=\"fill:none;stroke:#000000;stroke-linecap:square;stroke-linejoin:miter;stroke-width:0.8;\"/>\n   </g>\n   <g id=\"patch_4\">\n    <path d=\"M 364.903125 224.64 \nL 364.903125 7.2 \n\" style=\"fill:none;stroke:#000000;stroke-linecap:square;stroke-linejoin:miter;stroke-width:0.8;\"/>\n   </g>\n   <g id=\"patch_5\">\n    <path d=\"M 30.103125 224.64 \nL 364.903125 224.64 \n\" style=\"fill:none;stroke:#000000;stroke-linecap:square;stroke-linejoin:miter;stroke-width:0.8;\"/>\n   </g>\n   <g id=\"patch_6\">\n    <path d=\"M 30.103125 7.2 \nL 364.903125 7.2 \n\" style=\"fill:none;stroke:#000000;stroke-linecap:square;stroke-linejoin:miter;stroke-width:0.8;\"/>\n   </g>\n   <g id=\"text_14\">\n    <!-- [10,0.0507] -->\n    <g transform=\"translate(189.493556 210.319278)scale(0.1 -0.1)\">\n     <defs>\n      <path d=\"M 8.59375 75.984375 \nL 29.296875 75.984375 \nL 29.296875 69 \nL 17.578125 69 \nL 17.578125 -6.203125 \nL 29.296875 -6.203125 \nL 29.296875 -13.1875 \nL 8.59375 -13.1875 \nz\n\" id=\"DejaVuSans-91\"/>\n      <path d=\"M 11.71875 12.40625 \nL 22.015625 12.40625 \nL 22.015625 4 \nL 14.015625 -11.625 \nL 7.71875 -11.625 \nL 11.71875 4 \nz\n\" id=\"DejaVuSans-44\"/>\n      <path d=\"M 30.421875 75.984375 \nL 30.421875 -13.1875 \nL 9.71875 -13.1875 \nL 9.71875 -6.203125 \nL 21.390625 -6.203125 \nL 21.390625 69 \nL 9.71875 69 \nL 9.71875 75.984375 \nz\n\" id=\"DejaVuSans-93\"/>\n     </defs>\n     <use xlink:href=\"#DejaVuSans-91\"/>\n     <use x=\"39.013672\" xlink:href=\"#DejaVuSans-49\"/>\n     <use x=\"102.636719\" xlink:href=\"#DejaVuSans-48\"/>\n     <use x=\"166.259766\" xlink:href=\"#DejaVuSans-44\"/>\n     <use x=\"198.046875\" xlink:href=\"#DejaVuSans-48\"/>\n     <use x=\"261.669922\" xlink:href=\"#DejaVuSans-46\"/>\n     <use x=\"293.457031\" xlink:href=\"#DejaVuSans-48\"/>\n     <use x=\"357.080078\" xlink:href=\"#DejaVuSans-53\"/>\n     <use x=\"420.703125\" xlink:href=\"#DejaVuSans-48\"/>\n     <use x=\"484.326172\" xlink:href=\"#DejaVuSans-55\"/>\n     <use x=\"547.949219\" xlink:href=\"#DejaVuSans-93\"/>\n    </g>\n   </g>\n   <g id=\"legend_1\">\n    <g id=\"patch_7\">\n     <path d=\"M 37.103125 59.234375 \nL 90.398438 59.234375 \nQ 92.398438 59.234375 92.398438 57.234375 \nL 92.398438 14.2 \nQ 92.398438 12.2 90.398438 12.2 \nL 37.103125 12.2 \nQ 35.103125 12.2 35.103125 14.2 \nL 35.103125 57.234375 \nQ 35.103125 59.234375 37.103125 59.234375 \nz\n\" style=\"fill:#ffffff;opacity:0.8;stroke:#cccccc;stroke-linejoin:miter;\"/>\n    </g>\n    <g id=\"line2d_18\">\n     <path d=\"M 39.103125 20.298437 \nL 59.103125 20.298437 \n\" style=\"fill:none;stroke:#0000ff;stroke-linecap:square;stroke-opacity:0.8;\"/>\n    </g>\n    <g id=\"line2d_19\">\n     <g>\n      <use style=\"fill:#0000ff;fill-opacity:0.8;stroke:#0000ff;stroke-opacity:0.8;\" x=\"49.103125\" xlink:href=\"#m615278d3aa\" y=\"20.298437\"/>\n     </g>\n    </g>\n    <g id=\"text_15\">\n     <!-- Bias -->\n     <g transform=\"translate(67.103125 23.798437)scale(0.1 -0.1)\">\n      <defs>\n       <path d=\"M 19.671875 34.8125 \nL 19.671875 8.109375 \nL 35.5 8.109375 \nQ 43.453125 8.109375 47.28125 11.40625 \nQ 51.125 14.703125 51.125 21.484375 \nQ 51.125 28.328125 47.28125 31.5625 \nQ 43.453125 34.8125 35.5 34.8125 \nz\nM 19.671875 64.796875 \nL 19.671875 42.828125 \nL 34.28125 42.828125 \nQ 41.5 42.828125 45.03125 45.53125 \nQ 48.578125 48.25 48.578125 53.8125 \nQ 48.578125 59.328125 45.03125 62.0625 \nQ 41.5 64.796875 34.28125 64.796875 \nz\nM 9.8125 72.90625 \nL 35.015625 72.90625 \nQ 46.296875 72.90625 52.390625 68.21875 \nQ 58.5 63.53125 58.5 54.890625 \nQ 58.5 48.1875 55.375 44.234375 \nQ 52.25 40.28125 46.1875 39.3125 \nQ 53.46875 37.75 57.5 32.78125 \nQ 61.53125 27.828125 61.53125 20.40625 \nQ 61.53125 10.640625 54.890625 5.3125 \nQ 48.25 0 35.984375 0 \nL 9.8125 0 \nz\n\" id=\"DejaVuSans-66\"/>\n       <path d=\"M 9.421875 54.6875 \nL 18.40625 54.6875 \nL 18.40625 0 \nL 9.421875 0 \nz\nM 9.421875 75.984375 \nL 18.40625 75.984375 \nL 18.40625 64.59375 \nL 9.421875 64.59375 \nz\n\" id=\"DejaVuSans-105\"/>\n       <path d=\"M 34.28125 27.484375 \nQ 23.390625 27.484375 19.1875 25 \nQ 14.984375 22.515625 14.984375 16.5 \nQ 14.984375 11.71875 18.140625 8.90625 \nQ 21.296875 6.109375 26.703125 6.109375 \nQ 34.1875 6.109375 38.703125 11.40625 \nQ 43.21875 16.703125 43.21875 25.484375 \nL 43.21875 27.484375 \nz\nM 52.203125 31.203125 \nL 52.203125 0 \nL 43.21875 0 \nL 43.21875 8.296875 \nQ 40.140625 3.328125 35.546875 0.953125 \nQ 30.953125 -1.421875 24.3125 -1.421875 \nQ 15.921875 -1.421875 10.953125 3.296875 \nQ 6 8.015625 6 15.921875 \nQ 6 25.140625 12.171875 29.828125 \nQ 18.359375 34.515625 30.609375 34.515625 \nL 43.21875 34.515625 \nL 43.21875 35.40625 \nQ 43.21875 41.609375 39.140625 45 \nQ 35.0625 48.390625 27.6875 48.390625 \nQ 23 48.390625 18.546875 47.265625 \nQ 14.109375 46.140625 10.015625 43.890625 \nL 10.015625 52.203125 \nQ 14.9375 54.109375 19.578125 55.046875 \nQ 24.21875 56 28.609375 56 \nQ 40.484375 56 46.34375 49.84375 \nQ 52.203125 43.703125 52.203125 31.203125 \nz\n\" id=\"DejaVuSans-97\"/>\n       <path d=\"M 44.28125 53.078125 \nL 44.28125 44.578125 \nQ 40.484375 46.53125 36.375 47.5 \nQ 32.28125 48.484375 27.875 48.484375 \nQ 21.1875 48.484375 17.84375 46.4375 \nQ 14.5 44.390625 14.5 40.28125 \nQ 14.5 37.15625 16.890625 35.375 \nQ 19.28125 33.59375 26.515625 31.984375 \nL 29.59375 31.296875 \nQ 39.15625 29.25 43.1875 25.515625 \nQ 47.21875 21.78125 47.21875 15.09375 \nQ 47.21875 7.46875 41.1875 3.015625 \nQ 35.15625 -1.421875 24.609375 -1.421875 \nQ 20.21875 -1.421875 15.453125 -0.5625 \nQ 10.6875 0.296875 5.421875 2 \nL 5.421875 11.28125 \nQ 10.40625 8.6875 15.234375 7.390625 \nQ 20.0625 6.109375 24.8125 6.109375 \nQ 31.15625 6.109375 34.5625 8.28125 \nQ 37.984375 10.453125 37.984375 14.40625 \nQ 37.984375 18.0625 35.515625 20.015625 \nQ 33.0625 21.96875 24.703125 23.78125 \nL 21.578125 24.515625 \nQ 13.234375 26.265625 9.515625 29.90625 \nQ 5.8125 33.546875 5.8125 39.890625 \nQ 5.8125 47.609375 11.28125 51.796875 \nQ 16.75 56 26.8125 56 \nQ 31.78125 56 36.171875 55.265625 \nQ 40.578125 54.546875 44.28125 53.078125 \nz\n\" id=\"DejaVuSans-115\"/>\n      </defs>\n      <use xlink:href=\"#DejaVuSans-66\"/>\n      <use x=\"68.603516\" xlink:href=\"#DejaVuSans-105\"/>\n      <use x=\"96.386719\" xlink:href=\"#DejaVuSans-97\"/>\n      <use x=\"157.666016\" xlink:href=\"#DejaVuSans-115\"/>\n     </g>\n    </g>\n    <g id=\"line2d_20\">\n     <path d=\"M 39.103125 34.976562 \nL 59.103125 34.976562 \n\" style=\"fill:none;stroke:#ff0000;stroke-linecap:square;stroke-opacity:0.8;\"/>\n    </g>\n    <g id=\"line2d_21\">\n     <g>\n      <use style=\"fill:#ff0000;fill-opacity:0.8;stroke:#ff0000;stroke-opacity:0.8;\" x=\"49.103125\" xlink:href=\"#md5a3fbaf4d\" y=\"34.976562\"/>\n     </g>\n    </g>\n    <g id=\"text_16\">\n     <!-- Var -->\n     <g transform=\"translate(67.103125 38.476562)scale(0.1 -0.1)\">\n      <defs>\n       <path d=\"M 28.609375 0 \nL 0.78125 72.90625 \nL 11.078125 72.90625 \nL 34.1875 11.53125 \nL 57.328125 72.90625 \nL 67.578125 72.90625 \nL 39.796875 0 \nz\n\" id=\"DejaVuSans-86\"/>\n       <path d=\"M 41.109375 46.296875 \nQ 39.59375 47.171875 37.8125 47.578125 \nQ 36.03125 48 33.890625 48 \nQ 26.265625 48 22.1875 43.046875 \nQ 18.109375 38.09375 18.109375 28.8125 \nL 18.109375 0 \nL 9.078125 0 \nL 9.078125 54.6875 \nL 18.109375 54.6875 \nL 18.109375 46.1875 \nQ 20.953125 51.171875 25.484375 53.578125 \nQ 30.03125 56 36.53125 56 \nQ 37.453125 56 38.578125 55.875 \nQ 39.703125 55.765625 41.0625 55.515625 \nz\n\" id=\"DejaVuSans-114\"/>\n      </defs>\n      <use xlink:href=\"#DejaVuSans-86\"/>\n      <use x=\"60.658203\" xlink:href=\"#DejaVuSans-97\"/>\n      <use x=\"121.9375\" xlink:href=\"#DejaVuSans-114\"/>\n     </g>\n    </g>\n    <g id=\"line2d_22\">\n     <path d=\"M 39.103125 49.654687 \nL 59.103125 49.654687 \n\" style=\"fill:none;stroke:#ffff00;stroke-linecap:square;stroke-opacity:0.8;\"/>\n    </g>\n    <g id=\"line2d_23\">\n     <g>\n      <use style=\"fill:#ffff00;fill-opacity:0.8;stroke:#ffff00;stroke-opacity:0.8;\" x=\"49.103125\" xlink:href=\"#m67fc585648\" y=\"49.654687\"/>\n     </g>\n    </g>\n    <g id=\"text_17\">\n     <!-- MSE -->\n     <g transform=\"translate(67.103125 53.154687)scale(0.1 -0.1)\">\n      <defs>\n       <path d=\"M 9.8125 72.90625 \nL 24.515625 72.90625 \nL 43.109375 23.296875 \nL 61.8125 72.90625 \nL 76.515625 72.90625 \nL 76.515625 0 \nL 66.890625 0 \nL 66.890625 64.015625 \nL 48.09375 14.015625 \nL 38.1875 14.015625 \nL 19.390625 64.015625 \nL 19.390625 0 \nL 9.8125 0 \nz\n\" id=\"DejaVuSans-77\"/>\n       <path d=\"M 53.515625 70.515625 \nL 53.515625 60.890625 \nQ 47.90625 63.578125 42.921875 64.890625 \nQ 37.9375 66.21875 33.296875 66.21875 \nQ 25.25 66.21875 20.875 63.09375 \nQ 16.5 59.96875 16.5 54.203125 \nQ 16.5 49.359375 19.40625 46.890625 \nQ 22.3125 44.4375 30.421875 42.921875 \nL 36.375 41.703125 \nQ 47.40625 39.59375 52.65625 34.296875 \nQ 57.90625 29 57.90625 20.125 \nQ 57.90625 9.515625 50.796875 4.046875 \nQ 43.703125 -1.421875 29.984375 -1.421875 \nQ 24.8125 -1.421875 18.96875 -0.25 \nQ 13.140625 0.921875 6.890625 3.21875 \nL 6.890625 13.375 \nQ 12.890625 10.015625 18.65625 8.296875 \nQ 24.421875 6.59375 29.984375 6.59375 \nQ 38.421875 6.59375 43.015625 9.90625 \nQ 47.609375 13.234375 47.609375 19.390625 \nQ 47.609375 24.75 44.3125 27.78125 \nQ 41.015625 30.8125 33.5 32.328125 \nL 27.484375 33.5 \nQ 16.453125 35.6875 11.515625 40.375 \nQ 6.59375 45.0625 6.59375 53.421875 \nQ 6.59375 63.09375 13.40625 68.65625 \nQ 20.21875 74.21875 32.171875 74.21875 \nQ 37.3125 74.21875 42.625 73.28125 \nQ 47.953125 72.359375 53.515625 70.515625 \nz\n\" id=\"DejaVuSans-83\"/>\n       <path d=\"M 9.8125 72.90625 \nL 55.90625 72.90625 \nL 55.90625 64.59375 \nL 19.671875 64.59375 \nL 19.671875 43.015625 \nL 54.390625 43.015625 \nL 54.390625 34.71875 \nL 19.671875 34.71875 \nL 19.671875 8.296875 \nL 56.78125 8.296875 \nL 56.78125 0 \nL 9.8125 0 \nz\n\" id=\"DejaVuSans-69\"/>\n      </defs>\n      <use xlink:href=\"#DejaVuSans-77\"/>\n      <use x=\"86.279297\" xlink:href=\"#DejaVuSans-83\"/>\n      <use x=\"149.755859\" xlink:href=\"#DejaVuSans-69\"/>\n     </g>\n    </g>\n   </g>\n  </g>\n </g>\n <defs>\n  <clipPath id=\"p95d92aa2ff\">\n   <rect height=\"217.44\" width=\"334.8\" x=\"30.103125\" y=\"7.2\"/>\n  </clipPath>\n </defs>\n</svg>\n",
      "image/png": "[encoded data removed]"
     },
     "metadata": {
      "needs_background": "light"
     }
    }
   ],
   "source": [
    "import matplotlib.pyplot as plt\n",
    "import numpy as np\n",
    "import matplotlib.pyplot as plt\n",
    "import numpy as np\n",
    "# plt.plot(p,bias_list)\n",
    "# plt.plot(p,var_list)\n",
    "# # plt.plot(p,mse_list)\n",
    "plt.plot(p, bias_list, 'ro-', color='blue', alpha=0.8, linewidth=1, label=\"Bias\")\n",
    "plt.plot(p, var_list, 'ro-', color='red', alpha=0.8, linewidth=1, label='Var')\n",
    "plt.plot(p, mse_list, 'ro-', color='yellow', alpha=0.8, linewidth=1, label='MSE')\n",
    "MSE_min=np.argmin(np.array(mse_list))\n",
    "plt.legend()\n",
    "plt.plot(MSE_min,mse_list[MSE_min],'ko') \n",
    "show_min='['+str(MSE_min)+','+str(round(mse_list[MSE_min],4))+']'\n",
    "plt.annotate(show_min,xy=(MSE_min,mse_list[MSE_min]),xytext=(MSE_min,mse_list[MSE_min]))"
   ]
  },
  {
   "cell_type": "code",
   "execution_count": null,
   "metadata": {},
   "outputs": [],
   "source": []
  }
 ]
}